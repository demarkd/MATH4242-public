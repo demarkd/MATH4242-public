{
 "cells": [
  {
   "cell_type": "markdown",
   "id": "13e646ed",
   "metadata": {},
   "source": [
    "# Activity 4: Gram-Schmidt and the QR factorization\n",
    "## Reminders\n",
    "In this exercise, we'll be writing code to transform arbitrary bases of $\\mathbb{R}^n$ into orthogonal bases with the Gram-Schmidt process.\n",
    "We'll start by reviewing some built-in functions that will be helpful."
   ]
  },
  {
   "cell_type": "code",
   "execution_count": null,
   "id": "25d7525a",
   "metadata": {},
   "outputs": [],
   "source": [
    "import numpy as np"
   ]
  },
  {
   "cell_type": "markdown",
   "id": "34a1d7bb",
   "metadata": {},
   "source": [
    "Recall that slices allow us to work directly with columns and (in most ways) treat them as vectors. Given a numpy `array` `A`, we can extract its columns using slicing. Here are a few quick examples."
   ]
  },
  {
   "cell_type": "code",
   "execution_count": null,
   "id": "ff0bb697",
   "metadata": {},
   "outputs": [],
   "source": [
    "A=np.array([[2., 1., 0., 0.],\n",
    "       [3., 2., 1., 0.],\n",
    "       [0., 3., 2., 1.],\n",
    "       [0., 0., 3., 2.]])\n",
    "A[:,0] #first column"
   ]
  },
  {
   "cell_type": "markdown",
   "id": "46cb41cf",
   "metadata": {},
   "source": [
    "Note that slicing gives us a *view* rather than a *copy*. If what we really want is a copy, we can call the `copy()` method"
   ]
  },
  {
   "cell_type": "code",
   "execution_count": null,
   "id": "0c642b19",
   "metadata": {},
   "outputs": [],
   "source": [
    "A[:,0]=A[:,0]*(-2) #multiply the first column by -2\n",
    "A #Now note that indeed the first column is altered"
   ]
  },
  {
   "cell_type": "code",
   "execution_count": null,
   "id": "b3a82217",
   "metadata": {},
   "outputs": [],
   "source": [
    "v=A[:,1].copy() #call a copy of the second column\n",
    "v[3]=5 #change the last entry of v to 5\n",
    "A #check if A has changed"
   ]
  },
  {
   "cell_type": "markdown",
   "id": "cd03653f",
   "metadata": {},
   "source": [
    "## The Gram-Schmidt process\n",
    "Now, we'll implement the Gram-Schmidt process.\n",
    "We'll take the columns of an input matrix to be the basis we start with.\n",
    "That is, in the notation of section 4.2 of Olver-Shakiban, we'll take the columns `A[0]`, `A[1]`, ... , `A[n-1]` of our `A` to be $\\vec{w}_1,\\dots, \\vec{w}_n$.\n",
    "Our output will be a new matrix `Q` wtih columns given by the Gram-Schmidt process. In the notation of section 4.2, these are $\\vec{v}_1,\\dots,\\vec{v}_n$.\n",
    "\n",
    "For our first pass of the Gram-Schmidt process, write a function which impliments the Gram-Schmidt process for a  matrix `A` with linearly independent columns using the Gram-Schmidt formula.\n",
    "You may do this however you like, but an outline is given in the hint below.\n",
    "<details>\n",
    "    <summary> <b> Hint: </b> (Click here to expand) </summary>\n",
    "    \n",
    "* Set `n` to be the number of *columns* in `A`.\n",
    "* Initialize a new matrix `Q` in the shape of `A`.\n",
    "* Iterate over `j` in `range(n)` parametrizing which column we are working with.\n",
    "* Adapt the formula $$\\vec{v}_j=\\vec{w}_j-\\sum_{i=1}^{j-1} \\frac{\\langle \\vec{w}_j,\\vec{v_i}\\rangle}{\\langle \\vec{v}_i,\\vec{v}_i\\rangle}\\vec{v}_i$$ to the naming and indexing established and use it to set the column `Q[j]`.\n",
    "* Return the matrix `Q`.\n",
    "    </details>"
   ]
  },
  {
   "cell_type": "code",
   "execution_count": null,
   "id": "8f811486",
   "metadata": {},
   "outputs": [],
   "source": [
    "def my_GS(A):\n",
    "    #your code here\n",
    "    return Q"
   ]
  },
  {
   "cell_type": "code",
   "execution_count": null,
   "id": "3f23b41e",
   "metadata": {},
   "outputs": [],
   "source": [
    "#testing\n",
    "A=np.array([[1,2,3],\n",
    "            [4,5,6],\n",
    "            [1,-1,1],\n",
    "            [0,-2,-1]],\"float64\")\n",
    "Q=my_GS(A)\n",
    "Q,np.dot(np.transpose(Q),Q)\n",
    "#Desired output:\n",
    "#(array([[ 1.        ,  0.83333333,  1.06432749],\n",
    "#       [ 4.        ,  0.33333333, -0.37426901],\n",
    "#       [ 1.        , -2.16666667,  0.43274854],\n",
    "#       [ 0.        , -2.        , -0.0877193 ]]),\n",
    "# array([[ 1.80000000e+01, -1.77635684e-15, -2.22044605e-16],\n",
    "#        [-1.77635684e-15,  9.50000000e+00,  1.52655666e-15],\n",
    "#        [-2.22044605e-16,  1.52655666e-15,  1.46783626e+00]]))"
   ]
  },
  {
   "cell_type": "markdown",
   "id": "2e80fcbb",
   "metadata": {},
   "source": [
    "Your code should run and give a valid result whether `A` is square or not..\n",
    "Now, copy and modify your code to give an orthonormal basis. That is, after finding each $\\vec{v}_i$, set $\\vec u_i=\\vec v_i/\\lVert{\\vec v_i}\\rVert$ and let the output matrix's columns `Q[0]`,`Q[1]`,...,`Q[n-1]` be $\\vec u_1,\\dots , \\vec U_n$.\n",
    "\n",
    "You'll likely find the built-in `numpy` command `np.linalg.norm` useful!"
   ]
  },
  {
   "cell_type": "code",
   "execution_count": null,
   "id": "c34e08ff",
   "metadata": {},
   "outputs": [],
   "source": [
    "def my_GS_normalized(A):\n",
    "    #your code here\n",
    "    return Q"
   ]
  },
  {
   "cell_type": "code",
   "execution_count": null,
   "id": "567e2ee1",
   "metadata": {},
   "outputs": [],
   "source": [
    "#testing\n",
    "A=np.array([[1,2,3],\n",
    "            [4,5,6],\n",
    "            [1,-1,1],\n",
    "            [0,-2,-1]],\"float64\")\n",
    "Q=my_GS_normalized(A)\n",
    "Q,np.dot(np.transpose(Q),Q)\n",
    "#Desired output:\n",
    "#(array([[ 0.23570226,  0.27036904,  0.87848929],\n",
    "#        [ 0.94280904,  0.10814761, -0.30891931],\n",
    "#        [ 0.23570226, -0.70295949,  0.35718795],\n",
    "#        [ 0.        , -0.64888568, -0.07240296]]),\n",
    "# array([[ 1.00000000e+00, -1.36129200e-16, -7.70383744e-16],\n",
    "#        [-1.36129200e-16,  1.00000000e+00,  4.73463928e-16],\n",
    "#        [-7.70383744e-16,  4.73463928e-16,  1.00000000e+00]]))"
   ]
  },
  {
   "cell_type": "markdown",
   "id": "1b37a12d",
   "metadata": {},
   "source": [
    "## Exercise 1: Error Handling\n",
    "Modify your functions to `raise` an `exception` when a linearly independent set is given as input. These should take an additional parameter `tolerance` (which is set by default to `10**(-10)`) such that we ignore any variation of magnitude less than `tolerance` (how can you make that instruction precise?)"
   ]
  },
  {
   "cell_type": "code",
   "execution_count": null,
   "id": "f17c2f1e",
   "metadata": {},
   "outputs": [],
   "source": [
    "def my_GS_safe(A,tolerance=10**(-10)):\n",
    "    #your code here\n",
    "    return Q\n",
    "def my_GS_normalized_safe(A,tolerance=10**(-10)):\n",
    "    #your code here\n",
    "    return Q"
   ]
  },
  {
   "cell_type": "code",
   "execution_count": null,
   "id": "818ed5cf",
   "metadata": {},
   "outputs": [],
   "source": [
    "#testing\n",
    "A1=np.array([[1,2,3],\n",
    "            [4,5,6],\n",
    "            [1,-1,1],\n",
    "            [0,-2,-1]],\"float64\")\n",
    "A2=np.array([[1,2,3,0],\n",
    "            [4,5,6,3],\n",
    "            [1,-1,1,-1],\n",
    "            [0,-2,-1,-1]],\"float64\")\n",
    "P1=my_GS_safe(A1)\n",
    "print(P1)\n",
    "P2=my_GS_safe(A2)\n",
    "print(P2)\n",
    "#Desired Output:\n",
    "#[[ 1.          0.83333333  1.06432749]\n",
    "# [ 4.          0.33333333 -0.37426901]\n",
    "# [ 1.         -2.16666667  0.43274854]\n",
    "# [ 0.         -2.         -0.0877193 ]]\n",
    "#---------------------------------------------------------------------------\n",
    "#Exception   \n",
    "# ...\n",
    "# Linearly dependent input"
   ]
  },
  {
   "cell_type": "code",
   "execution_count": null,
   "id": "901a7e57",
   "metadata": {},
   "outputs": [],
   "source": [
    "#more testing\n",
    "A1=np.array([[1,2,3],\n",
    "            [4,5,6],\n",
    "            [1,-1,1],\n",
    "            [0,-2,-1]],\"float64\")\n",
    "A2=np.array([[1,2,3,0],\n",
    "            [4,5,6,3],\n",
    "            [1,-1,1,-1],\n",
    "            [0,-2,-1,-1]],\"float64\")\n",
    "Q1=my_GS_normalized_safe(A1)\n",
    "print(Q1)\n",
    "Q2=my_GS_normalized_safe(A2)\n",
    "print(Q2)\n",
    "#Desired output:\n",
    "#[[ 0.23570226  0.27036904  0.87848929]\n",
    "# [ 0.94280904  0.10814761 -0.30891931]\n",
    "# [ 0.23570226 -0.70295949  0.35718795]\n",
    "# [ 0.         -0.64888568 -0.07240296]]\n",
    "#\n",
    "#---------------------------------------------------------------------------\n",
    "#Exception\n",
    "#...\n",
    "#Exception: Linearly dependent input"
   ]
  },
  {
   "cell_type": "markdown",
   "id": "c1ae0ecc",
   "metadata": {},
   "source": [
    "## Exercise 2: The QR Factorization"
   ]
  },
  {
   "cell_type": "markdown",
   "id": "a67a3573",
   "metadata": {},
   "source": [
    "Now, we want to modify our code once more to produce a QR factorization of a square input matrix. Note that `my_GS_normalized` already produces an orthogonal matrix `Q` as its output given square nonsingular input. \n",
    "\n",
    "**Exercise:** Modify `my_GS_normalized` to produce a QR factorization of a square input matrix `A`. The process is described on pages 197-8 of Olver-Shakiban. Be sure to check your code with tests--we should have that $A=QR$ and that $QQ^T=I$"
   ]
  },
  {
   "cell_type": "code",
   "execution_count": null,
   "id": "024e4bcc",
   "metadata": {},
   "outputs": [],
   "source": [
    "def my_QR(A):\n",
    "    #your code here\n",
    "    return (Q,R)"
   ]
  },
  {
   "cell_type": "code",
   "execution_count": null,
   "id": "fa324e9c",
   "metadata": {},
   "outputs": [],
   "source": [
    "#testing\n",
    "A3=np.array([[1,2,3],\n",
    "            [4,5,6],\n",
    "            [1,-1,1]],\"float64\")\n",
    "Q3,R3=my_QR(A3)\n",
    "A3,Q3,R3,np.dot(Q3,R3),np.dot(np.transpose(Q3),Q3)\n",
    "#Desired output:\n",
    "#(array([[ 1.,  2.,  3.],\n",
    "#        [ 4.,  5.,  6.],\n",
    "#        [ 1., -1.,  1.]]),\n",
    "# array([[ 0.23570226,  0.35533453,  0.90453403],\n",
    "#        [ 0.94280904,  0.14213381, -0.30151134],\n",
    "#        [ 0.23570226, -0.92386977,  0.30151134]]),\n",
    "# array([[4.24264069, 4.94974747, 6.59966329],\n",
    "#        [0.        , 2.34520788, 0.99493668],\n",
    "#        [0.        , 0.        , 1.20604538]]),\n",
    "# array([[ 1.,  2.,  3.],\n",
    "#        [ 4.,  5.,  6.],\n",
    "#        [ 1., -1.,  1.]]),\n",
    "# array([[ 1.00000000e+00, -5.25448946e-16, -4.12858351e-16],\n",
    "#        [-5.25448946e-16,  1.00000000e+00, -9.74257535e-18],\n",
    "#        [-4.12858351e-16, -9.74257535e-18,  1.00000000e+00]]))"
   ]
  },
  {
   "cell_type": "markdown",
   "id": "ecdc8be3",
   "metadata": {},
   "source": [
    "## Exercise 3: Orthogonal Projection\n",
    "Recall from Olver-Shakiban:\n",
    "**Definition 4.31.** The *orthogonal projection* of $\\vec v$ onto the subspace $W$ is the element $\\vec w \\in W$ such that $\\vec z = \\vec v - \\vec w$ is orthogonal to $W$.\n",
    "\n",
    "Note that Theorem 4.32 below it gives a formula for $\\vec w$ in terms of an orthonormal basis for $W$.\n",
    "\n",
    "**Exercise** Given a basis for $W$ (in the form of the columns of an array `A`) and a vector `v`, write a function `my_projection` which outputs the orthogonal projection `w` of `v` onto `W`."
   ]
  },
  {
   "cell_type": "code",
   "execution_count": null,
   "id": "4ad7b1b6",
   "metadata": {},
   "outputs": [],
   "source": [
    "def my_projection(A,v):\n",
    "    #YOUR CODE GOES HERE\n",
    "    return w"
   ]
  },
  {
   "cell_type": "code",
   "execution_count": null,
   "id": "199953f9",
   "metadata": {},
   "outputs": [],
   "source": [
    "#testing\n",
    "A1=np.array([[1,2,3],\n",
    "            [4,5,6],\n",
    "            [1,-1,1],\n",
    "            [0,-2,-1]],\"float64\")\n",
    "v=np.array([1,0,0,0],\"float64\")\n",
    "w=my_projection(A1,v)\n",
    "z=v-w\n",
    "w,z,np.dot(np.transpose(A1),z)\n",
    "#Desired output:\n",
    "#(array([ 0.90039841, -0.01992032,  0.17928287, -0.23904382]),\n",
    "# array([ 0.09960159,  0.01992032, -0.17928287,  0.23904382]),\n",
    "# array([2.72004641e-15, 1.83186799e-15, 3.83026943e-15]))\n",
    "#(or something very close to zero for the third line)"
   ]
  },
  {
   "cell_type": "markdown",
   "id": "3b41e564",
   "metadata": {},
   "source": [
    "## Exercise 4: what would be reasonable to put here?\n",
    "The author of this notebook is sort of struggling to come up with a third exercise which (a) is in line with the typical curriculum of 4242 and (b) includes some more challenging component which can be made optional and will keep the students who already know python busy\n",
    "\n",
    "**Exercise:** Write an exercise that meets those conditions"
   ]
  },
  {
   "cell_type": "code",
   "execution_count": null,
   "id": "bdd4ac0f",
   "metadata": {},
   "outputs": [],
   "source": []
  }
 ],
 "metadata": {
  "kernelspec": {
   "display_name": "Python 3 (ipykernel)",
   "language": "python",
   "name": "python3"
  },
  "language_info": {
   "codemirror_mode": {
    "name": "ipython",
    "version": 3
   },
   "file_extension": ".py",
   "mimetype": "text/x-python",
   "name": "python",
   "nbconvert_exporter": "python",
   "pygments_lexer": "ipython3",
   "version": "3.10.12"
  }
 },
 "nbformat": 4,
 "nbformat_minor": 5
}
