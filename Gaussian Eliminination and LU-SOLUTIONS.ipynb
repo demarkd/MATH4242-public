{
 "cells": [
  {
   "cell_type": "markdown",
   "id": "05981bd6",
   "metadata": {},
   "source": [
    "# Activity 2:\n",
    "## Gaussian Eliminiation and LU Factorizations"
   ]
  },
  {
   "cell_type": "code",
   "execution_count": 2,
   "id": "2d70efc4",
   "metadata": {},
   "outputs": [],
   "source": [
    "import numpy as np"
   ]
  },
  {
   "cell_type": "markdown",
   "id": "67902316",
   "metadata": {},
   "source": [
    "In this activity, we will work to build an LU factorization algorithm from the ground up using only the most basic of built-in numpy commands. First, we'll review some array manipulation."
   ]
  },
  {
   "cell_type": "code",
   "execution_count": 3,
   "id": "debb8ef2",
   "metadata": {},
   "outputs": [],
   "source": [
    "A=np.array([[1,2,4,-3],[2,6,1,7],[-0.5,9,3,3],[-1,2,-4,3]])"
   ]
  },
  {
   "cell_type": "markdown",
   "id": "a1f3076b",
   "metadata": {},
   "source": [
    "You can change the elements of an array individually like so:"
   ]
  },
  {
   "cell_type": "code",
   "execution_count": 4,
   "id": "e7e3c37d",
   "metadata": {},
   "outputs": [
    {
     "name": "stdout",
     "output_type": "stream",
     "text": [
      "B=\n",
      " [[ 1.   2.   4.  -3. ]\n",
      " [ 2.   6.   1.   7. ]\n",
      " [-0.5  9.   3.   3. ]\n",
      " [-1.   2.  -4.   3. ]]\n",
      "B=\n",
      " [[-99.    2.    4.   -3. ]\n",
      " [  2.    6.    1.    7. ]\n",
      " [ -0.5   9.    3.   99. ]\n",
      " [ -1.    2.   -4.    3. ]]\n"
     ]
    }
   ],
   "source": [
    "B=A.copy()\n",
    "print(\"B=\\n\",B)\n",
    "B[0][0]=-99\n",
    "B[2][3]=99\n",
    "print(\"B=\\n\",B)"
   ]
  },
  {
   "cell_type": "markdown",
   "id": "ab24dad3",
   "metadata": {},
   "source": [
    "(recall the python indexing conventions: the top row/leftmost column are row/column zero)\n",
    "\n",
    "Arithmetic operations performed on arrays (or rows of arrays)are performed element-wise. For example:"
   ]
  },
  {
   "cell_type": "code",
   "execution_count": 5,
   "id": "bb593add",
   "metadata": {},
   "outputs": [
    {
     "name": "stdout",
     "output_type": "stream",
     "text": [
      "A=\n",
      " [[ 1.   2.   4.  -3. ]\n",
      " [ 2.   6.   1.   7. ]\n",
      " [-0.5  9.   3.   3. ]\n",
      " [-1.   2.  -4.   3. ]] \n",
      "B=\n",
      " [[ 1.   2.   4.  -3. ]\n",
      " [ 2.   6.   1.   7. ]\n",
      " [-0.5  9.   3.   3. ]\n",
      " [-2.  36.  12.  12. ]]\n",
      "C=\n",
      " [[ -2.   -6.  -12.    9. ]\n",
      " [ -6.  -17.   -3.  -21. ]\n",
      " [  1.5 -27.   -8.   -9. ]\n",
      " [  3.   -6.   12.   -8. ]]\n"
     ]
    }
   ],
   "source": [
    "B=A.copy()\n",
    "B[3]=4*A[2] #change the fourth row of B to be four tiems the third row of A\n",
    "print(\"A=\\n\", A,\"\\nB=\\n\",B) #display A and B readably\n",
    "C=np.identity(4)-3*A #construct a new matrix given as the difference between the identity matrix and 4 times A\n",
    "print(\"C=\\n\",C) #display C readably\n"
   ]
  },
  {
   "cell_type": "markdown",
   "id": "c7dc726d",
   "metadata": {},
   "source": [
    "You can also reference rows or elements of the same array."
   ]
  },
  {
   "cell_type": "code",
   "execution_count": 6,
   "id": "c87bd420",
   "metadata": {},
   "outputs": [
    {
     "name": "stdout",
     "output_type": "stream",
     "text": [
      "B=\n",
      " [[ 1.   2.   4.  -3. ]\n",
      " [ 2.   6.   1.   7. ]\n",
      " [-0.5  9.   3.   3. ]\n",
      " [-1.   2.  -4.   3. ]]\n",
      "B=\n",
      " [[ 6.  18.   3.  21. ]\n",
      " [ 2.   6.   1.   7. ]\n",
      " [-0.5  9.   3.   3. ]\n",
      " [-1.   2.  -4.   3. ]]\n",
      "B=\n",
      " [[  6.   18.    3.   21. ]\n",
      " [ 42.  126.   21.  147. ]\n",
      " [ -0.5   9.    3.    3. ]\n",
      " [ -1.    2.   -4.    3. ]]\n"
     ]
    }
   ],
   "source": [
    "B=A.copy()\n",
    "print(\"B=\\n\",B)\n",
    "B[0]=3*B[1]\n",
    "print(\"B=\\n\",B)\n",
    "B[1]=B[0][3]*B[1]\n",
    "print(\"B=\\n\",B)"
   ]
  },
  {
   "cell_type": "markdown",
   "id": "827f3c65",
   "metadata": {},
   "source": [
    "You can also swap rows of an array by calling a list of indices."
   ]
  },
  {
   "cell_type": "code",
   "execution_count": 10,
   "id": "d5d7a9ec",
   "metadata": {},
   "outputs": [
    {
     "name": "stdout",
     "output_type": "stream",
     "text": [
      "B=\n",
      " [[ 1.   2.   4.  -3. ]\n",
      " [ 2.   6.   1.   7. ]\n",
      " [-0.5  9.   3.   3. ]\n",
      " [-1.   2.  -4.   3. ]]\n",
      "B=\n",
      " [[-1.   2.  -4.   3. ]\n",
      " [ 2.   6.   1.   7. ]\n",
      " [-0.5  9.   3.   3. ]\n",
      " [ 1.   2.   4.  -3. ]]\n",
      "B=\n",
      " [[-1.   2.  -4.   3. ]\n",
      " [ 1.   2.   4.  -3. ]\n",
      " [ 2.   6.   1.   7. ]\n",
      " [-0.5  9.   3.   3. ]]\n"
     ]
    }
   ],
   "source": [
    "B=A.copy()\n",
    "print(\"B=\\n\",B)\n",
    "B[[0,3]]=B[[3,0]] #read this as \"set the 0th row and the 3rd row of B to be the 3rd and 0th rows of B\"\n",
    "print(\"B=\\n\",B)\n",
    "B[[1,2,3]]=B[[3,1,2]]\n",
    "print(\"B=\\n\",B)"
   ]
  },
  {
   "cell_type": "markdown",
   "id": "8fdc4f08",
   "metadata": {},
   "source": [
    "You try: copy $A$ (from above) to a new array $B$. move the bottom row to the top and shift the other rows down. Then, negate the new bottom row and multiply the new top row by $2$. Then, let $C=B-A$."
   ]
  },
  {
   "cell_type": "code",
   "execution_count": 13,
   "id": "8e2bc4bc",
   "metadata": {},
   "outputs": [
    {
     "name": "stdout",
     "output_type": "stream",
     "text": [
      "A=\n",
      " [[ 1.   2.   4.  -3. ]\n",
      " [ 2.   6.   1.   7. ]\n",
      " [-0.5  9.   3.   3. ]\n",
      " [-1.   2.  -4.   3. ]] \n",
      "B=\n",
      " [[-2.   4.  -8.   6. ]\n",
      " [ 1.   2.   4.  -3. ]\n",
      " [ 2.   6.   1.   7. ]\n",
      " [ 0.5 -9.  -3.  -3. ]] \n",
      "C=\n",
      " [[ -3.    2.  -12.    9. ]\n",
      " [ -1.   -4.    3.  -10. ]\n",
      " [  2.5  -3.   -2.    4. ]\n",
      " [  1.5 -11.    1.   -6. ]]\n"
     ]
    }
   ],
   "source": [
    "B=A.copy()\n",
    "B[[0,1,2,3]]=B[[3,0,1,2]]\n",
    "B[3]=-B[3]\n",
    "B[0]=2*B[0]\n",
    "\n",
    "C=B-A\n",
    "\n",
    "print(\"A=\\n\",A,\"\\nB=\\n\",B,\"\\nC=\\n\",C)\n",
    "#desired output:\n",
    "#C=\n",
    "#[[ -3.    2.  -12.    9. ]\n",
    "# [ -1.   -4.    3.  -10. ]\n",
    "# [  2.5  -3.   -2.    4. ]\n",
    "# [  1.5 -11.    1.   -6. ]]\n",
    "\n"
   ]
  },
  {
   "cell_type": "markdown",
   "id": "e9d3220c",
   "metadata": {},
   "source": [
    "## Regular Gaussian Elimination\n",
    "First, let's build an function to perform Gaussian Elimination in the case of a regular matrix.\n",
    "You are free to build your algorithm as you see fit (without using built-in functions which do the hard part for you), but here is a basic outline of one:\n",
    "* Set a variable n for the size of `A` using the `shape` method. `A.shape` returns a tuple with the dimensions of `A`, so if `A` is $n\\times n$, `A.shape[0]` will return `n`.\n",
    "* Copy A to a new array `U` (we'll generally avoid altering the input of our functions when unnecessary)\n",
    "* Use a for loop to iterate over `i` in `range(n)`. This parameter will represent the pivot we are currently working with. Then, within the for loop:\n",
    "    * \"Clear out\" column i below the pivot `U[i][i]` by iterating with a new for loop over `j` in `range(i+1,n)`. This `j` will parametrize the row we are currently \"clearing out.\"\n",
    "        * Change the `j`th row `U[j]` by subtracting the appropriate multiple of the `i`th row `U[i]` to clear out the $(i,j)$th entry `U[i][j]`.\n",
    "\n",
    "For the moment, we'll assume that the input is regular--don't worry about what happens in the case it is not."
   ]
  },
  {
   "cell_type": "code",
   "execution_count": 15,
   "id": "9d372749",
   "metadata": {},
   "outputs": [],
   "source": [
    "def my_elim(A): #The input will be a regular matrix A, encoded as a np.array\n",
    "    n=A.shape[0] #get number of rows\n",
    "    U=A.copy() #initialize U\n",
    "    for i in range(n): #parametrize pivots\n",
    "        for j in range(i+1,n): #parametrize entries below the pivot U[i][i]\n",
    "            m = U[j][i] / U[i][i] #compute which multiple of U[i] we'll need to subtract\n",
    "            U[j] = U[j] - m * U[i] #perform the subtraction            \n",
    "    return U #The outlput will be an upper-triangular matrix, also encoded as a np.array"
   ]
  },
  {
   "cell_type": "markdown",
   "id": "293db2cb",
   "metadata": {},
   "source": [
    "Try out your elimination function on the test matrix below (you have our word that it's regular)."
   ]
  },
  {
   "cell_type": "code",
   "execution_count": 16,
   "id": "5af180f2",
   "metadata": {
    "scrolled": true
   },
   "outputs": [
    {
     "data": {
      "text/plain": [
       "array([[   5. ,    4. ,    0. ],\n",
       "       [   0. ,    0.2,    4. ],\n",
       "       [   0. ,    0. , -115. ]])"
      ]
     },
     "execution_count": 16,
     "metadata": {},
     "output_type": "execute_result"
    }
   ],
   "source": [
    "A=np.array([[5., 4., 0.],\n",
    "        [6., 5., 4.],\n",
    "        [0., 6., 5.]])\n",
    "my_elim(A)\n",
    "#desired output: \n",
    "#        array([[   5. ,    4. ,    0. ],\n",
    "#               [   0. ,    0.2,    4. ],\n",
    "#               [   0. ,    0. , -115. ]])"
   ]
  },
  {
   "cell_type": "markdown",
   "id": "f00644a8",
   "metadata": {},
   "source": [
    "## LU Factorization\n",
    "Now, we'll add in code to compute the LU factorization of `A`.\n",
    "First, we'll need code to construct elementary matrices.\n",
    "In the cell below, define a function to give the $n\\times n$ elmentary matrix $E$ where $E_{ij}=a$.\n",
    "\n",
    "One helpful numpy built-in function is `np.identity`. Try it out in the next cell"
   ]
  },
  {
   "cell_type": "code",
   "execution_count": 17,
   "id": "5e294768",
   "metadata": {},
   "outputs": [
    {
     "data": {
      "text/plain": [
       "array([[1., 0., 0., 0., 0.],\n",
       "       [0., 1., 0., 0., 0.],\n",
       "       [0., 0., 1., 0., 0.],\n",
       "       [0., 0., 0., 1., 0.],\n",
       "       [0., 0., 0., 0., 1.]])"
      ]
     },
     "execution_count": 17,
     "metadata": {},
     "output_type": "execute_result"
    }
   ],
   "source": [
    "np.identity(5)"
   ]
  },
  {
   "cell_type": "code",
   "execution_count": 19,
   "id": "cf62dc38",
   "metadata": {},
   "outputs": [],
   "source": [
    "def elem_matrix(n,i,j,a):\n",
    "    E=np.identity(n)\n",
    "    E[i][j]=a\n",
    "    return E"
   ]
  },
  {
   "cell_type": "markdown",
   "id": "519e556d",
   "metadata": {},
   "source": [
    "Now let's modify your `my_elim` function to produce an LU factorization of your input matrix `A`.\n",
    "\n",
    "Some things to keep in mind:\n",
    "* You still don't need to worry about the case that `A` is irregular--for now, assume it is regular. \n",
    "* The `np.dot` function performs matrix multiplication (that is, $AB$ is given by `np.dot(A,B)`).\n",
    "* Page 17 of Olver-Shakiban gives the formula you'll need to form `L`. Initialize it as the appropriately-sized identity matrix, and multiply by the appropriate elementary matrix in each step of the iteration"
   ]
  },
  {
   "cell_type": "code",
   "execution_count": 30,
   "id": "a5166523",
   "metadata": {},
   "outputs": [],
   "source": [
    "def my_LU(A): #The input will be a regular matrix A, encoded as a np.array\n",
    "    n=A.shape[0] #get number of rows\n",
    "    U=A.copy() #initialize U\n",
    "    L=np.identity(n) #initialize L\n",
    "    for i in range(n): #parametrize pivots\n",
    "        for j in range(i+1,n): #parametrize entries below the pivot U[i][i]\n",
    "            m=U[j][i]/U[i][i] #compute which multiple of U[i] we'll need to subtract\n",
    "            U[j]=U[j] - m * U[i] #perform the subtraction\n",
    "            L=np.dot(L , elem_matrix(n,j,i,m) ) #multiply L on the right by the elementary matrix representing the inverse of our row operation\n",
    "    return (L,U)"
   ]
  },
  {
   "cell_type": "markdown",
   "id": "b5e289bb",
   "metadata": {},
   "source": [
    "Try it out in the next cell."
   ]
  },
  {
   "cell_type": "code",
   "execution_count": 31,
   "id": "3e10d6d7",
   "metadata": {},
   "outputs": [
    {
     "name": "stdout",
     "output_type": "stream",
     "text": [
      "L=\n",
      " [[ 1.   0.   0. ]\n",
      " [ 1.2  1.   0. ]\n",
      " [ 0.  30.   1. ]] \n",
      "U=\n",
      " [[   5.     4.     0. ]\n",
      " [   0.     0.2    4. ]\n",
      " [   0.     0.  -115. ]]\n"
     ]
    }
   ],
   "source": [
    "A=np.array([[5., 4., 0.],\n",
    "        [6., 5., 4.],\n",
    "        [0., 6., 5.]])\n",
    "(L,U)=my_LU(A)\n",
    "print(\"L=\\n\",L,\"\\nU=\\n\",U)\n",
    "#desired output:\n",
    "#    (array([[ 1. ,  0. ,  0. ],\n",
    "#            [ 1.2,  1. ,  0. ],\n",
    "#            [ 0. , 30. ,  1. ]]),\n",
    "#     array([[   5. ,    4. ,    0. ],\n",
    "#            [   0. ,    0.2,    4. ],\n",
    "#            [   0. ,    0. , -115. ]]))"
   ]
  },
  {
   "cell_type": "code",
   "execution_count": 34,
   "id": "060bbe44",
   "metadata": {},
   "outputs": [
    {
     "name": "stdout",
     "output_type": "stream",
     "text": [
      "A=\n",
      " [[5. 4. 0.]\n",
      " [6. 5. 4.]\n",
      " [0. 6. 5.]] \n",
      "LU=\n",
      " [[5. 4. 0.]\n",
      " [6. 5. 4.]\n",
      " [0. 6. 5.]]\n"
     ]
    }
   ],
   "source": [
    "print(\"A=\\n\",A,\"\\nLU=\\n\",np.dot(L,U))"
   ]
  },
  {
   "cell_type": "markdown",
   "id": "ac7adaec",
   "metadata": {},
   "source": [
    "## Exercises"
   ]
  },
  {
   "cell_type": "markdown",
   "id": "34c78229",
   "metadata": {},
   "source": [
    "### Exercise 1\n",
    "So far, we haven't had to worry about the case of iregular input. However, in practice, your code needs to at least let the user know when they have entered as input an irregular matrix.\n",
    "Python performs error handling by using the built-in `raise` command to raise an `Exception`, which is a message given to the user to inform them what's gone wrong. Below is a quick demonstration:"
   ]
  },
  {
   "cell_type": "code",
   "execution_count": 10,
   "id": "bd12a73b",
   "metadata": {},
   "outputs": [],
   "source": [
    "def even_division(n):\n",
    "    if n%2 == 1: #check if n odd\n",
    "        raise Exception(\"input integer is odd\")\n",
    "    return n//2 #divide by 2\n",
    "    "
   ]
  },
  {
   "cell_type": "code",
   "execution_count": 8,
   "id": "d86a08b3",
   "metadata": {},
   "outputs": [
    {
     "data": {
      "text/plain": [
       "2"
      ]
     },
     "execution_count": 8,
     "metadata": {},
     "output_type": "execute_result"
    }
   ],
   "source": [
    "even_division(4)"
   ]
  },
  {
   "cell_type": "code",
   "execution_count": 9,
   "id": "ae1e4417",
   "metadata": {},
   "outputs": [
    {
     "ename": "Exception",
     "evalue": "n is odd!",
     "output_type": "error",
     "traceback": [
      "\u001b[0;31m---------------------------------------------------------------------------\u001b[0m",
      "\u001b[0;31mException\u001b[0m                                 Traceback (most recent call last)",
      "\u001b[0;32m/tmp/ipykernel_20057/512236698.py\u001b[0m in \u001b[0;36m<module>\u001b[0;34m\u001b[0m\n\u001b[0;32m----> 1\u001b[0;31m \u001b[0meven_division\u001b[0m\u001b[0;34m(\u001b[0m\u001b[0;36m5\u001b[0m\u001b[0;34m)\u001b[0m\u001b[0;34m\u001b[0m\u001b[0;34m\u001b[0m\u001b[0m\n\u001b[0m",
      "\u001b[0;32m/tmp/ipykernel_20057/2645295401.py\u001b[0m in \u001b[0;36meven_division\u001b[0;34m(n)\u001b[0m\n\u001b[1;32m      1\u001b[0m \u001b[0;32mdef\u001b[0m \u001b[0meven_division\u001b[0m\u001b[0;34m(\u001b[0m\u001b[0mn\u001b[0m\u001b[0;34m)\u001b[0m\u001b[0;34m:\u001b[0m\u001b[0;34m\u001b[0m\u001b[0;34m\u001b[0m\u001b[0m\n\u001b[1;32m      2\u001b[0m     \u001b[0;32mif\u001b[0m \u001b[0mn\u001b[0m\u001b[0;34m%\u001b[0m\u001b[0;36m2\u001b[0m \u001b[0;34m==\u001b[0m \u001b[0;36m1\u001b[0m\u001b[0;34m:\u001b[0m \u001b[0;31m#check if n odd\u001b[0m\u001b[0;34m\u001b[0m\u001b[0;34m\u001b[0m\u001b[0m\n\u001b[0;32m----> 3\u001b[0;31m         \u001b[0;32mraise\u001b[0m \u001b[0mException\u001b[0m\u001b[0;34m(\u001b[0m\u001b[0;34m\"n is odd!\"\u001b[0m\u001b[0;34m)\u001b[0m\u001b[0;34m\u001b[0m\u001b[0;34m\u001b[0m\u001b[0m\n\u001b[0m\u001b[1;32m      4\u001b[0m     \u001b[0;32mreturn\u001b[0m \u001b[0mn\u001b[0m\u001b[0;34m//\u001b[0m\u001b[0;36m2\u001b[0m\u001b[0;34m\u001b[0m\u001b[0;34m\u001b[0m\u001b[0m\n\u001b[1;32m      5\u001b[0m \u001b[0;34m\u001b[0m\u001b[0m\n",
      "\u001b[0;31mException\u001b[0m: n is odd!"
     ]
    }
   ],
   "source": [
    "even_division(5)"
   ]
  },
  {
   "cell_type": "markdown",
   "id": "cd5e5842",
   "metadata": {},
   "source": [
    "**Exercise:**\n",
    "In the below cell, modify your code for `my_LU` to raise an exception when the input is an irregular matrix. The `Exception` shouuld say \"Input matrix irregular.\""
   ]
  },
  {
   "cell_type": "code",
   "execution_count": 38,
   "id": "5e35f6b7",
   "metadata": {},
   "outputs": [],
   "source": [
    "def my_LU_safe(A):\n",
    "    n=A.shape[0] #get number of rows\n",
    "    U=A.copy() #initialize U\n",
    "    L=np.identity(n) #initialize L\n",
    "    for i in range(n): #parametrize pivots\n",
    "        if U[i][i]==0:\n",
    "            raise Exception(\"Input matrix irrecular\")\n",
    "        for j in range(i+1,n): #parametrize entries below the pivot U[i][i]\n",
    "            m=U[j][i]/U[i][i] #compute which multiple of U[i] we'll need to subtract\n",
    "            U[j]=U[j] - m * U[i] #perform the subtraction\n",
    "            L=np.dot(L , elem_matrix(n,j,i,m) ) #multiply L on the right by the elementary matrix representing the inverse of our row operation\n",
    "    return (L,U)"
   ]
  },
  {
   "cell_type": "code",
   "execution_count": 41,
   "id": "a6e72fe4",
   "metadata": {},
   "outputs": [
    {
     "ename": "Exception",
     "evalue": "Input matrix irrecular",
     "output_type": "error",
     "traceback": [
      "\u001b[0;31m---------------------------------------------------------------------------\u001b[0m",
      "\u001b[0;31mException\u001b[0m                                 Traceback (most recent call last)",
      "\u001b[0;32m/tmp/ipykernel_43135/4005525558.py\u001b[0m in \u001b[0;36m<module>\u001b[0;34m\u001b[0m\n\u001b[1;32m      1\u001b[0m \u001b[0mA\u001b[0m\u001b[0;34m=\u001b[0m\u001b[0mnp\u001b[0m\u001b[0;34m.\u001b[0m\u001b[0marray\u001b[0m\u001b[0;34m(\u001b[0m\u001b[0;34m[\u001b[0m\u001b[0;34m[\u001b[0m\u001b[0mi\u001b[0m\u001b[0;34m*\u001b[0m\u001b[0mj\u001b[0m \u001b[0;32mfor\u001b[0m \u001b[0mj\u001b[0m \u001b[0;32min\u001b[0m \u001b[0mrange\u001b[0m\u001b[0;34m(\u001b[0m\u001b[0;36m5\u001b[0m\u001b[0;34m)\u001b[0m\u001b[0;34m]\u001b[0m \u001b[0;32mfor\u001b[0m \u001b[0mi\u001b[0m \u001b[0;32min\u001b[0m \u001b[0mrange\u001b[0m\u001b[0;34m(\u001b[0m\u001b[0;36m5\u001b[0m\u001b[0;34m)\u001b[0m\u001b[0;34m]\u001b[0m\u001b[0;34m)\u001b[0m \u001b[0;31m#This should throw an exception\u001b[0m\u001b[0;34m\u001b[0m\u001b[0;34m\u001b[0m\u001b[0m\n\u001b[0;32m----> 2\u001b[0;31m \u001b[0mmy_LU_safe\u001b[0m\u001b[0;34m(\u001b[0m\u001b[0mA\u001b[0m\u001b[0;34m)\u001b[0m\u001b[0;34m\u001b[0m\u001b[0;34m\u001b[0m\u001b[0m\n\u001b[0m",
      "\u001b[0;32m/tmp/ipykernel_43135/844923811.py\u001b[0m in \u001b[0;36mmy_LU_safe\u001b[0;34m(A)\u001b[0m\n\u001b[1;32m      5\u001b[0m     \u001b[0;32mfor\u001b[0m \u001b[0mi\u001b[0m \u001b[0;32min\u001b[0m \u001b[0mrange\u001b[0m\u001b[0;34m(\u001b[0m\u001b[0mn\u001b[0m\u001b[0;34m)\u001b[0m\u001b[0;34m:\u001b[0m \u001b[0;31m#parametrize pivots\u001b[0m\u001b[0;34m\u001b[0m\u001b[0;34m\u001b[0m\u001b[0m\n\u001b[1;32m      6\u001b[0m         \u001b[0;32mif\u001b[0m \u001b[0mU\u001b[0m\u001b[0;34m[\u001b[0m\u001b[0mi\u001b[0m\u001b[0;34m]\u001b[0m\u001b[0;34m[\u001b[0m\u001b[0mi\u001b[0m\u001b[0;34m]\u001b[0m\u001b[0;34m==\u001b[0m\u001b[0;36m0\u001b[0m\u001b[0;34m:\u001b[0m\u001b[0;34m\u001b[0m\u001b[0;34m\u001b[0m\u001b[0m\n\u001b[0;32m----> 7\u001b[0;31m             \u001b[0;32mraise\u001b[0m \u001b[0mException\u001b[0m\u001b[0;34m(\u001b[0m\u001b[0;34m\"Input matrix irrecular\"\u001b[0m\u001b[0;34m)\u001b[0m\u001b[0;34m\u001b[0m\u001b[0;34m\u001b[0m\u001b[0m\n\u001b[0m\u001b[1;32m      8\u001b[0m         \u001b[0;32mfor\u001b[0m \u001b[0mj\u001b[0m \u001b[0;32min\u001b[0m \u001b[0mrange\u001b[0m\u001b[0;34m(\u001b[0m\u001b[0mi\u001b[0m\u001b[0;34m+\u001b[0m\u001b[0;36m1\u001b[0m\u001b[0;34m,\u001b[0m\u001b[0mn\u001b[0m\u001b[0;34m)\u001b[0m\u001b[0;34m:\u001b[0m \u001b[0;31m#parametrize entries below the pivot U[i][i]\u001b[0m\u001b[0;34m\u001b[0m\u001b[0;34m\u001b[0m\u001b[0m\n\u001b[1;32m      9\u001b[0m             \u001b[0mm\u001b[0m\u001b[0;34m=\u001b[0m\u001b[0mU\u001b[0m\u001b[0;34m[\u001b[0m\u001b[0mj\u001b[0m\u001b[0;34m]\u001b[0m\u001b[0;34m[\u001b[0m\u001b[0mi\u001b[0m\u001b[0;34m]\u001b[0m\u001b[0;34m/\u001b[0m\u001b[0mU\u001b[0m\u001b[0;34m[\u001b[0m\u001b[0mi\u001b[0m\u001b[0;34m]\u001b[0m\u001b[0;34m[\u001b[0m\u001b[0mi\u001b[0m\u001b[0;34m]\u001b[0m \u001b[0;31m#compute which multiple of U[i] we'll need to subtract\u001b[0m\u001b[0;34m\u001b[0m\u001b[0;34m\u001b[0m\u001b[0m\n",
      "\u001b[0;31mException\u001b[0m: Input matrix irrecular"
     ]
    }
   ],
   "source": [
    "A=np.array([[i*j for j in range(5)] for i in range(5)]) #This should throw an exception\n",
    "my_LU_safe(A)"
   ]
  },
  {
   "cell_type": "markdown",
   "id": "62960573",
   "metadata": {},
   "source": [
    "### Exercise 2\n",
    "One of the major use cases for LU factorization is solving systems by forward- and back- substitution, as described in Olver-Shakiban, section 1.3. \n",
    "To solve a system $A\\vec{x}=\\vec{b}$, this works by\n",
    "* computing an LU factorization $A=LU$, \n",
    "* Solving the system $L\\vec{c}=\\vec{b}$\n",
    "* Solving the system $U \\vec{x}= \\vec{c}$\n",
    "\n",
    "**Exercise:** Below, give code which implements this using `my_LU`. Do *not* use any `numpy` built-in functions which trivialize any part of this (such as taking matrix inverses)--rather you should write code to perform the substitution manually. You may choose to proceed by writing a function for back substitution then another for forward substitution if you wish--that approach is outlined below.\n",
    "Be sure to test your code before you submit!"
   ]
  },
  {
   "cell_type": "code",
   "execution_count": 43,
   "id": "6814d922",
   "metadata": {},
   "outputs": [],
   "source": [
    "def forward_sub(L,b): #input: lower-triangular matrix L, vector of compatible dimension b. \n",
    "    n=b.shape[0]\n",
    "    c=np.zeros(n) #initialize output c\n",
    "    for i in range(n):\n",
    "        c[i]=(b[i]-sum([L[i][j]*c[j] for j in range(i)]))/L[i][i] #forward-substitution formula\n",
    "    return c\n",
    "def back_sub(U,c): #input: upper-triangular matrix L, vector of compatible dimension b. \n",
    "    n=c.shape[0]\n",
    "    x=np.zeros(n) #initialize output x\n",
    "    for i in range(n):\n",
    "        x[n-1-i]=(c[n-1-i]-sum([U[n-1-i][n-1-j]*x[n-1-j] for j in range(i)]))/U[n-i-1][n-i-1] #back-substitution formula. The indexing makes it a bit more messy.\n",
    "    return x "
   ]
  },
  {
   "cell_type": "code",
   "execution_count": 44,
   "id": "8754e60e",
   "metadata": {},
   "outputs": [],
   "source": [
    "def my_solver(A,b):\n",
    "    (L,U)=my_LU(A)\n",
    "    c=forward_sub(L,b)\n",
    "    x=back_sub(U,c)\n",
    "    return x"
   ]
  },
  {
   "cell_type": "code",
   "execution_count": 49,
   "id": "aa47d23e",
   "metadata": {},
   "outputs": [
    {
     "name": "stdout",
     "output_type": "stream",
     "text": [
      "[ 1.11022302e-16  0.00000000e+00  0.00000000e+00  1.11022302e-16\n",
      "  3.99680289e-15 -7.10542736e-15 -2.22044605e-15 -1.94289029e-16\n",
      " -6.66133815e-16 -3.44169138e-15]\n"
     ]
    },
    {
     "data": {
      "text/plain": [
       "True"
      ]
     },
     "execution_count": 49,
     "metadata": {},
     "output_type": "execute_result"
    }
   ],
   "source": [
    "#testing your code\n",
    "A=np.random.rand(10,10)\n",
    "b=np.random.rand(10)\n",
    "x=my_solver(A,b)\n",
    "Ax=np.dot(A,x)\n",
    "print(Ax-b) #should get vector of zeros, or close to it.\n",
    "max(Ax-b)<10**(-14) #check that result is within numerical errors of correct"
   ]
  },
  {
   "cell_type": "markdown",
   "id": "fa329e99",
   "metadata": {},
   "source": [
    "### Exercise 3 (Challenge!)\n",
    "(What do we want here? regular RREF? PA=LU?)"
   ]
  },
  {
   "cell_type": "code",
   "execution_count": null,
   "id": "276effcd",
   "metadata": {},
   "outputs": [],
   "source": []
  }
 ],
 "metadata": {
  "kernelspec": {
   "display_name": "Python 3 (ipykernel)",
   "language": "python",
   "name": "python3"
  },
  "language_info": {
   "codemirror_mode": {
    "name": "ipython",
    "version": 3
   },
   "file_extension": ".py",
   "mimetype": "text/x-python",
   "name": "python",
   "nbconvert_exporter": "python",
   "pygments_lexer": "ipython3",
   "version": "3.10.12"
  }
 },
 "nbformat": 4,
 "nbformat_minor": 5
}
