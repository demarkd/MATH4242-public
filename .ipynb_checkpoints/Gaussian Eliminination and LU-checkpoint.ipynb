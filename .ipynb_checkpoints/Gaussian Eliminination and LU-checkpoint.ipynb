{
 "cells": [
  {
   "cell_type": "markdown",
   "id": "05981bd6",
   "metadata": {},
   "source": [
    "# Activity 2:\n",
    "## Gaussian Eliminiation and LU Factorizations"
   ]
  },
  {
   "cell_type": "code",
   "execution_count": null,
   "id": "2d70efc4",
   "metadata": {},
   "outputs": [],
   "source": [
    "import numpy as np"
   ]
  },
  {
   "cell_type": "markdown",
   "id": "67902316",
   "metadata": {},
   "source": [
    "In this activity, we will work to build an LU factorization algorithm from the ground up using only the most basic of built-in numpy commands. First, we'll review some array manipulation."
   ]
  },
  {
   "cell_type": "code",
   "execution_count": null,
   "id": "debb8ef2",
   "metadata": {},
   "outputs": [],
   "source": [
    "A=np.array([[1,2,4,-3],[2,6,1,7],[-0.5,9,3,3],[-1,2,-4,3]])"
   ]
  },
  {
   "cell_type": "markdown",
   "id": "a1f3076b",
   "metadata": {},
   "source": [
    "You can change the elements of an array individually like so:"
   ]
  },
  {
   "cell_type": "code",
   "execution_count": null,
   "id": "e7e3c37d",
   "metadata": {},
   "outputs": [],
   "source": [
    "B=A.copy()\n",
    "print(\"B=\\n\",B)#print B readably\n",
    "B[0][0]=-99 #change the upper-leftmost entry to -99\n",
    "B[2][3]=99 #change the entry in the third row, fourth column to 99 (remember the python indexing)\n",
    "print(\"B=\\n\",B) #print B again. notice the changes"
   ]
  },
  {
   "cell_type": "markdown",
   "id": "ab24dad3",
   "metadata": {},
   "source": [
    "(recall the python indexing conventions: the top row/leftmost column are row/column zero)\n",
    "\n",
    "Arithmetic operations performed on arrays (or rows of arrays)are performed element-wise. For example:"
   ]
  },
  {
   "cell_type": "code",
   "execution_count": null,
   "id": "bb593add",
   "metadata": {},
   "outputs": [],
   "source": [
    "B=A.copy()\n",
    "B[3]=4*A[2] #change the fourth row of B to be four tiems the third row of A\n",
    "print(\"A=\\n\", A,\"\\nB=\\n\",B) #display A and B readably\n",
    "C=np.identity(4)-3*A #construct a new matrix given as the difference between the identity matrix and 4 times A\n",
    "print(\"C=\\n\",C) #display C readably\n"
   ]
  },
  {
   "cell_type": "markdown",
   "id": "c7dc726d",
   "metadata": {},
   "source": [
    "You can also reference rows or elements of the same array."
   ]
  },
  {
   "cell_type": "code",
   "execution_count": null,
   "id": "c87bd420",
   "metadata": {},
   "outputs": [],
   "source": [
    "B=A.copy()\n",
    "print(\"B=\\n\",B)\n",
    "B[0]=3*B[1]\n",
    "print(\"B=\\n\",B)\n",
    "B[1]=B[0][3]*B[1]\n",
    "print(\"B=\\n\",B)"
   ]
  },
  {
   "cell_type": "markdown",
   "id": "827f3c65",
   "metadata": {},
   "source": [
    "You can also swap rows of an array with double-index notation. #TODO figure out if that's the right terminology"
   ]
  },
  {
   "cell_type": "code",
   "execution_count": null,
   "id": "d5d7a9ec",
   "metadata": {},
   "outputs": [],
   "source": [
    "B=A.copy()\n",
    "print(\"B=\\n\",B)\n",
    "B[[0,3]]=B[[3,0]]\n",
    "print(\"B=\\n\",B)\n",
    "B[[1,2,3]]=B[[3,1,2]]\n",
    "print(\"B=\\n\",B)"
   ]
  },
  {
   "cell_type": "markdown",
   "id": "8fdc4f08",
   "metadata": {},
   "source": [
    "You try: copy $A$ (from above) to a new array $B$. move the bottom row to the top and shift the other rows down. Then, negate the new bottom row and multiply the new top row by $2$. Then, let $C=B-A$."
   ]
  },
  {
   "cell_type": "code",
   "execution_count": null,
   "id": "8e2bc4bc",
   "metadata": {},
   "outputs": [],
   "source": [
    "B=?\n",
    "\n",
    "C=?\n",
    "\n",
    "print(\"A=\\n\",A,\"B=\\n\",B,\"C=\\n\",C)\n",
    "#desired output:\n",
    "#C=\n",
    "#[[ -3.    2.  -12.    9. ]\n",
    "# [ -1.   -4.    3.  -10. ]\n",
    "# [  2.5  -3.   -2.    4. ]\n",
    "# [  1.5 -11.    1.   -6. ]]\n",
    "\n"
   ]
  },
  {
   "cell_type": "markdown",
   "id": "e9d3220c",
   "metadata": {},
   "source": [
    "## Regular Gaussian Elimination\n",
    "First, let's build an function to perform Gaussian Elimination in the case of a regular matrix.\n",
    "You are free to build your algorithm as you see fit (without using built-in functions which do the hard part for you), but here is a basic outline of one:\n",
    "* Set a variable n for the size of `A` using the `shape` method. `A.shape` returns a tuple with the dimensions of `A`, so if `A` is $n\\times n$, `A.shape[0]` will return `n`.\n",
    "* Copy A to a new array `U` (we'll generally avoid altering the input of our functions when unnecessary)\n",
    "* Use a for loop to iterate over `i` in `range(n)`. This parameter will represent the pivot we are currently working with. Then, within the for loop:\n",
    "    * \"Clear out\" column i below the pivot `U[i][i]` by iterating with a new for loop over `j` in `range(i+1,n)`. This `j` will parametrize the row we are currently \"clearing out.\"\n",
    "        * Change the `j`th row `U[j]` by subtracting the appropriate multiple of the `i`th row `U[i]` to clear out the $(i,j)$th entry `U[i][j]`.\n",
    "\n",
    "For the moment, we'll assume that the input is regular--don't worry about what happens in the case it is not."
   ]
  },
  {
   "cell_type": "code",
   "execution_count": null,
   "id": "9d372749",
   "metadata": {},
   "outputs": [],
   "source": [
    "def my_elim(A): #The input will be a regular matrix A, encoded as a np.array\n",
    "    #your code here\n",
    "    return U #The outlput will be an upper-triangular matrix, also encoded as a np.array"
   ]
  },
  {
   "cell_type": "markdown",
   "id": "293db2cb",
   "metadata": {},
   "source": [
    "Try out your elimination function on the test matrix below (you have our word that it's regular)."
   ]
  },
  {
   "cell_type": "code",
   "execution_count": null,
   "id": "5af180f2",
   "metadata": {
    "scrolled": true
   },
   "outputs": [],
   "source": [
    "A=np.array([[5., 4., 0.],\n",
    "        [6., 5., 4.],\n",
    "        [0., 6., 5.]])\n",
    "my_elim(A)\n",
    "#desired output: \n",
    "#        array([[   5. ,    4. ,    0. ],\n",
    "#               [   0. ,    0.2,    4. ],\n",
    "#               [   0. ,    0. , -115. ]])"
   ]
  },
  {
   "cell_type": "markdown",
   "id": "f00644a8",
   "metadata": {},
   "source": [
    "## LU Factorization\n",
    "Now, we'll add in code to compute the LU factorization of `A`.\n",
    "First, we'll need code to construct elementary matrices.\n",
    "In the cell below, define a function to give the $n\\times n$ elmentary matrix $E$ where $E_{ij}=a$.\n",
    "\n",
    "One helpful numpy built-in function is `np.identity`. Try it out in the next cell"
   ]
  },
  {
   "cell_type": "code",
   "execution_count": null,
   "id": "5e294768",
   "metadata": {},
   "outputs": [],
   "source": [
    "np.identity(5)"
   ]
  },
  {
   "cell_type": "code",
   "execution_count": null,
   "id": "cf62dc38",
   "metadata": {},
   "outputs": [],
   "source": [
    "def elem_matrix(n,i,j,a):\n",
    "    #your code goes here\n",
    "    return E"
   ]
  },
  {
   "cell_type": "markdown",
   "id": "519e556d",
   "metadata": {},
   "source": [
    "Now let's modify your `my_elim` function to produce an LU factorization of your input matrix `A`.\n",
    "\n",
    "Some things to keep in mind:\n",
    "* You still don't need to worry about the case that `A` is irregular--for now, assume it is regular. \n",
    "* The `np.dot` function performs matrix multiplication (that is, $AB$ is given by `np.dot(A,B)`).\n",
    "* Page 18 of Olver-Shakiban gives the formula you'll need to form `L`."
   ]
  },
  {
   "cell_type": "code",
   "execution_count": null,
   "id": "a5166523",
   "metadata": {},
   "outputs": [],
   "source": [
    "def my_LU(A):\n",
    "    #your code goes here\n",
    "    return (L,U)"
   ]
  },
  {
   "cell_type": "markdown",
   "id": "b5e289bb",
   "metadata": {},
   "source": [
    "Try it out in the next cell."
   ]
  },
  {
   "cell_type": "code",
   "execution_count": null,
   "id": "3e10d6d7",
   "metadata": {},
   "outputs": [],
   "source": [
    "A=np.array([[5., 4., 0.],\n",
    "        [6., 5., 4.],\n",
    "        [0., 6., 5.]])\n",
    "LU(A)\n",
    "#desired output:\n",
    "#    (array([[ 1. ,  0. ,  0. ],\n",
    "#            [ 1.2,  1. ,  0. ],\n",
    "#            [ 0. , 30. ,  1. ]]),\n",
    "#     array([[   5. ,    4. ,    0. ],\n",
    "#            [   0. ,    0.2,    4. ],\n",
    "#            [   0. ,    0. , -115. ]]))"
   ]
  },
  {
   "cell_type": "markdown",
   "id": "ac7adaec",
   "metadata": {},
   "source": [
    "## Exercises"
   ]
  },
  {
   "cell_type": "markdown",
   "id": "34c78229",
   "metadata": {},
   "source": [
    "### Exercise 1\n",
    "So far, we haven't had to worry about the case of iregular input. However, in practice, your code needs to at least let the user know when they have entered as input an irregular matrix.\n",
    "Python performs error handling by using the built-in `raise` command to raise an `Exception`, which is a message given to the user to inform them what's gone wrong. Below is a quick demonstration:"
   ]
  },
  {
   "cell_type": "code",
   "execution_count": null,
   "id": "bd12a73b",
   "metadata": {},
   "outputs": [],
   "source": [
    "def even_division(n):\n",
    "    if n%2 == 1: #check if n odd\n",
    "        raise Exception(\"input integer is odd\")\n",
    "    return n//2 #divide by 2\n",
    "    "
   ]
  },
  {
   "cell_type": "code",
   "execution_count": null,
   "id": "d86a08b3",
   "metadata": {},
   "outputs": [],
   "source": [
    "even_division(4)"
   ]
  },
  {
   "cell_type": "code",
   "execution_count": null,
   "id": "ae1e4417",
   "metadata": {},
   "outputs": [],
   "source": [
    "even_division(5)"
   ]
  },
  {
   "cell_type": "markdown",
   "id": "cd5e5842",
   "metadata": {},
   "source": [
    "**Exercise:**\n",
    "In the below cell, modify your code for `my_LU` to raise an exception when the input is an irregular matrix. The `Exception` shouuld say \"Input matrix irregular.\""
   ]
  },
  {
   "cell_type": "code",
   "execution_count": null,
   "id": "5e35f6b7",
   "metadata": {},
   "outputs": [],
   "source": [
    "def my_LU_safe(A):\n",
    "    #your code here\n",
    "    return (L,U)"
   ]
  },
  {
   "cell_type": "code",
   "execution_count": null,
   "id": "945eaa0b",
   "metadata": {},
   "outputs": [],
   "source": [
    "A=np.array([[i*j for j in range(5)] for i in range(5)]) #This should throw an exception\n",
    "my_LU_safe(A)"
   ]
  },
  {
   "cell_type": "markdown",
   "id": "62960573",
   "metadata": {},
   "source": [
    "### Exercise 2\n",
    "One of the major use cases for LU factorization is solving systems by forward- and back- substitution, as described in Olver-Shakiban, section 1.3. \n",
    "To solve a system $A\\vec{x}=\\vec{b}$, this works by\n",
    "* computing an LU factorization $A=LU$, \n",
    "* Solving the system $L\\vec{c}=\\vec{b}$\n",
    "* Solving the system $U \\vec{x}= \\vec{c}$\n",
    "\n",
    "**Exercise:** Below, give code which implements this using `my_LU`. Do *not* use any `numpy` built-in functions which trivialize any part of this (such as taking matrix inverses)--rather you should write code to perform the substitution manually. You may choose to proceed by writing a function for back substitution then another for forward substitution if you wish--that approach is outlined below.\n",
    "Be sure to test your code before you submit!"
   ]
  },
  {
   "cell_type": "code",
   "execution_count": null,
   "id": "8754e60e",
   "metadata": {},
   "outputs": [],
   "source": [
    "def forward_sub(L,b):\n",
    "    #your code here\n",
    "    return c\n",
    "def back_sub(U,c):\n",
    "    #your code here\n",
    "    return x    "
   ]
  },
  {
   "cell_type": "code",
   "execution_count": null,
   "id": "c2bbb659",
   "metadata": {},
   "outputs": [],
   "source": [
    "def my_solver(A,b):\n",
    "    #your code here\n",
    "    return x"
   ]
  },
  {
   "cell_type": "code",
   "execution_count": null,
   "id": "aa47d23e",
   "metadata": {},
   "outputs": [],
   "source": [
    "#testing your code\n",
    "A=np.random.rand(10,10)\n",
    "b=np.random.rand(10)\n",
    "x=my_solver(A,b)\n",
    "Ax=np.dot(A,x)\n",
    "print(Ax-b) #should get vector of zeros, or close to it."
   ]
  },
  {
   "cell_type": "markdown",
   "id": "fa329e99",
   "metadata": {},
   "source": [
    "### Exercise 3 (Challenge!)\n",
    "(What do we want here? regular RREF? PA=LU?)"
   ]
  },
  {
   "cell_type": "code",
   "execution_count": null,
   "id": "276effcd",
   "metadata": {},
   "outputs": [],
   "source": []
  }
 ],
 "metadata": {
  "celltoolbar": "Raw Cell Format",
  "kernelspec": {
   "display_name": "Python 3 (ipykernel)",
   "language": "python",
   "name": "python3"
  },
  "language_info": {
   "codemirror_mode": {
    "name": "ipython",
    "version": 3
   },
   "file_extension": ".py",
   "mimetype": "text/x-python",
   "name": "python",
   "nbconvert_exporter": "python",
   "pygments_lexer": "ipython3",
   "version": "3.10.12"
  }
 },
 "nbformat": 4,
 "nbformat_minor": 5
}
