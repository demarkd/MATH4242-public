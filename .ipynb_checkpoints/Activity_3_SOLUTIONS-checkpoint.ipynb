{
 "cells": [
  {
   "cell_type": "markdown",
   "id": "844a3dad",
   "metadata": {},
   "source": [
    "# Activity 3: Gaussian Elimination II: Solving general systems\n",
    "\n",
    "In this activity, we'll expand on our work from last time to give a more flexible form of our Gaussian Elimination routines and solve linear systems in greater generality."
   ]
  },
  {
   "cell_type": "code",
   "execution_count": 1,
   "id": "fb99813b",
   "metadata": {},
   "outputs": [],
   "source": [
    "import numpy as np"
   ]
  },
  {
   "cell_type": "markdown",
   "id": "2f3f10fb",
   "metadata": {},
   "source": [
    "## Reminder: `while` loops\n",
    "You may have gotten through the last activity only using `for` loops. In this activity, you may find it more convenient to use `while` loops. These have the advantage of terminating immediately when a specified condition is met and a possible disadvantage of requiring you to increment your parameters manually.\n",
    "\n",
    "As a demonstration, below is a function which adds up half of all the entries of a list of integers before the first odd entry, printing the running total each time."
   ]
  },
  {
   "cell_type": "code",
   "execution_count": 2,
   "id": "f09c4b3b",
   "metadata": {},
   "outputs": [],
   "source": [
    "def add_up_starting_evens(l):\n",
    "    tot=0 #initialize sum\n",
    "    even_found=False #initialize Boolean which will eventually terminate our while loop\n",
    "    j=0 #initialize our incremental parameter\n",
    "    while even_found==False:\n",
    "        if l[j] % 2 == 0: #if the j'th entry is even\n",
    "            tot=tot+l[j]//2 #add half the j'th entry to tot\n",
    "            print(tot,\",\", end =\" \") #print our running total\n",
    "            j+=1 #increment j by 1-- this is equivalent to \"j=j+1\"\n",
    "        else: #if j'th entry is odd\n",
    "            even_found=True\n",
    "    return tot"
   ]
  },
  {
   "cell_type": "code",
   "execution_count": 3,
   "id": "11036ea9",
   "metadata": {},
   "outputs": [
    {
     "name": "stdout",
     "output_type": "stream",
     "text": [
      "1 , 3 , 7 , 20 , "
     ]
    },
    {
     "data": {
      "text/plain": [
       "20"
      ]
     },
     "execution_count": 3,
     "metadata": {},
     "output_type": "execute_result"
    }
   ],
   "source": [
    "add_up_starting_evens([2,4,8,26,15,98,96,90])"
   ]
  },
  {
   "cell_type": "code",
   "execution_count": 4,
   "id": "82b79708",
   "metadata": {},
   "outputs": [
    {
     "data": {
      "text/plain": [
       "0"
      ]
     },
     "execution_count": 4,
     "metadata": {},
     "output_type": "execute_result"
    }
   ],
   "source": [
    "add_up_starting_evens([1,4,4,4,4,4,4,4,4,4,4,4,4])"
   ]
  },
  {
   "cell_type": "code",
   "execution_count": 5,
   "id": "7268923e",
   "metadata": {},
   "outputs": [
    {
     "name": "stdout",
     "output_type": "stream",
     "text": [
      "2 , 4 , 6 , 8 , 10 , 12 , 14 , 16 , 18 , 20 , 22 , 24 , "
     ]
    },
    {
     "data": {
      "text/plain": [
       "24"
      ]
     },
     "execution_count": 5,
     "metadata": {},
     "output_type": "execute_result"
    }
   ],
   "source": [
    "add_up_starting_evens([4,4,4,4,4,4,4,4,4,4,4,4,1])"
   ]
  },
  {
   "cell_type": "markdown",
   "id": "19c71f61",
   "metadata": {},
   "source": [
    "Your turn: Use a `while` loop to write a function which takes a positive integer `n` for input and performs the following repeated Collatz process:\n",
    "- if  `n` is even, replace `n` with `n//2` and `print` it\n",
    "- if `n` is odd and not equal to 1, replace `n` with `3*n+1` and `print` it \n",
    "- if `n` is 1, terminate the `program` and return the number of steps it took to get there (recorded as `nsteps`).\n",
    "It's a somewhat famous unsolved problem to show that this process terminates!\n",
    "\n",
    "To make sure your output is readable, use the following `print` command: `print(n,\",\", end =\" \")`. This makes it so that each `print` is not on its own line.\n",
    "\n",
    "You might want to take a moment to think about how to do this with `while` loops. One idea is to use a Boolean like the example above, but you can also quantify a `while` loop more directly with any equation or inequality--is there something involving `n` that will work?"
   ]
  },
  {
   "cell_type": "code",
   "execution_count": 6,
   "id": "46cb6cf5",
   "metadata": {},
   "outputs": [],
   "source": [
    "def my_collatz(n):\n",
    "    nsteps = 0                     #initialize step-counter\n",
    "    while n!= 1:                   #terminate only once n is 1\n",
    "        if n % 2 == 0:             #if n is even\n",
    "            n=n//2                 #divide it by 2\n",
    "            print(n,\",\", end =\" \") #print the output\n",
    "            nsteps+=1              #and count the step\n",
    "        else:                      #if n is odd\n",
    "            n=3*n+1                #n |-> 3n+1\n",
    "            print(n,\",\", end =\" \") #print the output\n",
    "            nsteps+=1              #and count the step\n",
    "    return nsteps"
   ]
  },
  {
   "cell_type": "code",
   "execution_count": 7,
   "id": "a9e21739",
   "metadata": {},
   "outputs": [
    {
     "name": "stdout",
     "output_type": "stream",
     "text": [
      "298 , 149 , 448 , 224 , 112 , 56 , 28 , 14 , 7 , 22 , 11 , 34 , 17 , 52 , 26 , 13 , 40 , 20 , 10 , 5 , 16 , 8 , 4 , 2 , 1 , "
     ]
    },
    {
     "data": {
      "text/plain": [
       "25"
      ]
     },
     "execution_count": 7,
     "metadata": {},
     "output_type": "execute_result"
    }
   ],
   "source": [
    "#Testing\n",
    "my_collatz(99)\n",
    "#Desired outcome:\n",
    "#298 , 149 , 448 , 224 , 112 , 56 , 28 , 14 , 7 , 22 , 11 , 34 , 17 , 52 , 26 , 13 , 40 , 20 , 10 , 5 , 16 , 8 , 4 , 2 , 1 , \n",
    "\n",
    "#Out: 25"
   ]
  },
  {
   "cell_type": "markdown",
   "id": "f75fd5b3",
   "metadata": {},
   "source": [
    "## Exercise 1: The Permuted LU Factorization\n",
    "In the previous activity, we saw how to compute an $LU$ factorization of $A$ when $A$ is *regular*. \n",
    "\n",
    "Now, we'll promote that to all nonsingular matrices with the $PA=LU$ factorization.\n",
    "\n",
    "First, we may want some way of generating elementary permutation matrices. One way you might do that is by using slicing over a list of rows. That is, (for instance) `A[[1,3]]` would give the second and fourth rows of `A`, and `A[[3,1]]` gives the fourth and second rows (in that order), each as a view (rather than a copy).\n",
    "\n",
    "Now, use that (or any other method) to give a function generating the `n`-by-`n` permutation matrix which swaps rows `i` and `j`. As another reminder, `np.identity(n)` gives the `n`-by-`n` identity matrix."
   ]
  },
  {
   "cell_type": "code",
   "execution_count": 8,
   "id": "a2a79bf8",
   "metadata": {},
   "outputs": [],
   "source": [
    "def perm_matrix(n,i,j):\n",
    "    E=np.identity(n)\n",
    "    E[[i,j]]=E[[j,i]]\n",
    "    return E"
   ]
  },
  {
   "cell_type": "markdown",
   "id": "989e85f7",
   "metadata": {},
   "source": [
    "Now, let's build our $PA=LU$ function, starting with your `my_LU` from activity 2. Your function should take a matrix `A` as input and give a tuple of matrices `(P,L,U)` as output where $LU$ form an LU factorization of the matrix $PA$. \n",
    "The process for computing the factorization is on pages 28-29 of Olver-Shakiban.\n",
    "You may do this however you wish, but the following suggestions may be useful:\n",
    "\n",
    "\n",
    "- You may want to make use of *subroutines*, that is, functions which exist only in service of a bigger funciton. One which may be useful is a pivoting routine -- let's call it `swapper`. This should implement the pivoting process described in the paragraph beneath Theorem 1.11 in Olver-Shakiban.\n",
    "\n",
    "  - In particular, `swapper` should take as input your partially computed `P`, `L` and `U` as well as rows `i` and `k` to swap (where `i<j`). The output should be a now-pivoted `P`, `L`, and `U`.\n",
    "   - Implementing pivoting for `P` and `U` is as simple as multiplying by the correct elementary permutation matrix to swap rows `i` and `k,`. Handling `L` is more delicate. \n",
    "   <details>\n",
    "    <summary> <b> Hint:</b> (Click here to expand) </summary>\n",
    "    Letting $P_{ik}$ be the elementary matrix in question, the pivoted form of $L$ is equal to $P_{ik}(L-I)+I$ where $I$ is the $n\\times n $ identity matrix. Can you use that in your implementation? (This is not the only way to accomplish this)\n",
    "    </details>\n",
    "- With `swapper` in hand, we now modify our `my_LU` function to give a $PA=LU$ factorization.\n",
    "  - After exercise 1 of activity 2, your `my_LU` should `raise` an `Exception` when a diagonal entry zero. Now instead, when looking for a pivot in row `i` and finding `U[i][i]=0`, you should look to pivot by checking for nonzero entries below your diagonal.\n",
    "  <details>\n",
    "    <summary> <b> Hint:</b> (Click here to expand) </summary>\n",
    "    \n",
    "    One way to do this is with a while loop. Let ``k`` be the parameter determining which row below row ``i`` we are checking. Initialize a boolean (let's call it ``swapped``) with ``swapped=False`` and then set up a while loop over the condition that ``k<n`` (so that we don't attempt to check beneath the bottom row) and  ``swapped=False`` (so that we don't redundantly swap multiple times. Once you find a nonzero entry, employ swapper to implement the swap.\n",
    "    </details>After"
   ]
  },
  {
   "cell_type": "code",
   "execution_count": 9,
   "id": "0c2a2182",
   "metadata": {},
   "outputs": [],
   "source": [
    "def elem_matrix(n,i,j,a):\n",
    "    #constructs the elementary nxn matrix with value a in entry (i,j)\n",
    "    E=np.identity(n)\n",
    "    E[i][j]=a\n",
    "    return E\n",
    "def swapper(P,L,U,i,k): #OPTIONAL (if you wish to follow the outline)\n",
    "    n=P.shape[0]\n",
    "    perm=perm_matrix(n,i,k)\n",
    "    P=np.dot(perm,P)\n",
    "    U=np.dot(perm,U)\n",
    "    L=np.dot(perm,L-np.identity(n))+np.identity(n)\n",
    "    return (P,L,U)\n",
    "def my_PLU(A):\n",
    "    n=A.shape[0] #get number of rows\n",
    "    U=A.copy() #initialize U\n",
    "    L=np.identity(n) #initialize L\n",
    "    P=np.identity(n) #initialize P\n",
    "    for i in range(n): #parameterize pivots\n",
    "        if U[i][i]==0:  #if zero where pivot expected\n",
    "            k=i+1       #initialize k\n",
    "            swapped=False #initialize swapped\n",
    "            while k<n and swapped == False:\n",
    "                if U[k][i] != 0:          #zero where pivot expected\n",
    "                    (P,L,U)=swapper(P,L,U,i,k)\n",
    "                    swapped=True          #terminate the while loop\n",
    "                else:\n",
    "                    k+=1\n",
    "                    if k==n:\n",
    "                        raise Exception(\"singular matrix\") #this is optional, but might as well make it a bit more input-safe\n",
    "        for k in range(i+1,n):  # we may now safely assume U[i][i]=0\n",
    "            c=U[k][i] / U[i][i]   #compute which multiple of U[i] we'll need to subtract \n",
    "            U[k]=U[k] - c * U[i]  #clear out U[k][i]\n",
    "            L=np.dot(L, elem_matrix(n,k,i,c)) #Right-multiply L by the appropriate elementary matrix\n",
    "    return (P,L,U)"
   ]
  },
  {
   "cell_type": "code",
   "execution_count": 10,
   "id": "d691cac8",
   "metadata": {},
   "outputs": [
    {
     "name": "stdout",
     "output_type": "stream",
     "text": [
      "P1=\n",
      " [[1. 0. 0. 0.]\n",
      " [0. 0. 1. 0.]\n",
      " [0. 1. 0. 0.]\n",
      " [0. 0. 0. 1.]] \n",
      "L1=\n",
      " [[ 1.   0.   0.   0. ]\n",
      " [ 1.   1.   0.   0. ]\n",
      " [-1.   0.   1.   0. ]\n",
      " [ 2.   1.  -0.5  1. ]] \n",
      "U1=\n",
      " [[ 1.   2.  -1.   0. ]\n",
      " [ 0.   1.   3.   1. ]\n",
      " [ 0.   0.  10.  11. ]\n",
      " [ 0.   0.   0.  -0.5]] \n",
      "P1A1=L1U1?\n",
      " True\n"
     ]
    }
   ],
   "source": [
    "#testing\n",
    "A1=np.array([[ 1.,  2., -1.,  0.],\n",
    "            [-1., -2., 11., 11.],\n",
    "            [ 1.,  3.,  2.,  1.],\n",
    "            [ 2.,  5., -4., -5.]],\"float64\")\n",
    "(P1,L1,U1)=my_PLU(A1)\n",
    "print(\"P1=\\n\",P1,\"\\nL1=\\n\",L1,\"\\nU1=\\n\",U1,\"\\nP1A1=L1U1?\\n\", np.array_equal(np.dot(P1,A1),np.dot(L1,U1)))\n",
    "#Possible desired output:\n",
    "#P=\n",
    "# [[1. 0. 0. 0.]\n",
    "# [0. 0. 1. 0.]\n",
    "# [0. 1. 0. 0.]\n",
    "# [0. 0. 0. 1.]] \n",
    "#L=\n",
    "# [[ 1.   0.   0.   0. ]\n",
    "# [ 1.   1.   0.   0. ]\n",
    "# [-1.   0.   1.   0. ]\n",
    "# [ 2.   1.  -0.5  1. ]] \n",
    "#U=\n",
    "# [[ 1.   2.  -1.   0. ]\n",
    "# [ 0.   1.   3.   1. ]\n",
    "# [ 0.   0.  10.  11. ]\n",
    "# [ 0.   0.   0.  -0.5]] \n",
    "#PA=LU?\n",
    "# True"
   ]
  },
  {
   "cell_type": "markdown",
   "id": "b5f07f11",
   "metadata": {},
   "source": [
    "## Exercise 2: General systems\n",
    "Now, we'll expand our `my_PLU` to handle general homogeneous systems. That is, so far we have assumed square input matrix `A`. Now, expand `my_PLU` to give a $PA=LU$ factorization for an $n\\times m$ matrix `A` which is not assumed to be full rank (here, U is assumed only to be REF) <details>\n",
    "    <summary> <b> Hints:</b> (Click here to expand) </summary>\n",
    "\n",
    "- Recall the general idea of finding the REF form of a matrix: you work down and to the right finding pivots and clearing out beneath them. You know you are done when either you have found and cleared out below $n-1$ pivots or when you have exhausted every column.\n",
    "- You will likely want to use parameters `i` and `j` to record the row and column of the entry you are checking as a pivot.\n",
    "- For your main loop (finding pivots--very likely a `while` loop), what stop condition implements the stop condition described above?\n",
    "       <details>\n",
    "           <summary> <b> Hint: </b> (click here to expand) </summary>      \n",
    "           `while i<n-1 and j<m`\n",
    "    </details>\n",
    "-   Your subloop for implementing row-swaps can likely go unchanged  \n",
    "    \n",
    "    </details>"
   ]
  },
  {
   "cell_type": "code",
   "execution_count": 11,
   "id": "8aca6912",
   "metadata": {},
   "outputs": [],
   "source": [
    "def my_REF(A):\n",
    "    n=A.shape[0] #get number of rows\n",
    "    m=A.shape[1] #get number of columns\n",
    "    i=0          #initialize row parameter\n",
    "    j=0          #initialize column parameter\n",
    "    U=A.copy()   #initialize U\n",
    "    L=np.identity(n) #initialize L\n",
    "    P=np.identity(n) #initialize P\n",
    "    while i< n-1 and j<m: #terminate when either we've identified pivots in every row (besides maybe the last since that will be automatic# OR we've run out of columns to check on the right (when j!=m)\n",
    "        if U[i][j]==0:  #if zero where pivot expected\n",
    "            k=i+1       #initialize k\n",
    "            ready=False #initialize a boolean to tell us we're done with column i\n",
    "            while k<n and ready == False:\n",
    "                if U[k][j] != 0:          #pivot found\n",
    "                    (P,L,U)=swapper(P,L,U,i,k)\n",
    "                    ready=True          #terminate the while loop\n",
    "                else:\n",
    "                    k+=1                  #move on to the next row\n",
    "                    if k==n:              #unless we're out of rows   \n",
    "                        j+=1              #then move on to the next column\n",
    "        if U[i][j] != 0:       #now, once we've found our pivot\n",
    "            for r in range(i+1,n):  #usual clearing routine, but adjusted for the new indexing scheme\n",
    "                c=U[r][j] / U[i][j]   \n",
    "                U[r]=U[r] - c * U[i]  #clear out U[r][j]\n",
    "                L=np.dot(L, elem_matrix(n,r,i,c)) #Right-multiply L by the appropriate elementary matrix\n",
    "            i += 1 #move on to the next row\n",
    "            j += 1 #move on to the next column\n",
    "    return (P,L,U)"
   ]
  },
  {
   "cell_type": "code",
   "execution_count": 12,
   "id": "4570ffc8",
   "metadata": {},
   "outputs": [
    {
     "name": "stdout",
     "output_type": "stream",
     "text": [
      "P2=\n",
      " [[1. 0. 0.]\n",
      " [0. 1. 0.]\n",
      " [0. 0. 1.]] \n",
      "L2=\n",
      " [[ 1.    0.    0.  ]\n",
      " [ 0.25  1.    0.  ]\n",
      " [-0.5   0.    1.  ]] \n",
      "U2=\n",
      " [[  8.   12.   -6.   92.  -20. ]\n",
      " [  0.    0.    6.5  -9.   16. ]\n",
      " [  0.    0.    0.   -8.   12. ]] \n",
      "P2A2=L2U2?\n",
      " True\n"
     ]
    }
   ],
   "source": [
    "#testing\n",
    "A2=np.array([[  8.,  12.,   -6.,  92., -20.],\n",
    "            [  2.,   3.,   5.,  14.,  11.],\n",
    "            [ -4.,  -6.,   3., -54.,  22.]])\n",
    "(P2,L2,U2)=my_REF(A2)\n",
    "print(\"P2=\\n\",P2,\"\\nL2=\\n\",L2,\"\\nU2=\\n\",U2,\"\\nP2A2=L2U2?\\n\", np.array_equal(np.dot(P2,A2),np.dot(L2,U2)))\n",
    "#Desired output:\n",
    "#P2=\n",
    "# [[1. 0. 0.]\n",
    "# [0. 1. 0.]\n",
    "# [0. 0. 1.]] \n",
    "#L2=\n",
    "# [[ 1.    0.    0.  ]\n",
    "# [ 0.25  1.    0.  ]\n",
    "# [-0.5   0.    1.  ]] \n",
    "#U2=\n",
    "# [[  8.   12.   -6.   92.  -20. ]\n",
    "# [  0.    0.    6.5  -9.   16. ]\n",
    "# [  0.    0.    0.   -8.   12. ]] \n",
    "#P2A2=L2U2?\n",
    "# True"
   ]
  },
  {
   "cell_type": "code",
   "execution_count": 13,
   "id": "279d9510",
   "metadata": {
    "scrolled": true
   },
   "outputs": [
    {
     "name": "stdout",
     "output_type": "stream",
     "text": [
      "P3=\n",
      " [[1. 0. 0. 0.]\n",
      " [0. 0. 1. 0.]\n",
      " [0. 0. 0. 1.]\n",
      " [0. 1. 0. 0.]] \n",
      "L3=\n",
      " [[ 1.  0.  0.  0.]\n",
      " [ 1.  1.  0.  0.]\n",
      " [-2. -3.  1.  0.]\n",
      " [-1.  0.  0.  1.]] \n",
      "U3=\n",
      " [[ 1.  2.  2. -1.  0.  0.]\n",
      " [ 0.  0.  1.  3.  3.  2.]\n",
      " [ 0.  0.  0. -5. -5. -6.]\n",
      " [ 0.  0.  0.  0.  0.  0.]] \n",
      "P3A3=L3U3?\n",
      " True\n"
     ]
    }
   ],
   "source": [
    "#testing\n",
    "A3=np.array([[1,2,2,-1,0,0],\n",
    "            [-1,-2,-2,1,0,0],\n",
    "            [1,2,3,2,3,2],\n",
    "            [-2,-4,-7,-12,-14,-12]])\n",
    "(P3,L3,U3)=my_REF(A3)\n",
    "print(\"P3=\\n\",P3,\"\\nL3=\\n\",L3,\"\\nU3=\\n\",U3,\"\\nP3A3=L3U3?\\n\", np.array_equal(np.dot(P3,A3),np.dot(L3,U3)))\n",
    "#Possible Desired Output:\n",
    "#P3=\n",
    "# [[1. 0. 0. 0.]\n",
    "# [0. 0. 1. 0.]\n",
    "# [0. 0. 0. 1.]\n",
    "# [0. 1. 0. 0.]] \n",
    "#L3=\n",
    "# [[ 1.  0.  0.  0.]\n",
    "# [ 1.  1.  0.  0.]\n",
    "# [-2. -3.  1.  0.]\n",
    "# [-1.  0.  0.  1.]] \n",
    "#U3=\n",
    "# [[ 1.  2.  2. -1.  0.  0.]\n",
    "# [ 0.  0.  1.  3.  3.  2.]Now\n",
    "# [ 0.  0.  0. -5. -5. -6.]\n",
    "# [ 0.  0.  0.  0.  0.  0.]] \n",
    "#P3A3=L3U3?\n",
    "# True\n",
    "\n"
   ]
  },
  {
   "cell_type": "markdown",
   "id": "83672c8b",
   "metadata": {},
   "source": [
    "## Exercise 3: RREF and Homogeneous systems\n",
    "**Definition:** A matrix $V$ is said to be in *reduced row echelon form* (RREF) if (i) $V$ is in row echelon form and (ii) each pivot is equal to 1 and is the only nonzero entry of its row.\n",
    "\n",
    "Any matrix $A$ is equivalent to a RREF matrix $V$. To see this, let $U$ be the REF form of $A$. Then, working from the bottom row up, if row $i$ is nonzero with pivot $u_{ij}$, multiply that row by $\\frac{1}{u_{ij}}$ and add appropriate multiples of row $i$ to the rows above it to clear out those entries.  \n",
    "\n",
    "For example, for the REF matrix\n",
    "$$U=\\begin{pmatrix}\n",
    "2 & 4 & 5 & 14 & 11 \\\\\n",
    "0 & 0 & -2 & 4 & -6 \\\\\n",
    "0 & 0 & 0 & 0 & -10 \\\\\n",
    "\\end{pmatrix},$$\n",
    "its RREF form would be\n",
    "$$V=\\begin{pmatrix}\n",
    "1 & 2 & 0 & 12 & 0 \\\\\n",
    "0 & 0 & 1 & -2 & 0 \\\\\n",
    "0 & 0 & 0 & 0 & 1 \\\\\n",
    "\\end{pmatrix}.$$\n",
    "\n",
    "\n",
    "<b> (a) </b> We've now worked all the way through finding REF forms of very general systems. Now, write a function `RREFify` which takes as input a REF matrix `U` and gives as output an RREF matrix `V`. Then, write a wrapper `my_RREF` which takes a general matrix `A` and (using `my_REF` and `my_RREFify`) gives the RREF form `V`."
   ]
  },
  {
   "cell_type": "code",
   "execution_count": 14,
   "id": "2f923bbe",
   "metadata": {},
   "outputs": [],
   "source": [
    "def RREFify(U):\n",
    "    V=U.copy() #initialize output V\n",
    "    n=U.shape[0] # we'll take U to be nxm\n",
    "    m=U.shape[1]\n",
    "    for i in range(n-1,-1,-1): #we want to work from bottom to top--this sets i first to m-1, then m-2,... finally 0\n",
    "        j=0 #initialize pivot column parameter\n",
    "        row_clear=False #boolean to tell us when we're done working with row i\n",
    "        while row_clear==False and j<m:  #terminate if we've run out of entries in row i to chec\n",
    "            if V[i][j]!=0:            #if we've found a pivot\n",
    "                V[i]=V[i]*(1/V[i][j]) #divide ith row by pivot\n",
    "                for r in range(i):    #iterate over rows above v_ij\n",
    "                    c=V[r][j]\n",
    "                    V[r]=V[r]-c*V[i]  #clear out the entry u_rj\n",
    "                row_clear=True\n",
    "            else:                     #if U[i][j]==0, that is\n",
    "                j+=1                  #try the next column\n",
    "    return V\n",
    "def my_RREF(A):\n",
    "    P,L,U=my_REF(A)\n",
    "    V=RREFify(U)\n",
    "    return V"
   ]
  },
  {
   "cell_type": "code",
   "execution_count": 15,
   "id": "7a27bdc7",
   "metadata": {},
   "outputs": [
    {
     "data": {
      "text/plain": [
       "array([[ 1.,  2.,  0., 12.,  0.],\n",
       "       [-0., -0.,  1., -2., -0.],\n",
       "       [-0., -0., -0., -0.,  1.]])"
      ]
     },
     "execution_count": 15,
     "metadata": {},
     "output_type": "execute_result"
    }
   ],
   "source": [
    "#testing\n",
    "U=np.array([[2,4,5,14,11],\n",
    "            [0,0,-2,4,-6],\n",
    "            [0,0,0,0,-10]],\"float64\")\n",
    "RREFify(U)\n",
    "#Desired Output:\n",
    "#array([[ 1.,  2.,  0., 12.,  0.],\n",
    "#       [-0., -0.,  1., -2., -0.],\n",
    "#       [-0., -0., -0., -0.,  1.]])"
   ]
  },
  {
   "cell_type": "markdown",
   "id": "081b4b87",
   "metadata": {},
   "source": [
    "<b> (b) Challenge! </b> Use this to give the space solutions to the homogeneous system of equations represented by a matrix `A`. Present your answer as an array `B`, the columns of which generate the solution space.\n",
    "\n",
    "<details>\n",
    "    <summary>\n",
    "        <b>Hint</b>: (click here to open) </summary>\n",
    "    \n",
    "- You might find it handy to have some way of generating a list of pivots/free variables of an RREF matrix. This could be accomplished with a subroutine, or by simply modifying ```RREFify```.\n",
    "    </details>"
   ]
  },
  {
   "cell_type": "code",
   "execution_count": 16,
   "id": "993010f1",
   "metadata": {},
   "outputs": [],
   "source": [
    "#modifying RREF functions:\n",
    "def RREFify_pivs(U):\n",
    "    V=U.copy() #initialize output V\n",
    "    n=U.shape[0] # we'll take U to be nxm\n",
    "    m=U.shape[1]\n",
    "    pivs=np.full([n],m) #initialize as a n-dim vector of m's. We'll record the column of a pivot in the entry corresponding to its row (and take m) to mean no pivot\n",
    "    free_table=np.full([m],True)   #initialize as vector of True's. when we find a pivot, we'll turn its corresponding entry false \n",
    "    for i in range(n-1,-1,-1): #we want to work from bottom to top--this sets i first to m-1, then m-2,... finally 0\n",
    "        j=0 #initialize pivot column parameter\n",
    "        row_clear=False #boolean to tell us when we're done working with row i\n",
    "        while row_clear==False and j<m:  #terminate if we've run out of entries in row i to chec\n",
    "            if V[i][j]!=0:            #if we've found a pivot\n",
    "                pivs[i]=j        #record its location\n",
    "                free_table[j]=False   #record that it's not free\n",
    "                V[i]=V[i]*(1/V[i][j]) #divide ith row by pivot\n",
    "                for r in range(i):    #iterate over rows above v_ij\n",
    "                    c=V[r][j]\n",
    "                    V[r]=V[r]-c*V[i]  #clear out the entry u_rj\n",
    "                row_clear=True\n",
    "            else:                     #if U[i][j]==0, that is\n",
    "                j+=1                  #try the next column\n",
    "        frees=np.nonzero(free_table)[0] #extract free variables\n",
    "    return V,pivs,frees\n",
    "def my_RREF_pivs(A):\n",
    "    P,L,U=my_REF(A)\n",
    "    V,pivs,frees=RREFify_pivs(U)\n",
    "    return V,pivs,frees"
   ]
  },
  {
   "cell_type": "code",
   "execution_count": 17,
   "id": "1f29c30e",
   "metadata": {},
   "outputs": [],
   "source": [
    "def my_kernel(A):\n",
    "    n=A.shape[0]\n",
    "    m=A.shape[1]                #A is nxm\n",
    "    V,pivs,frees=my_RREF_pivs(A)\n",
    "    k=frees.shape[0]             #we'll need this many generators\n",
    "    B=np.zeros((m,k))              #initialize\n",
    "    for i in range(k):             #each generator corresponds to a free variable\n",
    "        B[frees[i]][i]=1              #set the free variable equal to 1\n",
    "        for j in range(n):         #iterate over rows of V\n",
    "            if pivs[j]<m:           #if that row has a pivot\n",
    "                B[pivs[j]][i]=-V[j][frees[i]] #this comes from writing out the equations represented by a RREF matrix\n",
    "    return B"
   ]
  },
  {
   "cell_type": "code",
   "execution_count": 18,
   "id": "0a35d08e",
   "metadata": {},
   "outputs": [
    {
     "name": "stdout",
     "output_type": "stream",
     "text": [
      "B4=\n",
      " [[-2.   0.5  1. ]\n",
      " [ 1.   0.   0. ]\n",
      " [-0.  -1.5 -2. ]\n",
      " [ 0.   1.   0. ]\n",
      " [ 0.   0.   1. ]]\n",
      "A4B4=\n",
      " [[0. 0. 0.]\n",
      " [0. 0. 0.]\n",
      " [0. 0. 0.]]\n"
     ]
    }
   ],
   "source": [
    "#Testing\n",
    "A4=np.array([[ 1.,  2.,  3.,  4.,  5.],\n",
    "             [ 2.,  4., 10., 14., 18.],\n",
    "             [ 9., 18., 27., 36., 45.]])\n",
    "B4=my_kernel(A4)\n",
    "print(\"B4=\\n\",B4)\n",
    "print(\"A4B4=\\n\",np.dot(A4,B4)) #check we actually get zero"
   ]
  }
 ],
 "metadata": {
  "kernelspec": {
   "display_name": "Python 3 (ipykernel)",
   "language": "python",
   "name": "python3"
  },
  "language_info": {
   "codemirror_mode": {
    "name": "ipython",
    "version": 3
   },
   "file_extension": ".py",
   "mimetype": "text/x-python",
   "name": "python",
   "nbconvert_exporter": "python",
   "pygments_lexer": "ipython3",
   "version": "3.10.12"
  }
 },
 "nbformat": 4,
 "nbformat_minor": 5
}
