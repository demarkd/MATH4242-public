{
 "cells": [
  {
   "cell_type": "markdown",
   "id": "05981bd6",
   "metadata": {},
   "source": [
    "# Activity 2:\n",
    "## Gaussian Eliminiation and LU Factorizations"
   ]
  },
  {
   "cell_type": "code",
   "execution_count": 1,
   "id": "2d70efc4",
   "metadata": {},
   "outputs": [],
   "source": [
    "import numpy as np\n",
    "from numpy import random as RA"
   ]
  },
  {
   "cell_type": "markdown",
   "id": "67902316",
   "metadata": {},
   "source": [
    "In this activity, we will work to build an LU factorization algorithm from the ground up using only the most basic of built-in numpy commands. First, we'll review some array manipulation."
   ]
  },
  {
   "cell_type": "code",
   "execution_count": 2,
   "id": "debb8ef2",
   "metadata": {},
   "outputs": [],
   "source": [
    "A=np.array([[1,2,4,-3],[2,6,1,7],[-0.5,9,3,3],[-1,2,-4,3]])"
   ]
  },
  {
   "cell_type": "markdown",
   "id": "a1f3076b",
   "metadata": {},
   "source": [
    "You can change the elements of an array individually like so:"
   ]
  },
  {
   "cell_type": "code",
   "execution_count": 3,
   "id": "e7e3c37d",
   "metadata": {},
   "outputs": [
    {
     "name": "stdout",
     "output_type": "stream",
     "text": [
      "B=\n",
      " [[ 1.   2.   4.  -3. ]\n",
      " [ 2.   6.   1.   7. ]\n",
      " [-0.5  9.   3.   3. ]\n",
      " [-1.   2.  -4.   3. ]]\n",
      "B=\n",
      " [[-99.    2.    4.   -3. ]\n",
      " [  2.    6.    1.    7. ]\n",
      " [ -0.5   9.    3.   99. ]\n",
      " [ -1.    2.   -4.    3. ]]\n"
     ]
    }
   ],
   "source": [
    "B=A.copy()\n",
    "print(\"B=\\n\",B)\n",
    "B[0][0]=-99\n",
    "B[2][3]=99\n",
    "print(\"B=\\n\",B)"
   ]
  },
  {
   "cell_type": "markdown",
   "id": "ab24dad3",
   "metadata": {},
   "source": [
    "(recall the python indexing conventions: the top row/leftmost column are row/column zero)\n",
    "\n",
    "Arithmetic operations performed on arrays (or rows of arrays)are performed element-wise. For example:"
   ]
  },
  {
   "cell_type": "code",
   "execution_count": 4,
   "id": "bb593add",
   "metadata": {},
   "outputs": [
    {
     "name": "stdout",
     "output_type": "stream",
     "text": [
      "A=\n",
      " [[ 1.   2.   4.  -3. ]\n",
      " [ 2.   6.   1.   7. ]\n",
      " [-0.5  9.   3.   3. ]\n",
      " [-1.   2.  -4.   3. ]] \n",
      "B=\n",
      " [[ 1.   2.   4.  -3. ]\n",
      " [ 2.   6.   1.   7. ]\n",
      " [-0.5  9.   3.   3. ]\n",
      " [-2.  36.  12.  12. ]]\n",
      "C=\n",
      " [[ -2.   -6.  -12.    9. ]\n",
      " [ -6.  -17.   -3.  -21. ]\n",
      " [  1.5 -27.   -8.   -9. ]\n",
      " [  3.   -6.   12.   -8. ]]\n"
     ]
    }
   ],
   "source": [
    "B=A.copy()\n",
    "B[3]=4*A[2] #change the fourth row of B to be four times the third row of A\n",
    "print(\"A=\\n\", A,\"\\nB=\\n\",B) #display A and B readably\n",
    "C=np.identity(4)-3*A #construct a new matrix given as the difference between the identity matrix and 4 times A\n",
    "print(\"C=\\n\",C) #display C readably\n"
   ]
  },
  {
   "cell_type": "markdown",
   "id": "c7dc726d",
   "metadata": {},
   "source": [
    "You can also reference rows or elements of the same array."
   ]
  },
  {
   "cell_type": "code",
   "execution_count": 5,
   "id": "c87bd420",
   "metadata": {},
   "outputs": [
    {
     "name": "stdout",
     "output_type": "stream",
     "text": [
      "B=\n",
      " [[ 1.   2.   4.  -3. ]\n",
      " [ 2.   6.   1.   7. ]\n",
      " [-0.5  9.   3.   3. ]\n",
      " [-1.   2.  -4.   3. ]]\n",
      "B=\n",
      " [[ 6.  18.   3.  21. ]\n",
      " [ 2.   6.   1.   7. ]\n",
      " [-0.5  9.   3.   3. ]\n",
      " [-1.   2.  -4.   3. ]]\n",
      "B=\n",
      " [[  6.   18.    3.   21. ]\n",
      " [ 42.  126.   21.  147. ]\n",
      " [ -0.5   9.    3.    3. ]\n",
      " [ -1.    2.   -4.    3. ]]\n"
     ]
    }
   ],
   "source": [
    "B=A.copy()\n",
    "print(\"B=\\n\",B)\n",
    "B[0]=3*B[1]\n",
    "print(\"B=\\n\",B)\n",
    "B[1]=B[0][3]*B[1]\n",
    "print(\"B=\\n\",B)"
   ]
  },
  {
   "cell_type": "markdown",
   "id": "827f3c65",
   "metadata": {},
   "source": [
    "You can also swap rows of an array by calling a list of indices."
   ]
  },
  {
   "cell_type": "code",
   "execution_count": 6,
   "id": "d5d7a9ec",
   "metadata": {},
   "outputs": [
    {
     "name": "stdout",
     "output_type": "stream",
     "text": [
      "B=\n",
      " [[ 1.   2.   4.  -3. ]\n",
      " [ 2.   6.   1.   7. ]\n",
      " [-0.5  9.   3.   3. ]\n",
      " [-1.   2.  -4.   3. ]]\n",
      "B=\n",
      " [[-1.   2.  -4.   3. ]\n",
      " [ 2.   6.   1.   7. ]\n",
      " [-0.5  9.   3.   3. ]\n",
      " [ 1.   2.   4.  -3. ]]\n",
      "B=\n",
      " [[-1.   2.  -4.   3. ]\n",
      " [ 1.   2.   4.  -3. ]\n",
      " [ 2.   6.   1.   7. ]\n",
      " [-0.5  9.   3.   3. ]]\n"
     ]
    }
   ],
   "source": [
    "B=A.copy()\n",
    "print(\"B=\\n\",B)\n",
    "B[[0,3]]=B[[3,0]] #read this as \"set the 0th row and the 3rd row of B to be the 3rd and 0th rows of B\"\n",
    "print(\"B=\\n\",B)\n",
    "B[[1,2,3]]=B[[3,1,2]]\n",
    "print(\"B=\\n\",B)"
   ]
  },
  {
   "cell_type": "markdown",
   "id": "8fdc4f08",
   "metadata": {},
   "source": [
    "You try: copy $A$ (from above) to a new array $B$. move the bottom row to the top and shift the other rows down. Then, negate the new bottom row and multiply the new top row by $2$. Then, let $C=B-A$."
   ]
  },
  {
   "cell_type": "code",
   "execution_count": 7,
   "id": "8e2bc4bc",
   "metadata": {},
   "outputs": [
    {
     "name": "stdout",
     "output_type": "stream",
     "text": [
      "A=\n",
      " [[ 1.   2.   4.  -3. ]\n",
      " [ 2.   6.   1.   7. ]\n",
      " [-0.5  9.   3.   3. ]\n",
      " [-1.   2.  -4.   3. ]] \n",
      "B=\n",
      " [[-2.   4.  -8.   6. ]\n",
      " [ 1.   2.   4.  -3. ]\n",
      " [ 2.   6.   1.   7. ]\n",
      " [ 0.5 -9.  -3.  -3. ]] \n",
      "C=\n",
      " [[ -3.    2.  -12.    9. ]\n",
      " [ -1.   -4.    3.  -10. ]\n",
      " [  2.5  -3.   -2.    4. ]\n",
      " [  1.5 -11.    1.   -6. ]]\n"
     ]
    }
   ],
   "source": [
    "B=A.copy()\n",
    "B[[0,1,2,3]]=B[[3,0,1,2]]\n",
    "B[3]=-B[3]\n",
    "B[0]=2*B[0]\n",
    "\n",
    "C=B-A\n",
    "\n",
    "print(\"A=\\n\",A,\"\\nB=\\n\",B,\"\\nC=\\n\",C)\n",
    "#desired output:\n",
    "#C=\n",
    "#[[ -3.    2.  -12.    9. ]\n",
    "# [ -1.   -4.    3.  -10. ]\n",
    "# [  2.5  -3.   -2.    4. ]\n",
    "# [  1.5 -11.    1.   -6. ]]\n",
    "\n"
   ]
  },
  {
   "cell_type": "markdown",
   "id": "e9d3220c",
   "metadata": {},
   "source": [
    "## Regular Gaussian Elimination\n",
    "First, let's build an function to perform Gaussian Elimination in the case of a regular matrix.\n",
    "You are free to build your algorithm as you see fit (without using built-in functions which do the hard part for you), but here is a basic outline of one:\n",
    "* Set a variable n for the size of `A` using the `shape` method. `A.shape` returns a tuple with the dimensions of `A`, so if `A` is $n\\times n$, `A.shape[0]` will return `n`.\n",
    "* Copy A to a new array `U` (we'll generally avoid altering the input of our functions when unnecessary)\n",
    "* Use a for loop to iterate over `i` in `range(n)`. This parameter will represent the pivot we are currently working with. Then, within the for loop:\n",
    "    * \"Clear out\" column i below the pivot `U[i][i]` by iterating with a new for loop over `j` in `range(i+1,n)`. This `j` will parameterize the row we are currently \"clearing out.\"\n",
    "        * Change the `j`th row `U[j]` by subtracting the appropriate multiple of the `i`th row `U[i]` to clear out the $(i,j)$th entry `U[i][j]`.\n",
    "\n",
    "For the moment, we'll assume that the input is regular--don't worry about what happens in the case it is not."
   ]
  },
  {
   "cell_type": "code",
   "execution_count": 8,
   "id": "9d372749",
   "metadata": {},
   "outputs": [],
   "source": [
    "def my_elim(A): #The input will be a regular matrix A, encoded as a np.array\n",
    "    n=A.shape[0] #get number of rows\n",
    "    U=A.copy() #initialize U\n",
    "    for i in range(n): #parameterize pivots\n",
    "        for j in range(i+1,n): #parameterize entries below the pivot U[i][i]\n",
    "            m = U[j][i] / U[i][i] #compute which multiple of U[i] we'll need to subtract\n",
    "            U[j] = U[j] - m * U[i] #perform the subtraction            \n",
    "    return U #The output will be an upper-triangular matrix, also encoded as a np.array"
   ]
  },
  {
   "cell_type": "markdown",
   "id": "293db2cb",
   "metadata": {},
   "source": [
    "Try out your elimination function on the test matrix below (you have our word that it's regular)."
   ]
  },
  {
   "cell_type": "code",
   "execution_count": 9,
   "id": "5af180f2",
   "metadata": {
    "scrolled": true
   },
   "outputs": [
    {
     "data": {
      "text/plain": [
       "array([[   5. ,    4. ,    0. ],\n",
       "       [   0. ,    0.2,    4. ],\n",
       "       [   0. ,    0. , -115. ]])"
      ]
     },
     "execution_count": 9,
     "metadata": {},
     "output_type": "execute_result"
    }
   ],
   "source": [
    "A=np.array([[5., 4., 0.],\n",
    "        [6., 5., 4.],\n",
    "        [0., 6., 5.]])\n",
    "my_elim(A)\n",
    "#desired output: \n",
    "#        array([[   5. ,    4. ,    0. ],\n",
    "#               [   0. ,    0.2,    4. ],\n",
    "#               [   0. ,    0. , -115. ]])"
   ]
  },
  {
   "cell_type": "markdown",
   "id": "f00644a8",
   "metadata": {},
   "source": [
    "## LU Factorization\n",
    "Now, we'll add in code to compute the LU factorization of `A`.\n",
    "First, we'll need code to construct elementary matrices.\n",
    "In the cell below, define a function to give the $n\\times n$ elementary matrix $E$ where $E_{ij}=a$.\n",
    "\n",
    "One helpful numpy built-in function is `np.identity`. Try it out in the next cell"
   ]
  },
  {
   "cell_type": "code",
   "execution_count": 10,
   "id": "5e294768",
   "metadata": {},
   "outputs": [
    {
     "data": {
      "text/plain": [
       "array([[1., 0., 0., 0., 0.],\n",
       "       [0., 1., 0., 0., 0.],\n",
       "       [0., 0., 1., 0., 0.],\n",
       "       [0., 0., 0., 1., 0.],\n",
       "       [0., 0., 0., 0., 1.]])"
      ]
     },
     "execution_count": 10,
     "metadata": {},
     "output_type": "execute_result"
    }
   ],
   "source": [
    "np.identity(5)"
   ]
  },
  {
   "cell_type": "code",
   "execution_count": 11,
   "id": "cf62dc38",
   "metadata": {},
   "outputs": [],
   "source": [
    "def elem_matrix(n,i,j,a):\n",
    "    E=np.identity(n)\n",
    "    E[i][j]=a\n",
    "    return E"
   ]
  },
  {
   "cell_type": "markdown",
   "id": "519e556d",
   "metadata": {},
   "source": [
    "Now let's modify your `my_elim` function to produce an LU factorization of your input matrix `A`.\n",
    "\n",
    "Some things to keep in mind:\n",
    "* You still don't need to worry about the case that `A` is irregular--for now, assume it is regular. \n",
    "* The `np.dot` function performs matrix multiplication (that is, $AB$ is given by `np.dot(A,B)`).\n",
    "* Page 17 of Olver-Shakiban gives the formula you'll need to form `L`. Initialize it as the appropriately-sized identity matrix, and multiply by the appropriate elementary matrix in each step of the iteration"
   ]
  },
  {
   "cell_type": "code",
   "execution_count": 12,
   "id": "a5166523",
   "metadata": {},
   "outputs": [],
   "source": [
    "def my_LU(A): #The input will be a regular matrix A, encoded as a np.array\n",
    "    n=A.shape[0] #get number of rows\n",
    "    U=A.copy() #initialize U\n",
    "    L=np.identity(n) #initialize L\n",
    "    for i in range(n): #parameterize pivots\n",
    "        for j in range(i+1,n): #parameterize entries below the pivot U[i][i]\n",
    "            m=U[j][i]/U[i][i] #compute which multiple of U[i] we'll need to subtract\n",
    "            U[j]=U[j] - m * U[i] #perform the subtraction\n",
    "            L=np.dot(L , elem_matrix(n,j,i,m) ) #multiply L on the right by the elementary matrix representing the inverse of our row operation\n",
    "    return (L,U)"
   ]
  },
  {
   "cell_type": "markdown",
   "id": "b5e289bb",
   "metadata": {},
   "source": [
    "Try it out in the next cell."
   ]
  },
  {
   "cell_type": "code",
   "execution_count": 13,
   "id": "3e10d6d7",
   "metadata": {},
   "outputs": [
    {
     "name": "stdout",
     "output_type": "stream",
     "text": [
      "L=\n",
      " [[ 1.   0.   0. ]\n",
      " [ 1.2  1.   0. ]\n",
      " [ 0.  30.   1. ]] \n",
      "U=\n",
      " [[   5.     4.     0. ]\n",
      " [   0.     0.2    4. ]\n",
      " [   0.     0.  -115. ]]\n"
     ]
    }
   ],
   "source": [
    "A=np.array([[5., 4., 0.],\n",
    "        [6., 5., 4.],\n",
    "        [0., 6., 5.]])\n",
    "(L,U)=my_LU(A)\n",
    "print(\"L=\\n\",L,\"\\nU=\\n\",U)\n",
    "#desired output:\n",
    "#    (array([[ 1. ,  0. ,  0. ],\n",
    "#            [ 1.2,  1. ,  0. ],\n",
    "#            [ 0. , 30. ,  1. ]]),\n",
    "#     array([[   5. ,    4. ,    0. ],\n",
    "#            [   0. ,    0.2,    4. ],\n",
    "#            [   0. ,    0. , -115. ]]))"
   ]
  },
  {
   "cell_type": "code",
   "execution_count": 14,
   "id": "060bbe44",
   "metadata": {},
   "outputs": [
    {
     "name": "stdout",
     "output_type": "stream",
     "text": [
      "A=\n",
      " [[5. 4. 0.]\n",
      " [6. 5. 4.]\n",
      " [0. 6. 5.]] \n",
      "LU=\n",
      " [[5. 4. 0.]\n",
      " [6. 5. 4.]\n",
      " [0. 6. 5.]]\n"
     ]
    }
   ],
   "source": [
    "print(\"A=\\n\",A,\"\\nLU=\\n\",np.dot(L,U))"
   ]
  },
  {
   "cell_type": "markdown",
   "id": "ac7adaec",
   "metadata": {},
   "source": [
    "## Exercises"
   ]
  },
  {
   "cell_type": "markdown",
   "id": "34c78229",
   "metadata": {},
   "source": [
    "### Exercise 1\n",
    "So far, we haven't had to worry about the case of irregular input. However, in practice, your code needs to at least let the user know when they have entered as input an irregular matrix.\n",
    "Python performs error handling by using the built-in `raise` command to raise an `Exception`, which is a message given to the user to inform them what's gone wrong. Below is a quick demonstration:"
   ]
  },
  {
   "cell_type": "code",
   "execution_count": 15,
   "id": "bd12a73b",
   "metadata": {},
   "outputs": [],
   "source": [
    "def even_division(n):\n",
    "    if n%2 == 1: #check if n odd\n",
    "        raise Exception(\"input integer is odd\")\n",
    "    return n//2 #divide by 2\n",
    "    "
   ]
  },
  {
   "cell_type": "code",
   "execution_count": 16,
   "id": "d86a08b3",
   "metadata": {},
   "outputs": [
    {
     "data": {
      "text/plain": [
       "2"
      ]
     },
     "execution_count": 16,
     "metadata": {},
     "output_type": "execute_result"
    }
   ],
   "source": [
    "even_division(4)"
   ]
  },
  {
   "cell_type": "code",
   "execution_count": 17,
   "id": "ae1e4417",
   "metadata": {},
   "outputs": [],
   "source": [
    "#even_division(5)"
   ]
  },
  {
   "cell_type": "markdown",
   "id": "cd5e5842",
   "metadata": {},
   "source": [
    "**Exercise:**\n",
    "In the below cell, modify your code for `my_LU` to raise an exception when the input is an irregular matrix. The `Exception` should say \"Input matrix irregular.\""
   ]
  },
  {
   "cell_type": "code",
   "execution_count": 18,
   "id": "5e35f6b7",
   "metadata": {},
   "outputs": [],
   "source": [
    "def my_LU_safe(A):\n",
    "    n=A.shape[0] #get number of rows\n",
    "    U=A.copy() #initialize U\n",
    "    L=np.identity(n) #initialize L\n",
    "    for i in range(n): #parameterize pivots\n",
    "        if U[i][i]==0:\n",
    "            raise Exception(\"Input matrix irrecular\")\n",
    "        for j in range(i+1,n): #parameterize entries below the pivot U[i][i]\n",
    "            m=U[j][i]/U[i][i] #compute which multiple of U[i] we'll need to subtract\n",
    "            U[j]=U[j] - m * U[i] #perform the subtraction\n",
    "            L=np.dot(L , elem_matrix(n,j,i,m) ) #multiply L on the right by the elementary matrix representing the inverse of our row operation\n",
    "    return (L,U)"
   ]
  },
  {
   "cell_type": "code",
   "execution_count": 19,
   "id": "a6e72fe4",
   "metadata": {},
   "outputs": [],
   "source": [
    "#A=np.array([[i*j for j in range(5)] for i in range(5)]) #This should throw an exception\n",
    "#my_LU_safe(A)"
   ]
  },
  {
   "cell_type": "markdown",
   "id": "62960573",
   "metadata": {},
   "source": [
    "### Exercise 2\n",
    "One of the major use cases for LU factorization is solving systems by forward- and back- substitution, as described in Olver-Shakiban, section 1.3. \n",
    "To solve a system $A\\vec{x}=\\vec{b}$, this works by\n",
    "* computing an LU factorization $A=LU$, \n",
    "* Solving the system $L\\vec{c}=\\vec{b}$\n",
    "* Solving the system $U \\vec{x}= \\vec{c}$\n",
    "\n",
    "**Exercise:** Below, give code which implements this using `my_LU`. Do *not* use any `numpy` built-in functions which trivialize any part of this (such as taking matrix inverses)--rather you should write code to perform the substitution manually. You may choose to proceed by writing a function for back substitution then another for forward substitution if you wish--that approach is outlined below.\n",
    "Be sure to test your code before you submit!"
   ]
  },
  {
   "cell_type": "code",
   "execution_count": 20,
   "id": "6814d922",
   "metadata": {},
   "outputs": [],
   "source": [
    "def forward_sub(L,b): #input: lower-triangular matrix L, vector of compatible dimension b. \n",
    "    n=b.shape[0]\n",
    "    c=np.zeros(n) #initialize output c\n",
    "    for i in range(n):\n",
    "        c[i]=(b[i]-sum([L[i][j]*c[j] for j in range(i)]))/L[i][i] #forward-substitution formula\n",
    "    return c\n",
    "def back_sub(U,c): #input: upper-triangular matrix L, vector of compatible dimension b. \n",
    "    n=c.shape[0]\n",
    "    x=np.zeros(n) #initialize output x\n",
    "    for i in range(n):\n",
    "        x[n-1-i]=(c[n-1-i]-sum([U[n-1-i][n-1-j]*x[n-1-j] for j in range(i)]))/U[n-i-1][n-i-1] #back-substitution formula. The indexing makes it a bit more messy.\n",
    "    return x "
   ]
  },
  {
   "cell_type": "code",
   "execution_count": 21,
   "id": "8754e60e",
   "metadata": {},
   "outputs": [],
   "source": [
    "def my_solver(A,b):\n",
    "    (L,U)=my_LU(A)\n",
    "    c=forward_sub(L,b)\n",
    "    x=back_sub(U,c)\n",
    "    return x"
   ]
  },
  {
   "cell_type": "code",
   "execution_count": 22,
   "id": "aa47d23e",
   "metadata": {},
   "outputs": [
    {
     "name": "stdout",
     "output_type": "stream",
     "text": [
      "[-2.22044605e-16 -2.22044605e-16 -1.11022302e-16 -1.74860126e-15\n",
      "  1.33226763e-15  3.88578059e-16 -3.33066907e-16 -3.33066907e-16\n",
      " -5.55111512e-16  6.10622664e-16]\n"
     ]
    },
    {
     "data": {
      "text/plain": [
       "True"
      ]
     },
     "execution_count": 22,
     "metadata": {},
     "output_type": "execute_result"
    }
   ],
   "source": [
    "#testing your code\n",
    "A=RA.rand(10,10)\n",
    "b=RA.rand(10)\n",
    "x=my_solver(A,b)\n",
    "Ax=np.dot(A,x)\n",
    "print(Ax-b) #should get vector of zeros, or close to it.\n",
    "max(Ax-b)<10**(-14) #check that result is within numerical errors of correct"
   ]
  },
  {
   "cell_type": "markdown",
   "id": "fa329e99",
   "metadata": {},
   "source": [
    "### Exercise 3 (Challenge!)\n",
    "# TODO Decide whether `hilbert` gets defined here or the last activity\n",
    "LU sadly suffers from some numerical instability. \n",
    "This rears its head in particular when the input matrix $A$ is *ill-conditioned*, meaning that the product $A\\vec x$ can change significantly with relatively small perturbations of the input. \n",
    "A classic example is the $n$th *Hilbert matrix* $H_n$, given entrywise by $\\left(\\frac_{1}{i+j-1}\\right)_{i,j}$ where $i,j$ range over $1,\\dots,n$.\n",
    "For example, the third Hilbert matrix is \n",
    "$H_3=\\begin{pmatrix}\n",
    "1 & \\frac12 & \\frac13\\\\\n",
    "\\frac12 & \\frac13 & \\frac14\\\\\n",
    "\\frac13 & \\frac14 & \\frac15\n",
    "\\end{pmatrix}.$\n",
    "\n",
    "**Exercise: (a)** Write a function `hilbert` which takes as input an integer `n` and returns the `n`th Hilbert matrix $H_n$. Be careful to account for python's indexing."
   ]
  },
  {
   "cell_type": "code",
   "execution_count": 41,
   "id": "276effcd",
   "metadata": {},
   "outputs": [],
   "source": [
    "def hilbert(n):\n",
    "    return np.array([[1/(i+j+1) for i in range(n)] for j in range(n)])"
   ]
  },
  {
   "cell_type": "code",
   "execution_count": 42,
   "id": "b701d84a-b6a1-4bd9-a6f6-5a121de39d88",
   "metadata": {},
   "outputs": [
    {
     "data": {
      "text/plain": [
       "array([[1.        , 0.5       , 0.33333333, 0.25      , 0.2       ],\n",
       "       [0.5       , 0.33333333, 0.25      , 0.2       , 0.16666667],\n",
       "       [0.33333333, 0.25      , 0.2       , 0.16666667, 0.14285714],\n",
       "       [0.25      , 0.2       , 0.16666667, 0.14285714, 0.125     ],\n",
       "       [0.2       , 0.16666667, 0.14285714, 0.125     , 0.11111111]])"
      ]
     },
     "execution_count": 42,
     "metadata": {},
     "output_type": "execute_result"
    }
   ],
   "source": [
    "hilbert(5)"
   ]
  },
  {
   "cell_type": "markdown",
   "id": "f1623cf4-7d28-41e3-9da2-9fe022d18651",
   "metadata": {},
   "source": [
    "**(b):** A good way to check the numerical accuracy of a linear system solver such as `my_solver` for a given matrix $A$ is to generate a random vector $\\vec x_0$ of appropriate dimension, set $\\vec b$ to be the product $\\vec b = A \\vec x_0$, and then set $\\vec x_1$ to be the result of running the solver on the linear system $A\\vec x= \\vec b$.\n",
    "In principle, $\\vec x_1$ should be equal to $\\vec x_0$, but as we'll see, thanks to rounding errors, this is not always the case in practice. \n",
    "Write a function `hilbert_checker` takes as input a parameter `max_discrepancy` and then loops to perform the process above for increasing dimensions $n$ starting with $n=1$. Use `np.random.rand` (imported for convenience as `RA.rand`) to generate your random vectors. At each stage in the loop, print the current entry `n` and the maximum entry of the absolute difference $\\left \\lvert \\vec x_0- \\vec x_1\\right \\rvert$. Your loop should terminate when the maximum difference in absolute value between $\\vec x_0$ and $\\vec x_1$ exceeds `max_discrepancy`, returning the dimension `n` at which that occurred. How long does it take for `max_discrepancy` to exceed $10^{-8}$? What about $10^{-4}$,  $10^{-2}$,  1, 100, or 10000? Try running `hilbert_checker` a few times for the same value of `max_discrepancy`. Do you get similar results? Write a few words below summarizing your observations.\n",
    "\n",
    "*Note:* While the python built-in function `abs` does work as expected with `numpy` arrays, the same cannot be said for `max`. Rather, use `np.max`."
   ]
  },
  {
   "cell_type": "code",
   "execution_count": 70,
   "id": "d3f20905-5aaf-44d1-8a5c-393a1f012e51",
   "metadata": {},
   "outputs": [],
   "source": [
    "def hilbert_checker(max_discrepancy=1):\n",
    "    n=0\n",
    "    discrepancy=0\n",
    "    while discrepancy < max_discrepancy:\n",
    "        n+=1\n",
    "        x_0=RA.rand(n)\n",
    "        H_n=hilbert(n)\n",
    "        b=np.dot(H_n,x_0)\n",
    "        x_1=my_solver(H_n,b)\n",
    "        discrepancy=np.max(abs(x_1-x_0))\n",
    "        print(\"n=\",n,\" discrepancy=\",discrepancy)\n",
    "    return n\n",
    "#for convenience, a version without printing each time\n",
    "def hilbert_checker_quiet(max_discrepancy=1):\n",
    "    n=0\n",
    "    discrepancy=0\n",
    "    while discrepancy < max_discrepancy:\n",
    "        n+=1\n",
    "        x_0=RA.rand(n)\n",
    "        H_n=hilbert(n)\n",
    "        b=np.dot(H_n,x_0)\n",
    "        x_1=my_solver(H_n,b)\n",
    "        discrepancy=np.max(abs(x_1-x_0))\n",
    "        #print(\"n=\",n,\" discrepancy=\",discrepancy)\n",
    "    return n"
   ]
  },
  {
   "cell_type": "code",
   "execution_count": 76,
   "id": "9ca6ed14-a69f-4bf0-accd-453a9f9bda0a",
   "metadata": {},
   "outputs": [
    {
     "name": "stdout",
     "output_type": "stream",
     "text": [
      "n= 1  discrepancy= 0.0\n",
      "n= 2  discrepancy= 3.885780586188048e-16\n",
      "n= 3  discrepancy= 1.6653345369377348e-14\n",
      "n= 4  discrepancy= 4.3809400551708677e-13\n",
      "n= 5  discrepancy= 6.130707053131346e-12\n",
      "n= 6  discrepancy= 5.7807203468485113e-11\n",
      "n= 7  discrepancy= 4.3128264848313336e-10\n",
      "n= 8  discrepancy= 3.4344439470146426e-07\n"
     ]
    },
    {
     "data": {
      "text/plain": [
       "8"
      ]
     },
     "execution_count": 76,
     "metadata": {},
     "output_type": "execute_result"
    }
   ],
   "source": [
    "hilbert_checker(10**-8)"
   ]
  },
  {
   "cell_type": "code",
   "execution_count": 71,
   "id": "88a20ee2-94dc-40d8-928b-684957e32b9e",
   "metadata": {},
   "outputs": [
    {
     "name": "stdout",
     "output_type": "stream",
     "text": [
      "n= 1  discrepancy= 0.0\n",
      "n= 2  discrepancy= 5.551115123125783e-17\n",
      "n= 3  discrepancy= 4.6629367034256575e-15\n",
      "n= 4  discrepancy= 1.9142847029751664e-13\n",
      "n= 5  discrepancy= 5.071498776487715e-12\n",
      "n= 6  discrepancy= 4.553776244975438e-10\n",
      "n= 7  discrepancy= 4.826490873632849e-09\n",
      "n= 8  discrepancy= 7.209724639523074e-08\n",
      "n= 9  discrepancy= 3.3576224603981686e-06\n",
      "n= 10  discrepancy= 0.0003547376241276323\n"
     ]
    },
    {
     "data": {
      "text/plain": [
       "10"
      ]
     },
     "execution_count": 71,
     "metadata": {},
     "output_type": "execute_result"
    }
   ],
   "source": [
    "hilbert_checker(10**-4)"
   ]
  },
  {
   "cell_type": "code",
   "execution_count": 72,
   "id": "aa9cd598-ceac-4897-a835-fec2270574f7",
   "metadata": {},
   "outputs": [
    {
     "name": "stdout",
     "output_type": "stream",
     "text": [
      "n= 1  discrepancy= 0.0\n",
      "n= 2  discrepancy= 1.1102230246251565e-16\n",
      "n= 3  discrepancy= 4.551914400963142e-15\n",
      "n= 4  discrepancy= 2.1221913115709867e-13\n",
      "n= 5  discrepancy= 3.100852907778062e-13\n",
      "n= 6  discrepancy= 5.891187537798714e-11\n",
      "n= 7  discrepancy= 3.729506092842172e-09\n",
      "n= 8  discrepancy= 1.806782038982213e-07\n",
      "n= 9  discrepancy= 2.7710629124655384e-06\n",
      "n= 10  discrepancy= 0.0005064900518926274\n",
      "n= 11  discrepancy= 0.015499410615876452\n"
     ]
    },
    {
     "data": {
      "text/plain": [
       "11"
      ]
     },
     "execution_count": 72,
     "metadata": {},
     "output_type": "execute_result"
    }
   ],
   "source": [
    "hilbert_checker(10**-2)"
   ]
  },
  {
   "cell_type": "code",
   "execution_count": 73,
   "id": "fab282ed-8186-4a72-83a8-62de2b0d4ff7",
   "metadata": {},
   "outputs": [
    {
     "name": "stdout",
     "output_type": "stream",
     "text": [
      "n= 1  discrepancy= 0.0\n",
      "n= 2  discrepancy= 2.7755575615628914e-16\n",
      "n= 3  discrepancy= 3.885780586188048e-15\n",
      "n= 4  discrepancy= 1.3278267374516872e-13\n",
      "n= 5  discrepancy= 2.3425816841893266e-11\n",
      "n= 6  discrepancy= 9.536260670017782e-11\n",
      "n= 7  discrepancy= 2.7463514851167048e-08\n",
      "n= 8  discrepancy= 6.046415133853511e-07\n",
      "n= 9  discrepancy= 1.3132754306845185e-05\n",
      "n= 10  discrepancy= 3.093821259503304e-05\n",
      "n= 11  discrepancy= 0.029398363011007067\n",
      "n= 12  discrepancy= 0.3192185145758206\n",
      "n= 13  discrepancy= 2.639576182946009\n"
     ]
    },
    {
     "data": {
      "text/plain": [
       "13"
      ]
     },
     "execution_count": 73,
     "metadata": {},
     "output_type": "execute_result"
    }
   ],
   "source": [
    "hilbert_checker(10**0)"
   ]
  },
  {
   "cell_type": "code",
   "execution_count": 69,
   "id": "3c01d198-78e1-40de-99ba-82e83273373f",
   "metadata": {},
   "outputs": [
    {
     "name": "stdout",
     "output_type": "stream",
     "text": [
      "n= 1  discrepancy= 0.0\n",
      "n= 2  discrepancy= 5.551115123125783e-16\n",
      "n= 3  discrepancy= 4.218847493575595e-15\n",
      "n= 4  discrepancy= 5.739853037312059e-14\n",
      "n= 5  discrepancy= 8.077871704870176e-12\n",
      "n= 6  discrepancy= 1.1529655008502004e-10\n",
      "n= 7  discrepancy= 3.878070198304329e-09\n",
      "n= 8  discrepancy= 2.729321083583258e-07\n",
      "n= 9  discrepancy= 8.135663426167561e-06\n",
      "n= 10  discrepancy= 8.076127696349245e-05\n",
      "n= 11  discrepancy= 0.004009796992570758\n",
      "n= 12  discrepancy= 0.4448662566397419\n",
      "n= 13  discrepancy= 4.323545892063824\n",
      "n= 14  discrepancy= 12.90148471600629\n",
      "n= 15  discrepancy= 3.1234834523411683\n",
      "n= 16  discrepancy= 77.67425314316021\n",
      "n= 17  discrepancy= 23.57076162825028\n",
      "n= 18  discrepancy= 47.47846329746142\n",
      "n= 19  discrepancy= 34.137194373391054\n",
      "n= 20  discrepancy= 35.319534670543334\n",
      "n= 21  discrepancy= 53.484837429828794\n",
      "n= 22  discrepancy= 39.30836534009205\n",
      "n= 23  discrepancy= 211.5108495037341\n"
     ]
    },
    {
     "data": {
      "text/plain": [
       "23"
      ]
     },
     "execution_count": 69,
     "metadata": {},
     "output_type": "execute_result"
    }
   ],
   "source": [
    "hilbert_checker(100)"
   ]
  },
  {
   "cell_type": "code",
   "execution_count": 74,
   "id": "072f583f-81ba-4fc7-8d3f-3aef17522ec3",
   "metadata": {},
   "outputs": [
    {
     "data": {
      "text/plain": [
       "89"
      ]
     },
     "execution_count": 74,
     "metadata": {},
     "output_type": "execute_result"
    }
   ],
   "source": [
    "hilbert_checker_quiet(10**4)"
   ]
  }
 ],
 "metadata": {
  "kernelspec": {
   "display_name": "Python 3 (ipykernel)",
   "language": "python",
   "name": "python3"
  },
  "language_info": {
   "codemirror_mode": {
    "name": "ipython",
    "version": 3
   },
   "file_extension": ".py",
   "mimetype": "text/x-python",
   "name": "python",
   "nbconvert_exporter": "python",
   "pygments_lexer": "ipython3",
   "version": "3.10.12"
  }
 },
 "nbformat": 4,
 "nbformat_minor": 5
}
