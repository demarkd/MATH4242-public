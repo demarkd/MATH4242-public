{
 "cells": [
  {
   "cell_type": "markdown",
   "id": "13e646ed",
   "metadata": {},
   "source": [
    "# Activity 4: Gram-Schmidt and the QR factorization\n",
    "## Reminders\n",
    "In this exercise, we'll be writing code to transform arbitrary bases of $\\mathbb{R}^n$ into orthogonal bases with the Gram-Schmidt process.\n",
    "We'll start by reviewing some built-in functions that will be helpful."
   ]
  },
  {
   "cell_type": "code",
   "execution_count": 1,
   "id": "25d7525a",
   "metadata": {},
   "outputs": [],
   "source": [
    "import numpy as np\n",
    "from numpy import linalg as LA\n",
    "from numpy import random as RA"
   ]
  },
  {
   "cell_type": "markdown",
   "id": "34a1d7bb",
   "metadata": {},
   "source": [
    "Recall that slices allow us to work directly with columns and (in most ways) treat them as vectors. Given a numpy `array` `A`, we can extract its columns using slicing. Here are a few quick examples. "
   ]
  },
  {
   "cell_type": "code",
   "execution_count": 2,
   "id": "ff0bb697",
   "metadata": {},
   "outputs": [
    {
     "data": {
      "text/plain": [
       "array([2., 3., 0., 0.])"
      ]
     },
     "execution_count": 2,
     "metadata": {},
     "output_type": "execute_result"
    }
   ],
   "source": [
    "A=np.array([[2., 1., 0., 0.],\n",
    "       [3., 2., 1., 0.],\n",
    "       [0., 3., 2., 1.],\n",
    "       [0., 0., 3., 2.]])\n",
    "A[:,0] #first column"
   ]
  },
  {
   "cell_type": "markdown",
   "id": "46cb41cf",
   "metadata": {},
   "source": [
    "Note that slicing gives us a *view* rather than a *copy*. If what we really want is a copy, we can call the `copy()` method"
   ]
  },
  {
   "cell_type": "code",
   "execution_count": 3,
   "id": "0c642b19",
   "metadata": {},
   "outputs": [
    {
     "data": {
      "text/plain": [
       "array([[-4.,  1.,  0.,  0.],\n",
       "       [-6.,  2.,  1.,  0.],\n",
       "       [-0.,  3.,  2.,  1.],\n",
       "       [-0.,  0.,  3.,  2.]])"
      ]
     },
     "execution_count": 3,
     "metadata": {},
     "output_type": "execute_result"
    }
   ],
   "source": [
    "A[:,0]=A[:,0]*(-2) #multiply the first column by -2\n",
    "A #Now note that indeed the first column is altered"
   ]
  },
  {
   "cell_type": "code",
   "execution_count": 4,
   "id": "b3a82217",
   "metadata": {},
   "outputs": [
    {
     "data": {
      "text/plain": [
       "(array([[-4.,  1.,  0.,  0.],\n",
       "        [-6.,  2.,  1.,  0.],\n",
       "        [-0.,  3.,  2.,  1.],\n",
       "        [-0.,  0.,  3.,  2.]]),\n",
       " array([ 5., 10., 15.,  0.]))"
      ]
     },
     "execution_count": 4,
     "metadata": {},
     "output_type": "execute_result"
    }
   ],
   "source": [
    "v=A[:,1].copy() #call a copy of the second column\n",
    "v=v*5 #multiply v by 5\n",
    "A,v #check if A has changed (and compare to v)"
   ]
  },
  {
   "cell_type": "markdown",
   "id": "cd03653f",
   "metadata": {},
   "source": [
    "## Exercise 1: The Gram-Schmidt process\n",
    "Now, we'll implement the Gram-Schmidt process.\n",
    "We'll take the columns of an input matrix to be the basis we start with.\n",
    "That is, in the notation of section 4.2 of Olver-Shakiban, we'll take the columns `A[0]`, `A[1]`, ... , `A[n-1]` of our `A` to be $\\vec{w}_1,\\dots, \\vec{w}_n$.\n",
    "Our output will be a new matrix `Q` with columns given by the Gram-Schmidt process. In the notation of section 4.2, these are $\\vec{v}_1,\\dots,\\vec{v}_n$.\n",
    "\n",
    "For our first pass of the Gram-Schmidt process, write a function which implements the Gram-Schmidt process for a  matrix `A` with linearly independent columns using the Gram-Schmidt formula.\n",
    "You may do this however you like, but an outline is given in the hint below.\n",
    "<details>\n",
    "    <summary> <b> Hint: </b> (Click here to expand) </summary>\n",
    "    \n",
    "* Set `n` to be the number of *columns* in `A`.\n",
    "* Initialize a new matrix `Q` in the shape of `A`.\n",
    "* Iterate over `j` in `range(n)` parametrizing which column we are working with.\n",
    "* Adapt the formula $$\\vec{v}_j=\\vec{w}_j-\\sum_{i=1}^{j-1} \\frac{\\langle \\vec{w}_j,\\vec{v_i}\\rangle}{\\langle \\vec{v}_i,\\vec{v}_i\\rangle}\\vec{v}_i$$ to the naming and indexing established and use it to set the column `Q[j]`.\n",
    "* Return the matrix `Q`.\n",
    "    </details>"
   ]
  },
  {
   "cell_type": "code",
   "execution_count": 5,
   "id": "8f811486",
   "metadata": {},
   "outputs": [],
   "source": [
    "def my_GS(A):\n",
    "    n=A.shape[1] #Set n to be the number of columns in A\n",
    "    Q=A.copy()   #initialize Q\n",
    "    for j in range(n):\n",
    "        Q[:,j]=A[:,j]-sum([ \n",
    "                            (np.dot(A[:,j],Q[:,i])/np.dot(Q[:,i],Q[:,i]))*Q[:,i]\n",
    "                            for i in range(j)]) #only sum over columns already handled\n",
    "    return Q"
   ]
  },
  {
   "cell_type": "code",
   "execution_count": 6,
   "id": "8c729c5c",
   "metadata": {},
   "outputs": [
    {
     "data": {
      "text/plain": [
       "(array([[-4.        , -0.23076923, -0.30508475,  0.2755102 ],\n",
       "        [-6.        ,  0.15384615,  0.20338983, -0.18367347],\n",
       "        [-0.        ,  3.        , -0.03389831,  0.03061224],\n",
       "        [-0.        ,  0.        ,  3.        ,  0.04081633]]),\n",
       " array([[ 5.20000000e+01,  8.88178420e-16, -8.88178420e-16,\n",
       "          4.99600361e-16],\n",
       "        [ 8.88178420e-16,  9.07692308e+00,  2.77555756e-16,\n",
       "         -2.35922393e-16],\n",
       "        [-8.88178420e-16,  2.77555756e-16,  9.13559322e+00,\n",
       "         -5.41233725e-16],\n",
       "        [ 4.99600361e-16, -2.35922393e-16, -5.41233725e-16,\n",
       "          1.12244898e-01]]))"
      ]
     },
     "execution_count": 6,
     "metadata": {},
     "output_type": "execute_result"
    }
   ],
   "source": [
    "#testing\n",
    "A1=np.array([[1,2,3],\n",
    "            [4,5,6],\n",
    "            [1,-1,1],\n",
    "            [0,-2,-1]],\"float64\")\n",
    "Q=my_GS(A)\n",
    "Q,np.dot(np.transpose(Q),Q)  #Question: what's special about this product?\n",
    "#Desired output:\n",
    "#(array([[ 1.        ,  0.83333333,  1.06432749],\n",
    "#       [ 4.        ,  0.33333333, -0.37426901],\n",
    "#       [ 1.        , -2.16666667,  0.43274854],\n",
    "#       [ 0.        , -2.        , -0.0877193 ]]),\n",
    "# array([[ 1.80000000e+01, -1.77635684e-15, -2.22044605e-16],\n",
    "#        [-1.77635684e-15,  9.50000000e+00,  1.52655666e-15],\n",
    "#        [-2.22044605e-16,  1.52655666e-15,  1.46783626e+00]]))"
   ]
  },
  {
   "cell_type": "markdown",
   "id": "2e80fcbb",
   "metadata": {},
   "source": [
    "Your code should run and give a valid result whether `A` is square or not..\n",
    "Now, copy and modify your code to give an orthonormal basis. That is, after finding each $\\vec{v}_i$, set $\\vec u_i=\\vec v_i/\\lVert{\\vec v_i}\\rVert$ and let the output matrix's columns `Q[0]`,`Q[1]`,...,`Q[n-1]` be $\\vec u_1,\\dots , \\vec U_n$.\n",
    "\n",
    "You'll likely find the built-in `numpy` command `np.linalg.norm` useful, imported for convenience as `LA.norm`."
   ]
  },
  {
   "cell_type": "code",
   "execution_count": 7,
   "id": "c34e08ff",
   "metadata": {},
   "outputs": [],
   "source": [
    "def my_GS_normalized(A):\n",
    "    n=A.shape[1] #Set n to be the number of columns in A\n",
    "    Q=A.copy()   #initialize Q\n",
    "    for j in range(n):\n",
    "        Q[:,j]=A[:,j]-sum([ \n",
    "                            (np.dot(A[:,j],Q[:,i]))*Q[:,i]\n",
    "                            for i in range(j)]) #only sum over columns already handled\n",
    "        Q[:,j]=Q[:,j]/np.linalg.norm(Q[:,j])\n",
    "    return Q"
   ]
  },
  {
   "cell_type": "code",
   "execution_count": 8,
   "id": "4088b169",
   "metadata": {},
   "outputs": [
    {
     "data": {
      "text/plain": [
       "(array([[ 0.23570226,  0.27036904,  0.87848929],\n",
       "        [ 0.94280904,  0.10814761, -0.30891931],\n",
       "        [ 0.23570226, -0.70295949,  0.35718795],\n",
       "        [ 0.        , -0.64888568, -0.07240296]]),\n",
       " array([[ 1.00000000e+00, -1.36129200e-16, -7.70383744e-16],\n",
       "        [-1.36129200e-16,  1.00000000e+00,  4.73463928e-16],\n",
       "        [-7.70383744e-16,  4.73463928e-16,  1.00000000e+00]]))"
      ]
     },
     "execution_count": 8,
     "metadata": {},
     "output_type": "execute_result"
    }
   ],
   "source": [
    "#testing\n",
    "A=np.array([[1,2,3],\n",
    "            [4,5,6],\n",
    "            [1,-1,1],\n",
    "            [0,-2,-1]],\"float64\")\n",
    "Q=my_GS_normalized(A)\n",
    "Q,np.dot(np.transpose(Q),Q)\n",
    "#Desired output:\n",
    "#(array([[ 0.23570226,  0.27036904,  0.87848929],\n",
    "#        [ 0.94280904,  0.10814761, -0.30891931],\n",
    "#        [ 0.23570226, -0.70295949,  0.35718795],\n",
    "#        [ 0.        , -0.64888568, -0.07240296]]),\n",
    "# array([[ 1.00000000e+00, -1.36129200e-16, -7.70383744e-16],\n",
    "#        [-1.36129200e-16,  1.00000000e+00,  4.73463928e-16],\n",
    "#        [-7.70383744e-16,  4.73463928e-16,  1.00000000e+00]]))"
   ]
  },
  {
   "cell_type": "markdown",
   "id": "a6bdcab1",
   "metadata": {},
   "source": [
    "## Exercise 2: Error Handling\n",
    "Modify your functions to `raise` an `exception` when a linearly independent set is given as input. \n",
    "\n",
    "There is one major complication to this exercise: often, numpy returns a value on the order of `10**-15` or so where mathematically we should expect zero due to rounding errors. To account for this, we should take an additional parameter `tolerance` (which is set by default to `10**(-10)`) such that we ignore any variation of magnitude less than `tolerance`. (how can you make that instruction precise?)"
   ]
  },
  {
   "cell_type": "code",
   "execution_count": 9,
   "id": "d2bcc199",
   "metadata": {},
   "outputs": [],
   "source": [
    "def my_GS_safe(A,tolerance=10**(-10)):\n",
    "    n=A.shape[1] #Set n to be the number of columns in A\n",
    "    Q=A.copy()   #initialize Q\n",
    "    for j in range(n):\n",
    "        Q[:,j]=A[:,j]-sum([ \n",
    "                            (np.dot(A[:,j],Q[:,i])/np.dot(Q[:,i],Q[:,i]))*Q[:,i]\n",
    "                            for i in range(j)]) #only sum over columns already handled\n",
    "        if LA.norm(Q[:,j])<tolerance:\n",
    "            raise Exception(\"Linearly dependent input\")\n",
    "    return Q\n",
    "def my_GS_normalized_safe(A,tolerance=10**(-10)):\n",
    "    n=A.shape[1] #Set n to be the number of columns in A\n",
    "    Q=A.copy()   #initialize Q\n",
    "    for j in range(n):\n",
    "        Q[:,j]=A[:,j]-sum([ \n",
    "                            (np.dot(A[:,j],Q[:,i]))*Q[:,i]\n",
    "                            for i in range(j)]) #only sum over columns already handled\n",
    "        if LA.norm(Q[:,j])<tolerance:\n",
    "            raise Exception(\"Linearly dependent input\")\n",
    "        else:\n",
    "            Q[:,j]=Q[:,j]/LA.norm(Q[:,j])\n",
    "    return Q"
   ]
  },
  {
   "cell_type": "code",
   "execution_count": 10,
   "id": "5684f16d",
   "metadata": {},
   "outputs": [
    {
     "name": "stdout",
     "output_type": "stream",
     "text": [
      "[[ 1.          0.83333333  1.06432749]\n",
      " [ 4.          0.33333333 -0.37426901]\n",
      " [ 1.         -2.16666667  0.43274854]\n",
      " [ 0.         -2.         -0.0877193 ]]\n"
     ]
    }
   ],
   "source": [
    "#testing\n",
    "A1=np.array([[1,2,3],\n",
    "            [4,5,6],\n",
    "            [1,-1,1],\n",
    "            [0,-2,-1]],\"float64\")\n",
    "A2=np.array([[1,2,3,0],\n",
    "            [4,5,6,3],\n",
    "            [1,-1,1,-1],\n",
    "            [0,-2,-1,-1]],\"float64\")\n",
    "P1=my_GS_safe(A1)\n",
    "print(P1)\n",
    "#UNCOMMENT THESE\n",
    "#P2=my_GS_safe(A2)\n",
    "#print(P2)\n",
    "\n",
    "\n",
    "#Desired Output:\n",
    "#[[ 1.          0.83333333  1.06432749]\n",
    "# [ 4.          0.33333333 -0.37426901]\n",
    "# [ 1.         -2.16666667  0.43274854]\n",
    "# [ 0.         -2.         -0.0877193 ]]\n",
    "#---------------------------------------------------------------------------\n",
    "#Exception   \n",
    "# ...\n",
    "# Linearly dependent input"
   ]
  },
  {
   "cell_type": "code",
   "execution_count": 11,
   "id": "b3fd34b3",
   "metadata": {},
   "outputs": [
    {
     "name": "stdout",
     "output_type": "stream",
     "text": [
      "[[ 0.23570226  0.27036904  0.87848929]\n",
      " [ 0.94280904  0.10814761 -0.30891931]\n",
      " [ 0.23570226 -0.70295949  0.35718795]\n",
      " [ 0.         -0.64888568 -0.07240296]]\n"
     ]
    }
   ],
   "source": [
    "#more testing\n",
    "A1=np.array([[1,2,3],\n",
    "            [4,5,6],\n",
    "            [1,-1,1],\n",
    "            [0,-2,-1]],\"float64\")\n",
    "A2=np.array([[1,2,3,0],\n",
    "            [4,5,6,3],\n",
    "            [1,-1,1,-1],\n",
    "            [0,-2,-1,-1]],\"float64\")\n",
    "Q1=my_GS_normalized_safe(A1)\n",
    "print(Q1)\n",
    "\n",
    "#########UNCOMMENT THESE\n",
    "\n",
    "#Q2=my_GS_normalized_safe(A2)\n",
    "#print(Q2)\n",
    "\n",
    "##########\n",
    "\n",
    "#Desired output:\n",
    "#[[ 0.23570226  0.27036904  0.87848929]\n",
    "# [ 0.94280904  0.10814761 -0.30891931]\n",
    "# [ 0.23570226 -0.70295949  0.35718795]\n",
    "# [ 0.         -0.64888568 -0.07240296]]\n",
    "#\n",
    "#---------------------------------------------------------------------------\n",
    "#Exception\n",
    "#...\n",
    "#Exception: Linearly dependent input"
   ]
  },
  {
   "cell_type": "markdown",
   "id": "c1ae0ecc",
   "metadata": {},
   "source": [
    "## Exercise 3: The QR Factorization"
   ]
  },
  {
   "cell_type": "markdown",
   "id": "a67a3573",
   "metadata": {},
   "source": [
    "Now, we want to modify our code once more to produce a QR factorization of a square input matrix. Note that `my_GS_normalized` already produces an orthogonal matrix `Q` as its output given square nonsingular input. \n",
    "\n",
    "**Exercise:** Modify `my_GS_normalized` to produce a QR factorization of a square input matrix `A` (or work from scratch!). The process is described on pages 197-8 of Olver-Shakiban, but you may find the \"numerically stable\" version on page 199 easier to implement. Be sure to check your code with tests--we should have that $A=QR$ and that $QQ^T=I$"
   ]
  },
  {
   "cell_type": "code",
   "execution_count": 12,
   "id": "024e4bcc",
   "metadata": {},
   "outputs": [],
   "source": [
    "def my_QR(A): #this is the page 199 option\n",
    "    n=A.shape[1] #Set n to be the number of columns in A\n",
    "    Q=A.copy()   #initialize Q\n",
    "    R=np.zeros((n,n))\n",
    "    for j in range(n):\n",
    "        R[j,j]=LA.norm(Q[:,j])\n",
    "        Q[:,j]=Q[:,j]/R[j,j]\n",
    "        for k in range(j+1,n):\n",
    "            R[j,k]=np.dot(Q[:,k],Q[:,j])\n",
    "            Q[:,k]=Q[:,k]-Q[:,j]*R[j,k]\n",
    "    return (Q,R)"
   ]
  },
  {
   "cell_type": "code",
   "execution_count": 13,
   "id": "499f6534",
   "metadata": {},
   "outputs": [
    {
     "data": {
      "text/plain": [
       "(array([[ 1.,  2.,  3.],\n",
       "        [ 4.,  5.,  6.],\n",
       "        [ 1., -1.,  1.]]),\n",
       " array([[ 0.23570226,  0.35533453,  0.90453403],\n",
       "        [ 0.94280904,  0.14213381, -0.30151134],\n",
       "        [ 0.23570226, -0.92386977,  0.30151134]]),\n",
       " array([[4.24264069, 4.94974747, 6.59966329],\n",
       "        [0.        , 2.34520788, 0.99493668],\n",
       "        [0.        , 0.        , 1.20604538]]),\n",
       " array([[ 1.,  2.,  3.],\n",
       "        [ 4.,  5.,  6.],\n",
       "        [ 1., -1.,  1.]]),\n",
       " array([[ 1.00000000e+00, -5.25448946e-16, -4.12858351e-16],\n",
       "        [-5.25448946e-16,  1.00000000e+00, -9.74257535e-18],\n",
       "        [-4.12858351e-16, -9.74257535e-18,  1.00000000e+00]]))"
      ]
     },
     "execution_count": 13,
     "metadata": {},
     "output_type": "execute_result"
    }
   ],
   "source": [
    "#testing\n",
    "A3=np.array([[1,2,3],\n",
    "            [4,5,6],\n",
    "            [1,-1,1]],\"float64\")\n",
    "Q3,R3=my_QR(A3)\n",
    "A3,Q3,R3,np.dot(Q3,R3),np.dot(np.transpose(Q3),Q3)\n",
    "#Desired output:\n",
    "#(array([[ 1.,  2.,  3.],\n",
    "#        [ 4.,  5.,  6.],\n",
    "#        [ 1., -1.,  1.]]),\n",
    "# array([[ 0.23570226,  0.35533453,  0.90453403],\n",
    "#        [ 0.94280904,  0.14213381, -0.30151134],\n",
    "#        [ 0.23570226, -0.92386977,  0.30151134]]),\n",
    "# array([[4.24264069, 4.94974747, 6.59966329],\n",
    "#        [0.        , 2.34520788, 0.99493668],\n",
    "#        [0.        , 0.        , 1.20604538]]),\n",
    "# array([[ 1.,  2.,  3.],\n",
    "#        [ 4.,  5.,  6.],\n",
    "#        [ 1., -1.,  1.]]),\n",
    "# array([[ 1.00000000e+00, -5.25448946e-16, -4.12858351e-16],\n",
    "#        [-5.25448946e-16,  1.00000000e+00, -9.74257535e-18],\n",
    "#        [-4.12858351e-16, -9.74257535e-18,  1.00000000e+00]]))"
   ]
  },
  {
   "cell_type": "code",
   "execution_count": 14,
   "id": "4d04c7ee",
   "metadata": {},
   "outputs": [],
   "source": [
    "def my_QR2(A): #This is the uglier (page 197-198) version\n",
    "    n=A.shape[1]\n",
    "    Q=A.copy()\n",
    "    R=np.zeros((n,n))\n",
    "    R[0,0]=LA.norm(Q[:,0])\n",
    "    Q[:,0]=Q[:,0]*(1/R[0,0])\n",
    "    for j in range(1,n):\n",
    "        for i in range(j):\n",
    "            R[i,j]=np.dot(A[:,j],Q[:,i])\n",
    "        R[j,j]=np.sqrt(LA.norm(A[:,j])**2\n",
    "                                      -sum(R[:,j]**2))\n",
    "        Q[:,j]=(A[:,j]-sum([\n",
    "            R[i,j]*Q[:,i] for i in range(j)\n",
    "        ]))*(1/R[j,j])\n",
    "    return Q,R\n",
    "            \n",
    "    "
   ]
  },
  {
   "cell_type": "code",
   "execution_count": 15,
   "id": "0c2bb868",
   "metadata": {},
   "outputs": [
    {
     "data": {
      "text/plain": [
       "(array([[ 1.,  2.,  3.],\n",
       "        [ 4.,  5.,  6.],\n",
       "        [ 1., -1.,  1.]]),\n",
       " array([[ 0.23570226,  0.35533453,  0.90453403],\n",
       "        [ 0.94280904,  0.14213381, -0.30151134],\n",
       "        [ 0.23570226, -0.92386977,  0.30151134]]),\n",
       " array([[4.24264069, 4.94974747, 6.59966329],\n",
       "        [0.        , 2.34520788, 0.99493668],\n",
       "        [0.        , 0.        , 1.20604538]]),\n",
       " array([[ 1.,  2.,  3.],\n",
       "        [ 4.,  5.,  6.],\n",
       "        [ 1., -1.,  1.]]),\n",
       " array([[ 1.00000000e+00, -5.43680314e-16, -7.09824319e-16],\n",
       "        [-5.43680314e-16,  1.00000000e+00,  1.83601527e-15],\n",
       "        [-7.09824319e-16,  1.83601527e-15,  1.00000000e+00]]))"
      ]
     },
     "execution_count": 15,
     "metadata": {},
     "output_type": "execute_result"
    }
   ],
   "source": [
    "A3=np.array([[1,2,3],\n",
    "            [4,5,6],\n",
    "            [1,-1,1]],\"float64\")\n",
    "Q3,R3=my_QR2(A3)\n",
    "A3,Q3,R3,np.dot(Q3,R3),np.dot(np.transpose(Q3),Q3)\n",
    "#Desired output:\n",
    "#(array([[ 1.,  2.,  3.],\n",
    "#        [ 4.,  5.,  6.],\n",
    "#        [ 1., -1.,  1.]]),\n",
    "# array([[ 0.23570226,  0.35533453,  0.90453403],\n",
    "#        [ 0.94280904,  0.14213381, -0.30151134],\n",
    "#        [ 0.23570226, -0.92386977,  0.30151134]]),\n",
    "# array([[4.24264069, 4.94974747, 6.59966329],\n",
    "#        [0.        , 2.34520788, 0.99493668],\n",
    "#        [0.        , 0.        , 1.20604538]]),\n",
    "# array([[ 1.,  2.,  3.],\n",
    "#        [ 4.,  5.,  6.],\n",
    "#        [ 1., -1.,  1.]]),\n",
    "# array([[ 1.00000000e+00, -5.25448946e-16, -4.12858351e-16],\n",
    "#        [-5.25448946e-16,  1.00000000e+00, -9.74257535e-18],\n",
    "#        [-4.12858351e-16, -9.74257535e-18,  1.00000000e+00]]))"
   ]
  },
  {
   "cell_type": "markdown",
   "id": "ecdc8be3",
   "metadata": {},
   "source": [
    "## Exercise 4: Orthogonal Projection\n",
    "Recall from Olver-Shakiban:\n",
    "**Definition 4.31.** The *orthogonal projection* of $\\vec v$ onto the subspace $W$ is the element $\\vec w \\in W$ such that $\\vec z = \\vec v - \\vec w$ is orthogonal to $W$.\n",
    "\n",
    "Note that Theorem 4.32 below it gives a formula for $\\vec w$ in terms of an orthonormal basis for $W$.\n",
    "\n",
    "**Exercise** Given a basis for $W$ (in the form of the columns of an array `A`) and a vector `v`, write a function `my_projection` which outputs the orthogonal projection `w` of `v` onto `W`."
   ]
  },
  {
   "cell_type": "code",
   "execution_count": 16,
   "id": "53519449",
   "metadata": {},
   "outputs": [],
   "source": [
    "def my_projection(A,v):\n",
    "    Q=my_GS_normalized(A)\n",
    "    n=Q.shape[1] #number of columns in Q\n",
    "    cs= np.array([np.dot(v,Q[:,i]) for i in range(n)])#construct vector of constants c_i\n",
    "    w=np.dot(Q,cs)\n",
    "    return w"
   ]
  },
  {
   "cell_type": "code",
   "execution_count": 17,
   "id": "e12d82a4",
   "metadata": {},
   "outputs": [
    {
     "data": {
      "text/plain": [
       "(array([ 0.90039841, -0.01992032,  0.17928287, -0.23904382]),\n",
       " array([ 0.09960159,  0.01992032, -0.17928287,  0.23904382]),\n",
       " array([2.72004641e-15, 1.83186799e-15, 3.83026943e-15]))"
      ]
     },
     "execution_count": 17,
     "metadata": {},
     "output_type": "execute_result"
    }
   ],
   "source": [
    "#testing\n",
    "A1=np.array([[1,2,3],\n",
    "            [4,5,6],\n",
    "            [1,-1,1],\n",
    "            [0,-2,-1]],\"float64\")\n",
    "v=np.array([1,0,0,0],\"float64\")\n",
    "w=my_projection(A1,v)\n",
    "z=v-w\n",
    "w,z,np.dot(np.transpose(A1),z)\n",
    "#Desired output:\n",
    "#(array([ 0.90039841, -0.01992032,  0.17928287, -0.23904382]),\n",
    "# array([ 0.09960159,  0.01992032, -0.17928287,  0.23904382]),\n",
    "# array([2.72004641e-15, 1.83186799e-15, 3.83026943e-15]))\n",
    "#(or something very close to zero for the third line)"
   ]
  },
  {
   "cell_type": "markdown",
   "id": "3b41e564",
   "metadata": {},
   "source": [
    "## Exercise 5 (Challenge!): Comparing the approaches\n",
    "In exercise 2, two QR algorithms were suggested to you, one on pages 197-98 and one on page 199 of Olver-Shakiban. \n",
    "\n",
    "**(a)** Whichever one you did *not* implement, implement that one below as `my_QR2`."
   ]
  },
  {
   "cell_type": "code",
   "execution_count": 18,
   "id": "bdd4ac0f",
   "metadata": {},
   "outputs": [],
   "source": [
    "def my_QR2(A): #This is the uglier (page 197-198) version\n",
    "    n=A.shape[1]\n",
    "    Q=A.copy()\n",
    "    R=np.zeros((n,n))\n",
    "    R[0,0]=np.linalg.norm(Q[:,0])\n",
    "    Q[:,0]=Q[:,0]*(1/R[0,0])\n",
    "    for j in range(1,n):\n",
    "        for i in range(j):\n",
    "            R[i,j]=np.dot(A[:,j],Q[:,i])\n",
    "        R[j,j]=np.sqrt(np.linalg.norm(A[:,j])**2\n",
    "                                      -sum(R[:,j]**2))\n",
    "        Q[:,j]=(A[:,j]-sum([\n",
    "            R[i,j]*Q[:,i] for i in range(j)\n",
    "        ]))*(1/R[j,j])\n",
    "    return Q,R"
   ]
  },
  {
   "cell_type": "markdown",
   "id": "db111097-2268-4406-81f3-e1d71a82c133",
   "metadata": {},
   "source": [
    "**(b)** Write a function which measures failure of orthogonality of an input matrix $Q$ by giving the greatest entry of $\\left\\lvert Q^TQ-I\\right \\rvert$ where $I$ is the appropriately-sized identity matrix. \n",
    "\n",
    "*Note:* You might find issues if you try to use the base python built-in `max`. There are workarounds for this, but the best solution is probably the `numpy`-provided `np.max`."
   ]
  },
  {
   "cell_type": "code",
   "execution_count": 19,
   "id": "6db83192-7f7e-468b-965d-0ce4e2a625a2",
   "metadata": {},
   "outputs": [],
   "source": [
    "def orth_checker(Q):\n",
    "    n=Q.shape[1]\n",
    "    return np.max(abs(np.dot(np.transpose(Q),Q)-np.identity(n)))"
   ]
  },
  {
   "cell_type": "code",
   "execution_count": 20,
   "id": "41d3b9c5-8662-4915-b3ba-889f6cba56db",
   "metadata": {},
   "outputs": [
    {
     "data": {
      "text/plain": [
       "1.0085695272043962e-14"
      ]
     },
     "execution_count": 20,
     "metadata": {},
     "output_type": "execute_result"
    }
   ],
   "source": [
    "M=RA.rand(5,5)\n",
    "(Q,R)=my_QR(M)\n",
    "orth_checker(Q)"
   ]
  },
  {
   "cell_type": "markdown",
   "id": "6d15c2e9-202e-4abd-94a4-2c8d511932ff",
   "metadata": {},
   "source": [
    "**(c):** `np.random.rand(m,n)` (imported for convenience as `RA.rand(m,n)`) returns a random matrix of dimensions $m\\times n$ with entries in the interval $[0,1)$. Use this to write a function which takes as input a dimension `n` and a number of iterations `num_iters` and compares your two implementations by generating a random $n\\times n$ matrix, using both QR algorithms to compute a factorization, and checking which returns a $Q$ closer to being on-the-nose orthogonal, doing this `num_iters` times. When run, your function should print a line for each test stating which iteration the test is on, which implementation gave a result with better `orth_checker` result, and that `orth_checker` result. Finally, when the test is concluded, print out how many times each algorithm 'won' in human-readable form."
   ]
  },
  {
   "cell_type": "code",
   "execution_count": 21,
   "id": "5ffd1d4d-4668-4276-bb65-90d06395eaa6",
   "metadata": {},
   "outputs": [],
   "source": [
    "def QR_comp(n,num_iters):\n",
    "    QR1_score=0\n",
    "    QR2_score=0\n",
    "    for k in range(num_iters):\n",
    "        M=RA.rand(n,n)\n",
    "        Q1,R1=my_QR(M)\n",
    "        Q2,R2=my_QR2(M)\n",
    "        d1=orth_checker(Q1)\n",
    "        d2=orth_checker(Q2)\n",
    "        if d1>d2:\n",
    "            QR2_score+=1\n",
    "            print(\"iteration \", k+1,\" my_QR2 better, orth_checker = \", d2)\n",
    "        elif d2>d1:\n",
    "            QR1_score+=1\n",
    "            print(\"iteration \", k+1,\" my_QR better, orth_checker = \", d1)\n",
    "    if QR1_score>QR2_score:\n",
    "        print(\"my_QR better overall, preferred in \",QR1_score,\" trials out of \",num_iters)\n",
    "    elif QR1_score>QR2_score:\n",
    "        print(\"my_QR2 better overall, preferred in \",QR2_score,\" trials out of \",num_iters)\n",
    "    return"
   ]
  },
  {
   "cell_type": "code",
   "execution_count": 22,
   "id": "301edd56-f429-4dbf-ac02-924fbc9fce77",
   "metadata": {},
   "outputs": [
    {
     "name": "stdout",
     "output_type": "stream",
     "text": [
      "iteration  1  my_QR better, orth_checker =  3.2986277793410147e-16\n",
      "iteration  2  my_QR better, orth_checker =  3.0305680881220174e-15\n",
      "iteration  3  my_QR better, orth_checker =  1.1102230246251565e-16\n",
      "iteration  4  my_QR better, orth_checker =  3.634908580454884e-16\n",
      "iteration  5  my_QR better, orth_checker =  2.220446049250313e-16\n",
      "iteration  6  my_QR better, orth_checker =  2.220446049250313e-16\n",
      "iteration  7  my_QR better, orth_checker =  5.33065834487526e-16\n",
      "iteration  8  my_QR better, orth_checker =  3.064649022861732e-17\n",
      "iteration  9  my_QR2 better, orth_checker =  2.750440559930564e-18\n",
      "iteration  10  my_QR better, orth_checker =  1.324227365129846e-16\n",
      "iteration  11  my_QR better, orth_checker =  2.305259863142594e-16\n",
      "iteration  12  my_QR better, orth_checker =  1.873308840547904e-15\n",
      "iteration  13  my_QR better, orth_checker =  2.2793235828162075e-16\n",
      "iteration  16  my_QR2 better, orth_checker =  2.5220323004561075e-16\n",
      "iteration  17  my_QR better, orth_checker =  2.46206484938364e-16\n",
      "iteration  19  my_QR better, orth_checker =  2.274136087003864e-17\n",
      "iteration  20  my_QR better, orth_checker =  3.487112652808954e-16\n",
      "iteration  21  my_QR better, orth_checker =  2.220446049250313e-16\n",
      "iteration  22  my_QR better, orth_checker =  2.950742229922843e-16\n",
      "iteration  23  my_QR better, orth_checker =  2.361298117729096e-14\n",
      "iteration  24  my_QR better, orth_checker =  2.1125722366495164e-15\n",
      "iteration  25  my_QR better, orth_checker =  5.458220226442872e-16\n",
      "iteration  27  my_QR better, orth_checker =  3.3306690738754696e-16\n",
      "iteration  29  my_QR better, orth_checker =  1.42849617834268e-16\n",
      "iteration  30  my_QR better, orth_checker =  5.0852115890654226e-17\n",
      "iteration  31  my_QR better, orth_checker =  2.220446049250313e-16\n",
      "iteration  32  my_QR better, orth_checker =  2.8177158820787797e-16\n",
      "iteration  34  my_QR better, orth_checker =  4.556328149284449e-16\n",
      "iteration  35  my_QR better, orth_checker =  2.242622613401686e-16\n",
      "iteration  36  my_QR2 better, orth_checker =  2.9905092401409814e-16\n",
      "iteration  37  my_QR better, orth_checker =  2.220446049250313e-16\n",
      "iteration  38  my_QR better, orth_checker =  3.82767855180925e-16\n",
      "iteration  40  my_QR better, orth_checker =  8.469895660954369e-16\n",
      "iteration  41  my_QR better, orth_checker =  2.873195970315864e-16\n",
      "iteration  42  my_QR better, orth_checker =  8.428539566970814e-17\n",
      "iteration  43  my_QR better, orth_checker =  4.948607760726612e-16\n",
      "iteration  45  my_QR better, orth_checker =  6.7001714286833455e-16\n",
      "iteration  46  my_QR2 better, orth_checker =  5.612000651752323e-16\n",
      "iteration  47  my_QR better, orth_checker =  2.220446049250313e-16\n",
      "iteration  48  my_QR2 better, orth_checker =  1.1102230246251565e-16\n",
      "iteration  49  my_QR better, orth_checker =  1.1327004565566515e-16\n",
      "iteration  50  my_QR better, orth_checker =  3.727343066923622e-15\n",
      "iteration  51  my_QR better, orth_checker =  1.5056476600846455e-16\n",
      "iteration  52  my_QR better, orth_checker =  2.511145261207296e-16\n",
      "iteration  53  my_QR2 better, orth_checker =  4.2177599032321057e-16\n",
      "iteration  54  my_QR better, orth_checker =  1.3179622749082666e-16\n",
      "iteration  55  my_QR better, orth_checker =  4.58098623020948e-16\n",
      "iteration  56  my_QR better, orth_checker =  4.558232874649744e-16\n",
      "iteration  57  my_QR better, orth_checker =  1.804852145570734e-16\n",
      "iteration  58  my_QR better, orth_checker =  4.76750723919734e-16\n",
      "iteration  61  my_QR better, orth_checker =  1.1044612553450024e-15\n",
      "iteration  62  my_QR better, orth_checker =  1.1102230246251565e-16\n",
      "iteration  63  my_QR better, orth_checker =  1.1102230246251565e-16\n",
      "iteration  64  my_QR2 better, orth_checker =  8.452929609188657e-17\n",
      "iteration  65  my_QR2 better, orth_checker =  6.661338147750939e-16\n",
      "iteration  66  my_QR2 better, orth_checker =  3.809860686989125e-16\n",
      "iteration  67  my_QR better, orth_checker =  4.469814356709895e-16\n",
      "iteration  69  my_QR better, orth_checker =  1.2194704642989922e-16\n",
      "iteration  70  my_QR better, orth_checker =  4.832445209547052e-16\n",
      "iteration  71  my_QR better, orth_checker =  2.220446049250313e-16\n",
      "iteration  73  my_QR better, orth_checker =  3.6302454584405977e-16\n",
      "iteration  75  my_QR better, orth_checker =  2.220446049250313e-16\n",
      "iteration  76  my_QR2 better, orth_checker =  2.220446049250313e-16\n",
      "iteration  77  my_QR better, orth_checker =  6.548141201730726e-16\n",
      "iteration  78  my_QR better, orth_checker =  1.4948573088185677e-15\n",
      "iteration  79  my_QR better, orth_checker =  1.6031853180139612e-17\n",
      "iteration  80  my_QR better, orth_checker =  2.6050018261998915e-17\n",
      "my_QR better overall, preferred in  57  trials out of  80\n"
     ]
    }
   ],
   "source": [
    "QR_comp(2, 80)"
   ]
  },
  {
   "cell_type": "markdown",
   "id": "582ae349-4a75-4c5c-80d1-b1052423d479",
   "metadata": {},
   "source": [
    "(d) Try your comparison function with varying `n` and a large `num_iters`. Is one consistently better than the other? Do the results change in low or high dimension? Write a few words below. You might consider modifying your code to track how much closer to orthogonality the preferred one is compared to the other, perhaps computing the largest and average discrepancies."
   ]
  },
  {
   "cell_type": "markdown",
   "id": "0a5504c3-e4b8-4b40-a1a7-41b738a02418",
   "metadata": {},
   "source": [
    "(This is an empty markdown cell for you to type out your response)\n",
    "\n",
    "The numerically stable one should definitely perform better. Most likely, the student will find that the numerically stable version compares better most of the time in low dimension and every single time (or close to it) in higher dimension. They will probably also note that it performs worse the higher the dimension."
   ]
  },
  {
   "cell_type": "code",
   "execution_count": 23,
   "id": "39bd0950-6990-45fe-b645-2a3ce1fc5b7e",
   "metadata": {},
   "outputs": [],
   "source": [
    "def QR_diff(n,num_iters):\n",
    "    QR1_score=0\n",
    "    QR2_score=0\n",
    "    tot_diff=0\n",
    "    max_diff=-np.inf\n",
    "    min_diff=np.inf\n",
    "    for k in range(num_iters):\n",
    "        M=RA.rand(n,n)\n",
    "        Q1,R1=my_QR(M)\n",
    "        Q2,R2=my_QR2(M)\n",
    "        d1=orth_checker(Q1)\n",
    "        d2=orth_checker(Q2)\n",
    "        tot_diff+=d2-d1\n",
    "        if d2-d1>max_diff:\n",
    "            max_diff=d2-d1\n",
    "        if d2-d1<min_diff:\n",
    "            min_diff=d2-d1\n",
    "        if d1>d2:\n",
    "            QR2_score+=1\n",
    "            #print(\"iteration \", k+1,\" my_QR2 better, orth_checker = \", d2,\" difference of \",d1-d2)\n",
    "        elif d2>d1:\n",
    "            QR1_score+=1\n",
    "            #print(\"iteration \", k+1,\" my_QR better, orth_checker = \", d1,\" difference of \",d2-d1)\n",
    "    if QR1_score>QR2_score:\n",
    "        print(\"my_QR better overall, preferred in \",QR1_score,\" trials out of \",num_iters, \"\\n average difference of \",tot_diff/num_iters,\" max discrepancy of \",max_diff)\n",
    "    elif QR1_score>QR2_score:\n",
    "        print(\"my_QR2 better overall, preferred in \",QR2_score,\" trials out of \",num_iters, \"\\n average difference of \",-tot_diff/num_iters,\" max discrepancy of \",-min_diff )\n",
    "    return"
   ]
  },
  {
   "cell_type": "code",
   "execution_count": 24,
   "id": "10dd7df4-41d3-4b92-95dd-564011601856",
   "metadata": {},
   "outputs": [
    {
     "name": "stdout",
     "output_type": "stream",
     "text": [
      "my_QR better overall, preferred in  799  trials out of  1000 \n",
      " average difference of  1.6436603289915847e-13  max discrepancy of  9.513935054359707e-11\n"
     ]
    }
   ],
   "source": [
    "QR_diff(2,1000)"
   ]
  },
  {
   "cell_type": "code",
   "execution_count": 25,
   "id": "e51dc634-7f2e-4bb1-a253-6bccce9eb887",
   "metadata": {},
   "outputs": [
    {
     "name": "stdout",
     "output_type": "stream",
     "text": [
      "my_QR better overall, preferred in  1000  trials out of  1000 \n",
      " average difference of  3.3295625821234895e-11  max discrepancy of  1.7103510218308668e-08\n"
     ]
    }
   ],
   "source": [
    "QR_diff(10, 1000)"
   ]
  },
  {
   "cell_type": "code",
   "execution_count": 26,
   "id": "c638818f-943f-4510-b2d0-e700453a53b5",
   "metadata": {},
   "outputs": [
    {
     "name": "stdout",
     "output_type": "stream",
     "text": [
      "my_QR better overall, preferred in  100  trials out of  100 \n",
      " average difference of  1.7965104595940908e-07  max discrepancy of  1.7907453356321796e-05\n"
     ]
    }
   ],
   "source": [
    "QR_diff(100, 100)"
   ]
  },
  {
   "cell_type": "code",
   "execution_count": null,
   "id": "88d3dafc-ea45-4e3f-9f43-fbfdc15187d6",
   "metadata": {},
   "outputs": [],
   "source": []
  },
  {
   "cell_type": "code",
   "execution_count": null,
   "id": "69141c85-3673-485f-b672-cbf2e60a5fa5",
   "metadata": {},
   "outputs": [],
   "source": []
  }
 ],
 "metadata": {
  "kernelspec": {
   "display_name": "Python 3 (ipykernel)",
   "language": "python",
   "name": "python3"
  },
  "language_info": {
   "codemirror_mode": {
    "name": "ipython",
    "version": 3
   },
   "file_extension": ".py",
   "mimetype": "text/x-python",
   "name": "python",
   "nbconvert_exporter": "python",
   "pygments_lexer": "ipython3",
   "version": "3.10.12"
  }
 },
 "nbformat": 4,
 "nbformat_minor": 5
}
