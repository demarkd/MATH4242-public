{
 "cells": [
  {
   "cell_type": "markdown",
   "id": "05981bd6",
   "metadata": {},
   "source": [
    "# Activity 2:\n",
    "## Gaussian Eliminiation and LU Factorizations"
   ]
  },
  {
   "cell_type": "code",
   "execution_count": null,
   "id": "2d70efc4",
   "metadata": {},
   "outputs": [],
   "source": [
    "import numpy as np\n",
    "from numpy import random as RA"
   ]
  },
  {
   "cell_type": "markdown",
   "id": "67902316",
   "metadata": {},
   "source": [
    "In this activity, we will work to build an LU factorization algorithm from the ground up using only the most basic of built-in numpy commands. First, we'll review some array manipulation."
   ]
  },
  {
   "cell_type": "code",
   "execution_count": null,
   "id": "debb8ef2",
   "metadata": {},
   "outputs": [],
   "source": [
    "A=np.array([[1,2,4,-3],[2,6,1,7],[-0.5,9,3,3],[-1,2,-4,3]])"
   ]
  },
  {
   "cell_type": "markdown",
   "id": "a1f3076b",
   "metadata": {},
   "source": [
    "You can change the elements of an array individually like so:"
   ]
  },
  {
   "cell_type": "code",
   "execution_count": null,
   "id": "e7e3c37d",
   "metadata": {},
   "outputs": [],
   "source": [
    "B=A.copy()\n",
    "print(\"B=\\n\",B)\n",
    "B[0][0]=-99\n",
    "B[2][3]=99\n",
    "print(\"B=\\n\",B)"
   ]
  },
  {
   "cell_type": "markdown",
   "id": "ab24dad3",
   "metadata": {},
   "source": [
    "(recall the python indexing conventions: the top row/leftmost column are row/column zero)\n",
    "\n",
    "Arithmetic operations performed on arrays (or rows of arrays) are performed element-wise. For example:"
   ]
  },
  {
   "cell_type": "code",
   "execution_count": null,
   "id": "bb593add",
   "metadata": {},
   "outputs": [],
   "source": [
    "B=A.copy()\n",
    "B[3]=4*A[2] #change the fourth row of B to be four times the third row of A\n",
    "print(\"A=\\n\", A,\"\\nB=\\n\",B) #display A and B readably\n",
    "C=np.identity(4)-3*A #construct a new matrix given as the difference between the identity matrix and 3 times A\n",
    "print(\"C=\\n\",C) #display C readably\n"
   ]
  },
  {
   "cell_type": "markdown",
   "id": "c7dc726d",
   "metadata": {},
   "source": [
    "You can also reference rows or elements of the same array."
   ]
  },
  {
   "cell_type": "code",
   "execution_count": null,
   "id": "c87bd420",
   "metadata": {},
   "outputs": [],
   "source": [
    "B=A.copy()\n",
    "print(\"B=\\n\",B)\n",
    "B[0]=3*B[1]\n",
    "print(\"B=\\n\",B)\n",
    "B[1]=B[0][3]*B[1]\n",
    "print(\"B=\\n\",B)"
   ]
  },
  {
   "cell_type": "markdown",
   "id": "827f3c65",
   "metadata": {},
   "source": [
    "You can also swap rows of an array by calling a list of indices."
   ]
  },
  {
   "cell_type": "code",
   "execution_count": null,
   "id": "d5d7a9ec",
   "metadata": {},
   "outputs": [],
   "source": [
    "B=A.copy()\n",
    "print(\"B=\\n\",B)\n",
    "B[[0,3]]=B[[3,0]] #read this as \"set the 0th row and the 3rd row of B to be the 3rd and 0th rows of B\"\n",
    "print(\"B=\\n\",B)\n",
    "B[[1,2,3]]=B[[3,1,2]]\n",
    "print(\"B=\\n\",B)"
   ]
  },
  {
   "cell_type": "markdown",
   "id": "8fdc4f08",
   "metadata": {},
   "source": [
    "You try: copy $A$ (from above) to a new array $B$. move the bottom row to the top and shift the other rows down. Then, negate the new bottom row and multiply the new top row by $2$. Then, let $C=B-A$."
   ]
  },
  {
   "cell_type": "code",
   "execution_count": null,
   "id": "8e2bc4bc",
   "metadata": {},
   "outputs": [],
   "source": [
    "B=A.copy()\n",
    "B[[0,1,2,3]]=B[[3,0,1,2]]\n",
    "B[3]=-B[3]\n",
    "B[0]=2*B[0]\n",
    "\n",
    "C=B-A\n",
    "\n",
    "print(\"A=\\n\",A,\"\\nB=\\n\",B,\"\\nC=\\n\",C)\n",
    "#desired output:\n",
    "#A=\n",
    "# [[ 1.   2.   4.  -3. ]\n",
    "# [ 2.   6.   1.   7. ]\n",
    "# [-0.5  9.   3.   3. ]\n",
    "# [-1.   2.  -4.   3. ]] \n",
    "#B=\n",
    "# [[-2.   4.  -8.   6. ]\n",
    "# [ 1.   2.   4.  -3. ]\n",
    "# [ 2.   6.   1.   7. ]\n",
    "# [ 0.5 -9.  -3.  -3. ]] \n",
    "#C=\n",
    "# [[ -3.    2.  -12.    9. ]\n",
    "# [ -1.   -4.    3.  -10. ]\n",
    "# [  2.5  -3.   -2.    4. ]\n",
    "# [  1.5 -11.    1.   -6. ]]\n"
   ]
  },
  {
   "cell_type": "markdown",
   "id": "e9d3220c",
   "metadata": {},
   "source": [
    "## Exercise 1: Regular Gaussian Elimination\n",
    "First, let's build an function to perform Gaussian Elimination in the case of a regular matrix.\n",
    "You are free to build your algorithm as you see fit (without using built-in functions which do the hard part for you), but here is a basic outline of one:\n",
    "* Set a variable n for the size of `A` using the `shape` method. `A.shape` returns a tuple with the dimensions of `A`, so if `A` is $n\\times n$, `A.shape[0]` will return `n`.\n",
    "* Copy A to a new array `U` (we'll generally avoid altering the input of our functions when unnecessary)\n",
    "* Use a for loop to iterate over `i` in `range(n)`. This parameter will represent the pivot we are currently working with. Then, within the for loop:\n",
    "    * \"Clear out\" column i below the pivot `U[i][i]` by iterating with a new for loop over `j` in `range(i+1,n)`. This `j` will parameterize the row we are currently \"clearing out.\"\n",
    "        * Change the `j`th row `U[j]` by subtracting the appropriate multiple of the `i`th row `U[i]` to clear out the $(i,j)$th entry `U[i][j]`.\n",
    "\n",
    "For the moment, we'll assume that the input is regular--don't worry for now about what happens in the case it is not."
   ]
  },
  {
   "cell_type": "code",
   "execution_count": null,
   "id": "9d372749",
   "metadata": {},
   "outputs": [],
   "source": [
    "def my_elim(A): #The input will be a regular matrix A, encoded as a np.array\n",
    "    n=A.shape[0] #get number of rows\n",
    "    U=A.copy() #initialize U\n",
    "    for i in range(n): #parameterize pivots\n",
    "        for j in range(i+1,n): #parameterize entries below the pivot U[i][i]\n",
    "            m = U[j][i] / U[i][i] #compute which multiple of U[i] we'll need to subtract\n",
    "            U[j] = U[j] - m * U[i] #perform the subtraction            \n",
    "    return U #The output will be an upper-triangular matrix, also encoded as a np.array"
   ]
  },
  {
   "cell_type": "markdown",
   "id": "293db2cb",
   "metadata": {},
   "source": [
    "Try out your elimination function on the test matrix below (you have our word that it's regular)."
   ]
  },
  {
   "cell_type": "code",
   "execution_count": null,
   "id": "5af180f2",
   "metadata": {
    "scrolled": true
   },
   "outputs": [],
   "source": [
    "A=np.array([[5., 4., 0.],\n",
    "        [6., 5., 4.],\n",
    "        [0., 6., 5.]])\n",
    "my_elim(A)\n",
    "#desired output: \n",
    "#        array([[   5. ,    4. ,    0. ],\n",
    "#               [   0. ,    0.2,    4. ],\n",
    "#               [   0. ,    0. , -115. ]])"
   ]
  },
  {
   "cell_type": "markdown",
   "id": "f00644a8",
   "metadata": {},
   "source": [
    "## Exercise 2: LU Factorization\n",
    "Now, we'll add in code to compute the LU factorization of `A`.\n",
    "First, we'll need code to construct elementary matrices.\n",
    "In the cell below, define a function to give the $n\\times n$ elementary matrix $E$ where $E_{ij}=a$.\n",
    "\n",
    "One helpful numpy built-in function is `np.identity`. Try it out in the next cell"
   ]
  },
  {
   "cell_type": "code",
   "execution_count": null,
   "id": "5e294768",
   "metadata": {},
   "outputs": [],
   "source": [
    "np.identity(5)"
   ]
  },
  {
   "cell_type": "markdown",
   "id": "c19daaf3-b25b-47af-bc5e-a4a60f4caebd",
   "metadata": {},
   "source": [
    "**Exercise: (a)** Now, use that to write your `elem_matrix` function."
   ]
  },
  {
   "cell_type": "code",
   "execution_count": null,
   "id": "cf62dc38",
   "metadata": {},
   "outputs": [],
   "source": [
    "def elem_matrix(n,i,j,a):\n",
    "    E=np.identity(n)\n",
    "    E[i][j]=a\n",
    "    return E"
   ]
  },
  {
   "cell_type": "markdown",
   "id": "519e556d",
   "metadata": {},
   "source": [
    "**(b)** Now let's modify your `my_elim` function to produce an LU factorization of your input matrix `A`.\n",
    "\n",
    "Some things to keep in mind:\n",
    "* You still don't need to worry about the case that `A` is irregular--for now, assume it is regular. \n",
    "* The `np.dot` function performs matrix multiplication (that is, $AB$ is given by `np.dot(A,B)`).\n",
    "* Page 17 of Olver-Shakiban gives the formula you'll need to form `L`. Initialize it as the appropriately-sized identity matrix, and multiply by the appropriate elementary matrix in each step of the iteration"
   ]
  },
  {
   "cell_type": "code",
   "execution_count": null,
   "id": "a5166523",
   "metadata": {},
   "outputs": [],
   "source": [
    "def my_LU(A): #The input will be a regular matrix A, encoded as a np.array\n",
    "    n=A.shape[0] #get number of rows\n",
    "    U=A.copy() #initialize U\n",
    "    L=np.identity(n) #initialize L\n",
    "    for i in range(n): #parameterize pivots\n",
    "        for j in range(i+1,n): #parameterize entries below the pivot U[i][i]\n",
    "            m=U[j][i]/U[i][i] #compute which multiple of U[i] we'll need to subtract\n",
    "            U[j]=U[j] - m * U[i] #perform the subtraction\n",
    "            L=np.dot(L , elem_matrix(n,j,i,m) ) #multiply L on the right by the elementary matrix representing the inverse of our row operation\n",
    "    return (L,U)"
   ]
  },
  {
   "cell_type": "markdown",
   "id": "b5e289bb",
   "metadata": {},
   "source": [
    "Try it out in the next two cells."
   ]
  },
  {
   "cell_type": "code",
   "execution_count": null,
   "id": "3e10d6d7",
   "metadata": {},
   "outputs": [],
   "source": [
    "A=np.array([[5., 4., 0.],\n",
    "        [6., 5., 4.],\n",
    "        [0., 6., 5.]])\n",
    "(L,U)=my_LU(A)\n",
    "print(\"L=\\n\",L,\"\\nU=\\n\",U)\n",
    "#desired output:\n",
    "#    (array([[ 1. ,  0. ,  0. ],\n",
    "#            [ 1.2,  1. ,  0. ],\n",
    "#            [ 0. , 30. ,  1. ]]),\n",
    "#     array([[   5. ,    4. ,    0. ],\n",
    "#            [   0. ,    0.2,    4. ],\n",
    "#            [   0. ,    0. , -115. ]]))"
   ]
  },
  {
   "cell_type": "code",
   "execution_count": 66,
   "id": "060bbe44",
   "metadata": {},
   "outputs": [
    {
     "name": "stdout",
     "output_type": "stream",
     "text": [
      "A=\n",
      " [[0.14509204 0.32108452 0.39526872 0.86278664 0.31933496 0.40132048\n",
      "  0.30546698 0.11704652 0.25564367 0.17806998]\n",
      " [0.35490346 0.3590646  0.83303829 0.08531373 0.3578937  0.8892153\n",
      "  0.99775313 0.26251429 0.79679859 0.02588547]\n",
      " [0.89718993 0.75091897 0.43887796 0.35304412 0.20679536 0.62063301\n",
      "  0.76639068 0.8813102  0.13003238 0.0479438 ]\n",
      " [0.28953305 0.14521926 0.86102509 0.18314289 0.39786691 0.21598413\n",
      "  0.62658133 0.72176809 0.59846813 0.18931132]\n",
      " [0.76600162 0.06075262 0.35235814 0.85963326 0.66441031 0.57166466\n",
      "  0.19309368 0.65639484 0.57665367 0.93116179]\n",
      " [0.06269821 0.88204077 0.31799626 0.50472747 0.35745125 0.91730262\n",
      "  0.6717936  0.01234591 0.64430528 0.34120225]\n",
      " [0.03858558 0.13535752 0.70106743 0.66115775 0.10221863 0.86961372\n",
      "  0.03702521 0.31006449 0.52700891 0.38440762]\n",
      " [0.19453926 0.00799612 0.69836337 0.93137464 0.12885283 0.6763548\n",
      "  0.90225647 0.36620062 0.35175356 0.55851439]\n",
      " [0.44277871 0.74976365 0.6536152  0.78599172 0.76741515 0.61592592\n",
      "  0.56257019 0.91755429 0.24956144 0.14426807]\n",
      " [0.06462447 0.67945693 0.00442432 0.92421331 0.37801743 0.70078887\n",
      "  0.23467441 0.93781859 0.72141539 0.72334841]] \n",
      "LU=\n",
      " [[5. 4. 0.]\n",
      " [6. 5. 4.]\n",
      " [0. 6. 5.]]\n"
     ]
    }
   ],
   "source": [
    "#Check if reconstruction works!\n",
    "print(\"A=\\n\",A,\"\\nLU=\\n\",np.dot(L,U))"
   ]
  },
  {
   "cell_type": "markdown",
   "id": "34c78229",
   "metadata": {},
   "source": [
    "**(c)** So far, we haven't had to worry about the case of irregular input. However, in practice, your code needs to at least let the user know when they have entered as input an irregular matrix.\n",
    "Python performs error handling by using the built-in `raise` command to raise an `Exception`, which is a message given to the user to inform them what's gone wrong. Below is a quick demonstration:"
   ]
  },
  {
   "cell_type": "code",
   "execution_count": null,
   "id": "bd12a73b",
   "metadata": {},
   "outputs": [],
   "source": [
    "def even_division(n):\n",
    "    if n%2 == 1: #check if n odd\n",
    "        raise Exception(\"input integer is odd\")\n",
    "    return n//2 #divide by 2\n",
    "    "
   ]
  },
  {
   "cell_type": "code",
   "execution_count": null,
   "id": "d86a08b3",
   "metadata": {},
   "outputs": [],
   "source": [
    "even_division(4)"
   ]
  },
  {
   "cell_type": "code",
   "execution_count": null,
   "id": "ae1e4417",
   "metadata": {},
   "outputs": [],
   "source": [
    "#even_division(5)"
   ]
  },
  {
   "cell_type": "markdown",
   "id": "cd5e5842",
   "metadata": {},
   "source": [
    "**Exercise:**\n",
    "In the below cell, modify your code for `my_LU` to raise an exception when the input is an irregular matrix. The `Exception` should say \"Input matrix irregular.\""
   ]
  },
  {
   "cell_type": "code",
   "execution_count": null,
   "id": "5e35f6b7",
   "metadata": {},
   "outputs": [],
   "source": [
    "def my_LU_safe(A):\n",
    "    n=A.shape[0] #get number of rows\n",
    "    U=A.copy() #initialize U\n",
    "    L=np.identity(n) #initialize L\n",
    "    for i in range(n): #parameterize pivots\n",
    "        if U[i][i]==0:\n",
    "            raise Exception(\"Input matrix irrecular\")\n",
    "        for j in range(i+1,n): #parameterize entries below the pivot U[i][i]\n",
    "            m=U[j][i]/U[i][i] #compute which multiple of U[i] we'll need to subtract\n",
    "            U[j]=U[j] - m * U[i] #perform the subtraction\n",
    "            L=np.dot(L , elem_matrix(n,j,i,m) ) #multiply L on the right by the elementary matrix representing the inverse of our row operation\n",
    "    return (L,U)"
   ]
  },
  {
   "cell_type": "code",
   "execution_count": null,
   "id": "a6e72fe4",
   "metadata": {},
   "outputs": [],
   "source": [
    "#A=np.array([[i*j for j in range(5)] for i in range(5)]) #This should throw an exception\n",
    "#my_LU_safe(A)"
   ]
  },
  {
   "cell_type": "markdown",
   "id": "62960573",
   "metadata": {},
   "source": [
    "### Exercise 3: Solving Linear Systems\n",
    "One of the major use cases for LU factorization is solving systems by forward- and back- substitution, as described in Olver-Shakiban, section 1.3. \n",
    "To solve a system $A\\vec{x}=\\vec{b}$, this works by\n",
    "* computing an LU factorization $A=LU$, \n",
    "* Solving the system $L\\vec{c}=\\vec{b}$\n",
    "* Solving the system $U \\vec{x}= \\vec{c}$\n",
    "\n",
    "**Exercise:** Below, give code which implements this using `my_LU`. Do *not* use any `numpy` built-in functions which trivialize any part of this (such as taking matrix inverses)--rather you should write code to perform the substitution manually. You may choose to proceed by writing a function for back substitution then another for forward substitution if you wish--that approach is outlined below.\n",
    "Be sure to test your code before you submit!"
   ]
  },
  {
   "cell_type": "code",
   "execution_count": null,
   "id": "6814d922",
   "metadata": {},
   "outputs": [],
   "source": [
    "def forward_sub(L,b): #input: lower-triangular matrix L, vector of compatible dimension b. \n",
    "    n=b.shape[0]\n",
    "    c=np.zeros(n) #initialize output c\n",
    "    for i in range(n):\n",
    "        c[i]=(b[i]-sum([L[i][j]*c[j] for j in range(i)]))/L[i][i] #forward-substitution formula\n",
    "    return c\n",
    "def back_sub(U,c): #input: upper-triangular matrix L, vector of compatible dimension b. \n",
    "    n=c.shape[0]\n",
    "    x=np.zeros(n) #initialize output x\n",
    "    for i in range(n):\n",
    "        x[-(1+i)]=(c[-(1+i)]-sum([U[-(i+1)][-(j+1)]*x[-(j+1)] for j in range(i)]))/U[-(i+1)][-(i+1)] #back-substitution formula.\n",
    "    return x "
   ]
  },
  {
   "cell_type": "code",
   "execution_count": null,
   "id": "8754e60e",
   "metadata": {},
   "outputs": [],
   "source": [
    "def my_solver(A,b):\n",
    "    (L,U)=my_LU(A)\n",
    "    c=forward_sub(L,b)\n",
    "    x=back_sub(U,c)\n",
    "    return x"
   ]
  },
  {
   "cell_type": "code",
   "execution_count": null,
   "id": "aa47d23e",
   "metadata": {},
   "outputs": [],
   "source": [
    "#testing your code\n",
    "A=RA.rand(10,10)\n",
    "b=RA.rand(10)\n",
    "x=my_solver(A,b)\n",
    "Ax=np.dot(A,x)\n",
    "print(Ax-b) #should get vector of zeros, or close to it.\n",
    "max(Ax-b)<10**(-13) #check that result is within numerical error of correct"
   ]
  },
  {
   "cell_type": "markdown",
   "id": "fa329e99",
   "metadata": {},
   "source": [
    "### Exercise 4 (Challenge!): Hilbert Matrices and Numerical Instability.\n",
    "LU sadly suffers from some numerical instability. \n",
    "This rears its head in particular when the input matrix $A$ is *ill-conditioned*, meaning that the product $A\\vec x$ can change significantly with relatively small perturbations of the input. \n",
    "A classic example is the $n$th *Hilbert matrix* $H_n$, given entrywise by $$H_n=\\left(\\frac{1}{i+j-1}\\right)_{i,j}$$ where $i,j$ range over $1,\\dots,n$.\n",
    "For example, the third Hilbert matrix is \n",
    "$$H_3=\\begin{pmatrix}\n",
    "1 & \\frac12 & \\frac13\\\\\n",
    "\\frac12 & \\frac13 & \\frac14\\\\\n",
    "\\frac13 & \\frac14 & \\frac15\n",
    "\\end{pmatrix}.$$\n",
    "\n",
    "**Exercise: (a)** Write a function `hilbert` which takes as input an integer `n` and returns the `n`th Hilbert matrix $H_n$. Be careful to account for python's indexing."
   ]
  },
  {
   "cell_type": "code",
   "execution_count": null,
   "id": "276effcd",
   "metadata": {},
   "outputs": [],
   "source": [
    "def hilbert(n):\n",
    "    return np.array([[1/(i+j+1) for i in range(n)] for j in range(n)])"
   ]
  },
  {
   "cell_type": "code",
   "execution_count": null,
   "id": "b701d84a-b6a1-4bd9-a6f6-5a121de39d88",
   "metadata": {},
   "outputs": [],
   "source": [
    "hilbert(5)"
   ]
  },
  {
   "cell_type": "markdown",
   "id": "f1623cf4-7d28-41e3-9da2-9fe022d18651",
   "metadata": {},
   "source": [
    "**(b):** A good way to check the numerical accuracy of a linear system solver such as `my_solver` for a given matrix $A$ is to generate a random vector $\\vec x_0$ of appropriate dimension, set $\\vec b$ to be the product $\\vec b = A \\vec x_0$, and then set $\\vec x_1$ to be the result of running the solver on the linear system $A\\vec x= \\vec b$.\n",
    "In principle, $\\vec x_1$ should be equal to $\\vec x_0$, but as we'll see, thanks to rounding errors, this is not always the case in practice. \n",
    "Write a function `hilbert_checker` takes as input a parameter `max_discrepancy` and then loops to perform the process above for increasing dimensions $n$ starting with $n=1$. Use `np.random.rand` (imported for convenience as `RA.rand`) to generate your random vectors. At each stage in the loop, print the current entry `n` and the maximum entry of the absolute difference $\\left \\lvert \\vec x_0- \\vec x_1\\right \\rvert$. Your loop should terminate when the maximum difference in absolute value between $\\vec x_0$ and $\\vec x_1$ exceeds `max_discrepancy`, returning the dimension `n` at which that occurred. How long does it take for `max_discrepancy` to exceed $10^{-8}$? What about $10^{-4}$,  $10^{-2}$,  1, 100, or 10000? Try running `hilbert_checker` a few times for the same value of `max_discrepancy`. Do you get similar results? Write a few words below summarizing your observations.\n",
    "\n",
    "*Note:* While the python built-in function `abs` does work as expected with `numpy` arrays, the same cannot be said for `max`. Rather, use `np.max`."
   ]
  },
  {
   "cell_type": "code",
   "execution_count": null,
   "id": "d3f20905-5aaf-44d1-8a5c-393a1f012e51",
   "metadata": {},
   "outputs": [],
   "source": [
    "def hilbert_checker(max_discrepancy=1):\n",
    "    n=0\n",
    "    discrepancy=0\n",
    "    while discrepancy < max_discrepancy:\n",
    "        n+=1\n",
    "        x_0=RA.rand(n)\n",
    "        H_n=hilbert(n)\n",
    "        b=np.dot(H_n,x_0)\n",
    "        x_1=my_solver(H_n,b)\n",
    "        discrepancy=np.max(abs(x_1-x_0))\n",
    "        print(\"n=\",n,\" discrepancy=\",discrepancy)\n",
    "    return n\n",
    "#for convenience, a version without printing each time\n",
    "def hilbert_checker_quiet(max_discrepancy=1):\n",
    "    n=0\n",
    "    discrepancy=0\n",
    "    while discrepancy < max_discrepancy:\n",
    "        n+=1\n",
    "        x_0=RA.rand(n)\n",
    "        H_n=hilbert(n)\n",
    "        b=np.dot(H_n,x_0)\n",
    "        x_1=my_solver(H_n,b)\n",
    "        discrepancy=np.max(abs(x_1-x_0))\n",
    "        #print(\"n=\",n,\" discrepancy=\",discrepancy)\n",
    "    return n"
   ]
  },
  {
   "cell_type": "code",
   "execution_count": null,
   "id": "9ca6ed14-a69f-4bf0-accd-453a9f9bda0a",
   "metadata": {},
   "outputs": [],
   "source": [
    "hilbert_checker(10**-8)"
   ]
  },
  {
   "cell_type": "code",
   "execution_count": null,
   "id": "88a20ee2-94dc-40d8-928b-684957e32b9e",
   "metadata": {},
   "outputs": [],
   "source": [
    "hilbert_checker(10**-4)"
   ]
  },
  {
   "cell_type": "code",
   "execution_count": null,
   "id": "aa9cd598-ceac-4897-a835-fec2270574f7",
   "metadata": {},
   "outputs": [],
   "source": [
    "hilbert_checker(10**-2)"
   ]
  },
  {
   "cell_type": "code",
   "execution_count": null,
   "id": "fab282ed-8186-4a72-83a8-62de2b0d4ff7",
   "metadata": {},
   "outputs": [],
   "source": [
    "hilbert_checker(10**0)"
   ]
  },
  {
   "cell_type": "code",
   "execution_count": null,
   "id": "3c01d198-78e1-40de-99ba-82e83273373f",
   "metadata": {},
   "outputs": [],
   "source": [
    "hilbert_checker(100)"
   ]
  },
  {
   "cell_type": "code",
   "execution_count": null,
   "id": "072f583f-81ba-4fc7-8d3f-3aef17522ec3",
   "metadata": {},
   "outputs": [],
   "source": [
    "hilbert_checker_quiet(10**4)"
   ]
  }
 ],
 "metadata": {
  "kernelspec": {
   "display_name": "Python 3 (ipykernel)",
   "language": "python",
   "name": "python3"
  },
  "language_info": {
   "codemirror_mode": {
    "name": "ipython",
    "version": 3
   },
   "file_extension": ".py",
   "mimetype": "text/x-python",
   "name": "python",
   "nbconvert_exporter": "python",
   "pygments_lexer": "ipython3",
   "version": "3.10.12"
  }
 },
 "nbformat": 4,
 "nbformat_minor": 5
}
