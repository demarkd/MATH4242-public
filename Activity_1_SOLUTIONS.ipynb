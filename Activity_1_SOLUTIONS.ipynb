{
 "cells": [
  {
   "cell_type": "markdown",
   "id": "ddfb435c-f4c3-4ed2-98ba-df6ebc434e0f",
   "metadata": {},
   "source": [
    "# TODO Expamnd on generative AI\n",
    "# TODO decide whether to split this somehow"
   ]
  },
  {
   "cell_type": "markdown",
   "id": "9b182e8a-e572-4064-8652-6b7110d51e1e",
   "metadata": {},
   "source": [
    "# Activity 1: Introduction to Python and NumPy\n",
    "## What is this?\n",
    "\n",
    "Welcome to MATH 4242!\n",
    "In these activities, we'll be exploring the material from class with hands-on computational activities.\n",
    "One goal is to teach the usage of three key tools in concert with each other:\n",
    "\n",
    "- **Python:** Python 3 is the programming language we'll be using for the semester.\n",
    "Python is a *multi-paradigm general purpose* language, meaning it can be used in a great variety of ways for many different purposes.\n",
    "Some of these purposes common today include data science and machine learning, in part motivating the decision to use it for MATH 4242.\n",
    "Python is highly *extensible* meaning that in addition to the functionality offered by \"base\" Python, there are a great many *libraries* made by Python developers around the world which add additional features.\n",
    "One of these libraries in particular will be highly relevant to us:\n",
    "- **NumPy:**  NumPy (**Num**erical **Py**thon) is a Python library which adds better support for numerical computations, particularly in linear algebra.\n",
    "NumPy provides the `ndarray` data type which will be our primary method of modeling matrices and vectors, as well as an extensive selection of tools for manipulating them.\n",
    "\n",
    "- **jupyter:** You by now have at least some degree of familiarity with jupyter--that is the platform you're using right now!\n",
    "Jupyter provides *notebooks,* which are the environment this is appearing in.\n",
    "A notebook is comprised of *cells* which may contain *markdown* or code.\n",
    "*Markdown* is a way of creating formatted text.\n",
    "This cell is an example of markdown.\n",
    "\n",
    "### How to use these notebooks\n",
    "These activities are intended to be truly **interactive**.\n",
    "Some example code will be provided, but whether in the context of an exercise or an example, you will be asked to fill many of the code cells. Especially in examples, you are invited and encouraged to discuss strategy and technique with your classmates and TA.\n",
    "Crucially, you are **strongly encouraged** never to run code without at least attempting to understand what it will do (or at least, not to move on to the next thing until you have understood the previous).\n",
    "Some very helpful tools are at your disposal to that end:\n",
    "\n",
    "- You can always add an additional code cell to a notebook to experiment!\n",
    "You are encouraged to do this frequently!\n",
    "- You can read the documentation for various function by using the `help` function. For instance, here is how we can get more information about the `abs` function:\n",
    "    ```Python\n",
    "    help(abs)\n",
    "    ```\n",
    "    This returns: \n",
    "    ```\n",
    "    Help on built-in function abs in module builtins:\n",
    "\n",
    "    abs(x, /)\n",
    "        Return the absolute value of the argument.\n",
    "    ```\n",
    "    You can also find documentation for all NumPy functions and objects on the [NumPy website](https://numpy.org/doc/2.1/) and all Python functions and objects on the [Python website](https://docs.python.org/3/).\n",
    "- Google and other search engines such as duckduckgo are your friend! When stuck, a good way to get going is to simply search \"NumPy [quick description of what you are stuck with].\"\n",
    "Often, the most helpful results are from the [Stack Exchange](https://stackexchange.com/) family of websites.\n",
    "You are **strongly discouraged** from using generative AI to answer questions.\n",
    "Using generative AI to complete any exercise is unambiguously academic dishonesty.\n",
    "Please do not do it.\n",
    "\n",
    "Each time you are asked to provide code, there will be a *test* for your code below the relevant code cell. \n",
    "Usually, there will be a comment in that cell with the desired output.\n",
    "If your output matches that comment, you know that your code at least works in that instance!\n",
    "Sometimes no desired output is provided. In that case, it is because there are theoretical methods to anticipate what the output should be from lecture or the textbook.\n",
    "If you don't know what the test should output, discuss with a classmate or your TA!\n",
    "Whether a test is provided or not, you are very much encouraged to write your own!\n",
    "\n",
    "To try out getting help, in the code cell below, use the `help` function to bring up help on the Python built-in `max` function.\n",
    "\n"
   ]
  },
  {
   "cell_type": "code",
   "execution_count": 2,
   "id": "19c477f0-0ece-4e21-a720-2bd8afa159d6",
   "metadata": {},
   "outputs": [
    {
     "name": "stdout",
     "output_type": "stream",
     "text": [
      "Help on built-in function max in module builtins:\n",
      "\n",
      "max(...)\n",
      "    max(iterable, *[, default=obj, key=func]) -> value\n",
      "    max(arg1, arg2, *args, *[, key=func]) -> value\n",
      "    \n",
      "    With a single iterable argument, return its biggest item. The\n",
      "    default keyword-only argument specifies an object to return if\n",
      "    the provided iterable is empty.\n",
      "    With two or more arguments, return the largest argument.\n",
      "\n"
     ]
    }
   ],
   "source": [
    "help(max)"
   ]
  },
  {
   "cell_type": "markdown",
   "id": "77b84654-664a-49f9-aa52-eacb075e5196",
   "metadata": {},
   "source": [
    "##  Python: variables, numbers, objects, types, strings, lists, loops.\n",
    "This is intended as a very quick introduction. \n",
    "You are encouraged to seek out more resources to gain more familiarity and comfort with the language.\n",
    "For example, [this](https://www.w3schools.com/python/python_intro.asp) is a free tutorial which goes in significantly more depth.\n",
    "\n",
    "One of the most basic features of the python language are *variables*.\n",
    "These are names which in general reference *data types*.\n",
    "We'll see examples of more complex types later, but let's start with some simple ones, such as numerical types.\n",
    "The below example makes use of the `print` function, which as you'll see provides information about its argument to output.\n",
    "To evaluate a jupyter cell, hit shift-enter after selecting that cell."
   ]
  },
  {
   "cell_type": "code",
   "execution_count": 4,
   "id": "65e316bc-7da1-4d76-b7f3-d311642f774f",
   "metadata": {},
   "outputs": [
    {
     "name": "stdout",
     "output_type": "stream",
     "text": [
      "11\n",
      "24\n",
      "5\n",
      "11\n",
      "512\n"
     ]
    }
   ],
   "source": [
    "a=8\n",
    "b=3\n",
    "print(a+b) # addition\n",
    "print(a*b) # multiplication\n",
    "print(a-b) # subtraction\n",
    "print(a^b) # surprise! was that what you expected?\n",
    "print(a**b) # what do these last two do?"
   ]
  },
  {
   "cell_type": "markdown",
   "id": "81507f63-1050-4339-9139-fb9c37d4db5b",
   "metadata": {},
   "source": [
    "Much of Python's syntax is quite intuitive, but there are a few quirks to get used to (as you've now seen, exponentiation was handled differently than you may have expected).\n",
    "As you've seen, in this case `^` functioned as addition, while exponentiation is represented with `**`.\n",
    "One other subtlety comes about in division.\n",
    "Try out the following example."
   ]
  },
  {
   "cell_type": "code",
   "execution_count": 10,
   "id": "f64be798-9e37-491b-902f-d53eba241ca8",
   "metadata": {},
   "outputs": [
    {
     "name": "stdout",
     "output_type": "stream",
     "text": [
      "2\n",
      "2.6666666666666665\n"
     ]
    }
   ],
   "source": [
    "print(a//b) # what is this?\n",
    "print(a/b)  # how about this?"
   ]
  },
  {
   "cell_type": "markdown",
   "id": "302e6e25-36cf-4d35-b765-ee185774ad05",
   "metadata": {},
   "source": [
    "Every object in python has a *type*.\n",
    "You can check types using the `type` function.\n",
    "For example, try checking the type of `a` and `a/b` below."
   ]
  },
  {
   "cell_type": "code",
   "execution_count": 14,
   "id": "96263e03-a486-4b8d-8a1d-32c38187c3dd",
   "metadata": {},
   "outputs": [
    {
     "data": {
      "text/plain": [
       "int"
      ]
     },
     "execution_count": 14,
     "metadata": {},
     "output_type": "execute_result"
    }
   ],
   "source": [
    "type(a)"
   ]
  },
  {
   "cell_type": "code",
   "execution_count": 15,
   "id": "7c982972-ccf8-45f5-a942-9a9c88b241d9",
   "metadata": {},
   "outputs": [
    {
     "data": {
      "text/plain": [
       "float"
      ]
     },
     "execution_count": 15,
     "metadata": {},
     "output_type": "execute_result"
    }
   ],
   "source": [
    "type(a/b)"
   ]
  },
  {
   "cell_type": "markdown",
   "id": "025981dc-81cf-4705-8004-ab92de9a195b",
   "metadata": {},
   "source": [
    "Note they are different!\n",
    "The `int` type is used to represent whole numbers, while the `float` type is used to represent decimals.\n",
    "In our applications, we will be primarily working with `float`s. \n",
    "For the most part, we'll be able to sidestep these subtleties, but there will be cases in which some care will be necessary.\n",
    "\n",
    "Another object which will come up for us are `string`s.\n",
    "These are a mode of storing text.\n",
    "Take a look at the example below. \n",
    "Try to come up with a way to print \"Hello world!!!\" 20 times, with a space in between each instance."
   ]
  },
  {
   "cell_type": "code",
   "execution_count": 17,
   "id": "2b14c20b-f572-41b2-839d-41e3ae460ee4",
   "metadata": {},
   "outputs": [
    {
     "name": "stdout",
     "output_type": "stream",
     "text": [
      "Hello World!\n",
      "HelloHelloHelloHelloHelloHelloHelloHelloHelloHelloHelloHelloHelloHelloHello\n"
     ]
    }
   ],
   "source": [
    "a= \"Hello\"\n",
    "b= \" \"\n",
    "c= \"World\"\n",
    "d= \"!\"\n",
    "print(a+b+c+d)\n",
    "print(a*15)"
   ]
  },
  {
   "cell_type": "markdown",
   "id": "57d9dc3f-6477-4b28-97d1-1d72e5705b17",
   "metadata": {},
   "source": [
    "Strings behave similarly to another important data type, that of the `list`. "
   ]
  },
  {
   "cell_type": "code",
   "execution_count": null,
   "id": "3279cdf2-464a-4fa5-af94-ac61b419c49a",
   "metadata": {},
   "outputs": [],
   "source": []
  },
  {
   "cell_type": "code",
   "execution_count": null,
   "id": "870204ef-e382-4320-8388-2784efe2a692",
   "metadata": {},
   "outputs": [],
   "source": []
  },
  {
   "cell_type": "code",
   "execution_count": null,
   "id": "d1acd9be-48fb-486e-b622-d6a178fbd2b9",
   "metadata": {},
   "outputs": [],
   "source": []
  }
 ],
 "metadata": {
  "kernelspec": {
   "display_name": "Python 3 (ipykernel)",
   "language": "python",
   "name": "python3"
  },
  "language_info": {
   "codemirror_mode": {
    "name": "ipython",
    "version": 3
   },
   "file_extension": ".py",
   "mimetype": "text/x-python",
   "name": "python",
   "nbconvert_exporter": "python",
   "pygments_lexer": "ipython3",
   "version": "3.10.12"
  }
 },
 "nbformat": 4,
 "nbformat_minor": 5
}
