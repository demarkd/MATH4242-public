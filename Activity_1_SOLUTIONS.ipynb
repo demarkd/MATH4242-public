{
 "cells": [
  {
   "cell_type": "markdown",
   "id": "ddfb435c-f4c3-4ed2-98ba-df6ebc434e0f",
   "metadata": {},
   "source": [
    "# TODO Expamnd on generative AI\n",
    "# TODO decide whether to split this somehow"
   ]
  },
  {
   "cell_type": "markdown",
   "id": "9b182e8a-e572-4064-8652-6b7110d51e1e",
   "metadata": {},
   "source": [
    "# Activity 1: Introduction to Python and NumPy\n",
    "## What is this?\n",
    "\n",
    "Welcome to MATH 4242!\n",
    "In these activities, we'll be exploring the material from class with hands-on computational activities.\n",
    "One goal is to teach the usage of three key tools in concert with each other:\n",
    "\n",
    "- **Python:** Python 3 is the programming language we'll be using for the semester.\n",
    "Python is very versatile, and can be used in a great variety of ways for many different purposes.\n",
    "Some of these purposes common today include data science and machine learning, in part motivating the decision to use it for MATH 4242.\n",
    "Python is highly *extensible* meaning that in addition to the functionality offered by \"base\" Python, there are a great many *libraries* made by Python developers around the world which add additional features.\n",
    "One of these libraries in particular will be highly relevant to us:\n",
    "- **NumPy:**  NumPy (**Num**erical **Py**thon) is a Python library which adds better support for numerical computations, particularly in linear algebra.\n",
    "NumPy provides the `ndarray` data type which will be our primary method of modeling matrices and vectors, as well as an extensive selection of tools for manipulating them.\n",
    "\n",
    "- **jupyter:** Jupyter is the platform you're using right now!\n",
    "Jupyter provides *notebooks,* which are the environment this is appearing in.\n",
    "A notebook is comprised of *cells* which may contain *markdown* or code.\n",
    "*Markdown* is a way of creating formatted text.\n",
    "This cell is an example of markdown.\n",
    "\n",
    "### How to use these notebooks\n",
    "These activities are intended to be truly **interactive**.\n",
    "Some example code will be provided, but whether in the context of an exercise or an example, you will be asked to fill many of the code cells. Especially in examples, you are invited and encouraged to discuss strategy and technique with your classmates and TA.\n",
    "Crucially, you are **strongly encouraged** never to run code without at least attempting to understand what it will do (or at least, not to move on to the next thing until you have understood the previous).\n",
    "Some very helpful tools are at your disposal to that end:\n",
    "\n",
    "- You can always add an additional code cell to a notebook to experiment!\n",
    "You are encouraged to do this frequently!\n",
    "- You can read the documentation for various function by using the `help` function. For instance, here is how we can get more information about the `abs` function:\n",
    "    ```Python\n",
    "    help(abs)\n",
    "    ```\n",
    "    This returns: \n",
    "    ```\n",
    "    Help on built-in function abs in module builtins:\n",
    "\n",
    "    abs(x, /)\n",
    "        Return the absolute value of the argument.\n",
    "    ```\n",
    "    You can also find documentation for all NumPy functions and objects on the [NumPy website](https://numpy.org/doc/2.1/) and all Python functions and objects on the [Python website](https://docs.python.org/3/).\n",
    "- Google and other search engines such as duckduckgo are your friend! When stuck, a good way to get going is to simply search \"NumPy [quick description of what you are stuck with].\"\n",
    "Often, the most helpful results are from the [Stack Exchange](https://stackexchange.com/) family of websites.\n",
    "You are **strongly discouraged** from using generative AI to answer questions.\n",
    "Using generative AI to complete any exercise is unambiguously academic dishonesty.\n",
    "Please do not do it.\n",
    "\n",
    "Each time you are asked to provide code, there will be a *test* for your code below the relevant code cell. \n",
    "Usually, there will be a comment in that cell with the desired output.\n",
    "If your output matches that comment, you know that your code at least works in that instance!\n",
    "Sometimes no desired output is provided. In that case, it is because there are theoretical methods to anticipate what the output should be from lecture or the textbook.\n",
    "If you don't know what the test should output, discuss with a classmate or your TA!\n",
    "Whether a test is provided or not, you are very much encouraged to write your own!\n",
    "\n",
    "To try out getting help, in the code cell below, use the `help` function to bring up help on the Python built-in `max` function.\n",
    "\n"
   ]
  },
  {
   "cell_type": "code",
   "execution_count": null,
   "id": "19c477f0-0ece-4e21-a720-2bd8afa159d6",
   "metadata": {},
   "outputs": [],
   "source": [
    "help(max)"
   ]
  },
  {
   "cell_type": "markdown",
   "id": "77b84654-664a-49f9-aa52-eacb075e5196",
   "metadata": {},
   "source": [
    "##  Python: variables, numbers, objects, types, strings, lists, loops, functions.\n",
    "This is intended as a very quick introduction. \n",
    "You are encouraged to seek out more resources to gain more familiarity and comfort with the language.\n",
    "For example, [this](https://www.w3schools.com/python/python_intro.asp) is a free tutorial which goes in significantly more depth.\n",
    "\n",
    "### Variables, Numbers, and Booleans\n",
    "\n",
    "One of the most basic features of the python language are *variables*.\n",
    "These are names which in general reference *data types*.\n",
    "We'll see examples of more complex types later, but let's start with some simple ones, such as numerical types.\n",
    "The below example makes use of the `print` function, which as you'll see provides information about its argument to output.\n",
    "**To evaluate a jupyter cell, hit shift-enter after selecting that cell.**"
   ]
  },
  {
   "cell_type": "code",
   "execution_count": null,
   "id": "65e316bc-7da1-4d76-b7f3-d311642f774f",
   "metadata": {},
   "outputs": [],
   "source": [
    "a=8\n",
    "b=3\n",
    "print(a+b) # addition\n",
    "print(a*b) # multiplication\n",
    "print(a-b) # subtraction\n",
    "print(a^b) # surprise! was that what you expected?\n",
    "print(a**b) # what do these last two do?"
   ]
  },
  {
   "cell_type": "markdown",
   "id": "81507f63-1050-4339-9139-fb9c37d4db5b",
   "metadata": {},
   "source": [
    "Much of Python's syntax is quite intuitive, but there are a few quirks to get used to--as you've now seen, exponentiation was handled differently than you may have expected.\n",
    "**In this case `^` functioned as addition**, while exponentiation is represented with `**`.\n",
    "One other subtlety comes about in division.\n",
    "Try out the following example."
   ]
  },
  {
   "cell_type": "code",
   "execution_count": null,
   "id": "f64be798-9e37-491b-902f-d53eba241ca8",
   "metadata": {},
   "outputs": [],
   "source": [
    "print(a//b) # what is this?\n",
    "print(a/b)  # how about this?"
   ]
  },
  {
   "cell_type": "markdown",
   "id": "c597dfa9-acc0-4fbc-abe0-0f7fd851cf33",
   "metadata": {},
   "source": [
    "You try! With $a=8$ and $b=3$, "
   ]
  },
  {
   "cell_type": "markdown",
   "id": "302e6e25-36cf-4d35-b765-ee185774ad05",
   "metadata": {},
   "source": [
    "Every object in Python has a *type*.\n",
    "You can check types using the `type` function.\n",
    "For example, try checking the type of `a` and `a/b` below."
   ]
  },
  {
   "cell_type": "code",
   "execution_count": null,
   "id": "96263e03-a486-4b8d-8a1d-32c38187c3dd",
   "metadata": {},
   "outputs": [],
   "source": [
    "type(a)"
   ]
  },
  {
   "cell_type": "code",
   "execution_count": null,
   "id": "7c982972-ccf8-45f5-a942-9a9c88b241d9",
   "metadata": {},
   "outputs": [],
   "source": [
    "type(a/b)"
   ]
  },
  {
   "cell_type": "markdown",
   "id": "025981dc-81cf-4705-8004-ab92de9a195b",
   "metadata": {},
   "source": [
    "Note they are different!\n",
    "The `int` type is used to represent whole numbers, while the `float` type is used to represent decimals.\n",
    "In our applications, we will be primarily working with `float`s. \n",
    "For the most part, we'll be able to sidestep these subtleties, but there will be cases in which some care will be necessary.\n",
    "# TODO BOOLEANS\n",
    "\n",
    "### Strings and Lists\n",
    "\n",
    "Another object which will come up for us are `string`s.\n",
    "These are a mode of storing text.\n",
    "Take a look at the example below. \n",
    "Try to come up with a way to print \"Hello world!!!\" 20 times, with a space in between each instance."
   ]
  },
  {
   "cell_type": "code",
   "execution_count": 61,
   "id": "2b14c20b-f572-41b2-839d-41e3ae460ee4",
   "metadata": {},
   "outputs": [
    {
     "name": "stdout",
     "output_type": "stream",
     "text": [
      "Hello World!\n",
      "HelloHelloHelloHelloHelloHelloHelloHelloHelloHelloHelloHelloHelloHelloHello\n"
     ]
    }
   ],
   "source": [
    "a= \"Hello\"\n",
    "b= \" \"\n",
    "c= \"World\"\n",
    "d= \"!\"\n",
    "print(a+b+c+d)\n",
    "print(a*15)"
   ]
  },
  {
   "cell_type": "markdown",
   "id": "57d9dc3f-6477-4b28-97d1-1d72e5705b17",
   "metadata": {},
   "source": [
    "Strings behave similarly to another important data type, that of the `list`.\n",
    "To form a `list`, simply put a sequence of values, separated by commas, into square brackets `[]`.\n",
    "For example, here is a list of some strings"
   ]
  },
  {
   "cell_type": "code",
   "execution_count": 62,
   "id": "3279cdf2-464a-4fa5-af94-ac61b419c49a",
   "metadata": {},
   "outputs": [
    {
     "data": {
      "text/plain": [
       "['Hello World!',\n",
       " 'Hello  WorldWorldWorld!!!!',\n",
       " '!WorldWorld   HelloHelloHelloHello',\n",
       " 'Hello!World!Hello!',\n",
       " 'Hello! Hello! Hello! Hello! Hello! ',\n",
       " 'World! World! World! ']"
      ]
     },
     "execution_count": 62,
     "metadata": {},
     "output_type": "execute_result"
    }
   ],
   "source": [
    "A=[a+b+c+d,a+2*b+3*c+4*d,d+2*c+3*b+4*a,a+d+c+d+a+d,5*(a+d+b),3*(c+d+b)]\n",
    "A"
   ]
  },
  {
   "cell_type": "markdown",
   "id": "c2301ada-61bf-4837-93c4-d900d15a036a",
   "metadata": {},
   "source": [
    "Lists are *indexed* with square brackets as well.\n",
    "This is, in essence, a means of calling elements of a list or a range within.\n",
    "Here's an example using the previous list:"
   ]
  },
  {
   "cell_type": "code",
   "execution_count": 63,
   "id": "d1acd9be-48fb-486e-b622-d6a178fbd2b9",
   "metadata": {},
   "outputs": [
    {
     "name": "stdout",
     "output_type": "stream",
     "text": [
      "Hello World!\n",
      "World! World! World! \n",
      "World! World! World! \n",
      "['Hello  WorldWorldWorld!!!!', '!WorldWorld   HelloHelloHelloHello']\n",
      "['!WorldWorld   HelloHelloHelloHello', 'Hello!World!Hello!', 'Hello! Hello! Hello! Hello! Hello! ', 'World! World! World! ']\n",
      "['Hello World!', 'Hello  WorldWorldWorld!!!!', '!WorldWorld   HelloHelloHelloHello']\n"
     ]
    }
   ],
   "source": [
    "print(A[0])     #lists are always indexed starting at 0\n",
    "print(A[5])     #our list has six elements, so 5 is the last one (since we started at 0)\n",
    "print(A[-1])    #negative indexing starts at the end with -1 (so this is the same as A[5])\n",
    "print(A[1:3])   #gives list items 1 and 2 (in general, it includes the part before the colon, but not the part after)\n",
    "print(A[2:])    #start at item 2 (inclusive) until the end\n",
    "print(A[:3])    #start at the beginning and end at item 3 (exclusive)"
   ]
  },
  {
   "cell_type": "markdown",
   "id": "a016c694-4ad8-400c-9fee-da79046e0f0e",
   "metadata": {},
   "source": [
    "**You try!** print the list that starts at the beginning and ends after item 3 (`'Hello!World!Hello!'`). Then, print the list that starts at item 4 and goes until the end."
   ]
  },
  {
   "cell_type": "code",
   "execution_count": 64,
   "id": "a247c17f-5345-458e-ac6f-84b3daae6e9c",
   "metadata": {},
   "outputs": [
    {
     "name": "stdout",
     "output_type": "stream",
     "text": [
      "['Hello World!', 'Hello  WorldWorldWorld!!!!', '!WorldWorld   HelloHelloHelloHello', 'Hello!World!Hello!']\n"
     ]
    }
   ],
   "source": [
    "#SOLUTION\n",
    "print(A[:4])"
   ]
  },
  {
   "cell_type": "markdown",
   "id": "8dfb7385-0f48-421c-afbc-f5890c10b717",
   "metadata": {},
   "source": [
    "The same indexing works on strings:"
   ]
  },
  {
   "cell_type": "code",
   "execution_count": 65,
   "id": "115da6ca-38cb-4b0f-9001-ed17afae2229",
   "metadata": {},
   "outputs": [
    {
     "name": "stdout",
     "output_type": "stream",
     "text": [
      "World!Hello World!H\n",
      "WrdHloWrdH\n",
      "H!dlroW olleH!dlroW\n"
     ]
    }
   ],
   "source": [
    "f=5*(a+b+c+d)\n",
    "print(f[6:25])\n",
    "print(f[6:25:2]) #The third digit tells us to increment by that many as we go from item to item\n",
    "print(f[24:5:-1]) #it accepts negative arguments\n",
    "                   "
   ]
  },
  {
   "cell_type": "markdown",
   "id": "3534298f-57be-424b-9a43-ae04b42be5e1",
   "metadata": {},
   "source": [
    "Now **you try!** How would you print starting six characters from the end and ending on the sixth character, incrementing backwards and skipping every other letter?"
   ]
  },
  {
   "cell_type": "code",
   "execution_count": 66,
   "id": "1a08d870-0bd9-407e-a0c1-8b60c5865c6b",
   "metadata": {},
   "outputs": [
    {
     "name": "stdout",
     "output_type": "stream",
     "text": [
      "WolHdrWolHdrWolHdrWolHdrW\n"
     ]
    }
   ],
   "source": [
    "#SOLUTION: \n",
    "print(f[-6:5:-2])\n",
    "#desired output:\n",
    "#WolHdrWolHdrWolHdrWolHdrW"
   ]
  },
  {
   "cell_type": "markdown",
   "id": "5fc4fccd-404b-461e-8895-28f795a74512",
   "metadata": {},
   "source": [
    "We'll be revisiting lists in greater detail soon once we start working with NumPy!\n",
    "### Loops and Iteration"
   ]
  },
  {
   "cell_type": "markdown",
   "id": "4f5dde61-ecda-4a65-a959-bad28986ce5f",
   "metadata": {},
   "source": [
    "Often, we'll want to automate repetitive tasks.\n",
    "Python supplies *loops* for this purpose.\n",
    "For instance, suppose I have a recursive function given by the formula $a_n=(1-2a_{n-1})/3$ and wanted to know what $a_10$ would be if I started with $a_0=1$.\n",
    "The following loop does just that:"
   ]
  },
  {
   "cell_type": "code",
   "execution_count": 55,
   "id": "9639151b-e6ea-4487-8bf4-f4df22fccfce",
   "metadata": {},
   "outputs": [
    {
     "name": "stdout",
     "output_type": "stream",
     "text": [
      "a_ 0 = 1\n",
      "a_ 1 = -0.3333333333333333\n",
      "a_ 2 = 0.5555555555555555\n",
      "a_ 3 = -0.03703703703703698\n",
      "a_ 4 = 0.35802469135802467\n",
      "a_ 5 = 0.09465020576131689\n",
      "a_ 6 = 0.27023319615912206\n",
      "a_ 7 = 0.15317786922725196\n",
      "a_ 8 = 0.23121475384849868\n",
      "a_ 9 = 0.1791901641010009\n"
     ]
    },
    {
     "data": {
      "text/plain": [
       "0.21387322393266608"
      ]
     },
     "execution_count": 55,
     "metadata": {},
     "output_type": "execute_result"
    }
   ],
   "source": [
    "a=1\n",
    "for n in range(10):   #This says I am letting n=0, performing the code below it, then letting n=1, then n=2, etc. through n=9.\n",
    "    #It is exclusive of the argument (so range(10) is 0,1,2,...,9, *not* including 10).\n",
    "    #Notice the colon at the end! You will get an error without one!\n",
    "    #each new line in the loop must start with a tab\n",
    "    print(\"a_\",n,\"=\",a) #check in on current value--think through why the indexing makes sense!\n",
    "    a=(1-2*a)/3         #find a_n from a_{n-1}\n",
    "a   #this is outside of the loop because it doesn't start with a tab\n"
   ]
  },
  {
   "cell_type": "markdown",
   "id": "fed2efb4-0fb2-4e7a-a9be-876dc3bf0507",
   "metadata": {},
   "source": [
    "Note that in the line `a=(1-2*a)/3`, we referenced the value of the variable we were changing! \n",
    "\n",
    "### Exercise 1\n",
    "**Exercise: (a):** Alter the above to compute the 15th term of the recursive sequence $b_n=(1+2b_{n-1})/4$ starting with $b_0=2$.\n",
    "To check that your code is working as intended, here's the first few terms:\n",
    "```\n",
    "b_ 0 = 2\n",
    "b_ 1 = 1.25\n",
    "b_ 2 = 0.875\n",
    "b_ 3 = 0.6875\n",
    "```\n"
   ]
  },
  {
   "cell_type": "code",
   "execution_count": 56,
   "id": "8fcced2e-04f4-4ef8-a2ca-383127a132a2",
   "metadata": {},
   "outputs": [
    {
     "name": "stdout",
     "output_type": "stream",
     "text": [
      "b_ 0 = 2\n",
      "b_ 1 = 1.25\n",
      "b_ 2 = 0.875\n",
      "b_ 3 = 0.6875\n",
      "b_ 4 = 0.59375\n",
      "b_ 5 = 0.546875\n",
      "b_ 6 = 0.5234375\n",
      "b_ 7 = 0.51171875\n",
      "b_ 8 = 0.505859375\n",
      "b_ 9 = 0.5029296875\n",
      "b_ 10 = 0.50146484375\n",
      "b_ 11 = 0.500732421875\n",
      "b_ 12 = 0.5003662109375\n",
      "b_ 13 = 0.50018310546875\n",
      "b_ 14 = 0.500091552734375\n"
     ]
    },
    {
     "data": {
      "text/plain": [
       "0.21387322393266608"
      ]
     },
     "execution_count": 56,
     "metadata": {},
     "output_type": "execute_result"
    }
   ],
   "source": [
    "#SOLUTION\n",
    "b=2\n",
    "for n in range(15):   \n",
    "    print(\"b_\",n,\"=\",b)\n",
    "    b=(1+2*b)/4         #find b_n from b_{n-1}\n",
    "a"
   ]
  },
  {
   "cell_type": "markdown",
   "id": "3535d6e9-7076-4c9d-b427-3169a0b7d14c",
   "metadata": {},
   "source": [
    "**(b)** Consider the *two-variable* recursion given by $c_n=\\frac{(c_{n-1}+d_{n-1})}{2c_{n-1}d_{n-1}}$ , $d_n=\\frac{c_{n-1}^2}{c_{n-1}+d_{n-1}}$. Find $c_{20}$ and $d_{20}$ when $c_0=d_0=1$. Like before, print out $c_n$ and $d_n$ for each $n$.\n",
    "\n",
    "To check your sequence is working, here are the first few terms:\n",
    "```\n",
    "c_ 0 = 1 ; d_ 0 = 1\n",
    "c_ 1 = 1.0 ; d_ 1 = 0.5\n",
    "c_ 2 = 1.5 ; d_ 2 = 0.6666666666666666\n",
    "c_ 3 = 1.0833333333333333 ; d_ 3 = 1.0384615384615385\n",
    "```\n",
    "\n",
    "<details>\n",
    "    <summary> <b> Hint:</b> (click here to open)</summary>\n",
    "\n",
    "- if you copy the method of the above exactly, you may find yourself overwriting variables you need to store. Introducing a new variable (say, \"`a_last`\") is one way out of that pickle.    \n",
    "</details>"
   ]
  },
  {
   "cell_type": "code",
   "execution_count": 57,
   "id": "a872dc92-4249-477b-b889-b559517a7be4",
   "metadata": {},
   "outputs": [
    {
     "name": "stdout",
     "output_type": "stream",
     "text": [
      "c_ 0 = 1 ; d_ 0 = 1\n",
      "c_ 1 = 1.0 ; d_ 1 = 0.5\n",
      "c_ 2 = 1.5 ; d_ 2 = 0.6666666666666666\n",
      "c_ 3 = 1.0833333333333333 ; d_ 3 = 1.0384615384615385\n",
      "c_ 4 = 0.9430199430199431 ; d_ 4 = 0.5531218529707955\n",
      "c_ 5 = 1.4341714257426015 ; d_ 5 = 0.5943865850926616\n",
      "c_ 6 = 1.1898367305135804 ; d_ 6 = 1.0139457030216528\n",
      "c_ 7 = 0.9133487750796235 ; d_ 7 = 0.6424007305513414\n",
      "c_ 8 = 1.3257663726112152 ; d_ 8 = 0.5362084203916363\n",
      "c_ 9 = 1.3096135889479223 ; d_ 9 = 0.9439743660074392\n",
      "c_ 10 = 0.9114674067046931 ; d_ 10 = 0.7610476212325291\n",
      "c_ 11 = 1.2055550785810731 ; d_ 11 = 0.49672069883258557\n",
      "c_ 12 = 1.4213486094540662 ; d_ 12 = 0.8537764954282406\n",
      "c_ 13 = 0.9374119458389393 ; d_ 13 = 0.8879651783814829\n",
      "c_ 14 = 1.0964685746942768 ; d_ 14 = 0.4814025247395588\n",
      "c_ 15 = 1.4946412817662986 ; d_ 15 = 0.7619401456326073\n",
      "c_ 16 = 0.9907479534770298 ; d_ 16 = 0.9899720586351785\n",
      "c_ 17 = 1.0097339829277991 ; d_ 17 = 0.4955680264330645\n",
      "c_ 18 = 1.504123146401427 ; d_ 18 = 0.6773143926859788\n",
      "c_ 19 = 1.0706292095844487 ; d_ 19 = 1.03710805329177\n",
      "0.9491249353898374 0.543828172801411\n"
     ]
    }
   ],
   "source": [
    "##SOLUTION:\n",
    "c=1\n",
    "d=1\n",
    "for n in range(20):\n",
    "    print(\"c_\",n,\"=\",c,\"; d_\",n,\"=\",d)\n",
    "    c_last=c\n",
    "    #b_last=b #Not necessary!\n",
    "    c=((c+d))/(2*(c*d))\n",
    "    d=c_last**2/(c_last+d)\n",
    "print(c,d)\n",
    "     "
   ]
  },
  {
   "cell_type": "markdown",
   "id": "b9fe6992-564a-4026-a6d0-43489d9ccc7f",
   "metadata": {},
   "source": [
    "### Functions\n",
    "\n",
    "Sometimes, we'll want to perform the same process to a variety of different inputs.\n",
    "For instance, we can alter our code from the example above to compute $a_N$ for any $N$ and any value for $a_0$, rather than just $N=10$ and $a_0=1$."
   ]
  },
  {
   "cell_type": "code",
   "execution_count": 68,
   "id": "aba82729-5c55-4ebc-8b35-a916f595df38",
   "metadata": {},
   "outputs": [
    {
     "name": "stdout",
     "output_type": "stream",
     "text": [
      "a_ 0 = 3\n",
      "a_ 1 = -1.6666666666666667\n",
      "a_ 2 = 1.4444444444444446\n",
      "a_ 3 = -0.6296296296296298\n",
      "a_ 4 = 0.7530864197530865\n",
      "a_ 5 = -0.16872427983539104\n",
      "a_ 6 = 0.4458161865569274\n",
      "a_ 7 = 0.036122542295381734\n",
      "a_ 8 = 0.3092516384697455\n",
      "a_ 9 = 0.12716557435350298\n",
      "a_ 10 = 0.24855628376433136\n",
      "a_ 11 = 0.16762914415711241\n",
      "a_ 12 = 0.22158057056192507\n",
      "a_ 13 = 0.18561295295871663\n",
      "a_ 14 = 0.20959136469418893\n",
      "a_ 15 = 0.1936057568705407\n",
      "a_ 16 = 0.20426282875297286\n",
      "a_ 17 = 0.19715811416468476\n",
      "a_ 18 = 0.20189459055687684\n",
      "a_ 19 = 0.19873693962874875\n"
     ]
    },
    {
     "data": {
      "text/plain": [
       "0.20084204024750085"
      ]
     },
     "execution_count": 68,
     "metadata": {},
     "output_type": "execute_result"
    }
   ],
   "source": [
    "def a_N(N,a_0):  #This says our function takes two arguments, N and a_0\n",
    "    #once again, the colon is necessary and everything within the function will start with a tab\n",
    "    a=a_0         #generalizing from above--a is the variable we'll work with, a_0 is supplied by argument\n",
    "    for n in range(N): # generalizing from above\n",
    "        #now, we need two tabs to place code in the loop.\n",
    "        print(\"a_\",n,\"=\",a)\n",
    "        a=(1-2*a)/3\n",
    "    return a      #every function has to end with a return line\n",
    "a_N(20,3)  #This finds a_20 with a_0=3. \n",
    "           #the value at the bottom is what is computed in the line starting with \"return\"\n",
    "        "
   ]
  },
  {
   "cell_type": "markdown",
   "id": "322c5ca1-7193-4339-bfd9-c919874b3c03",
   "metadata": {},
   "source": [
    "We can write a function which performs the same using *recursion*.\n",
    "This is a function which calls itself to compute.\n",
    "This is best illustrated with a classic example.\n",
    "Recall that the factorial $n!$ is defined as $n*(n-1)*\\dots *2*1$ with the convention that $0!=1$.\n",
    "Equivalently, $n!$ can be defined as $n*(n-1)!$ along with the declaration $0!=1$.\n",
    "The following uses this latter definition to define the factorial in Python.\n",
    "\n",
    "This uses `if` and `else` *control sequences,* which are a means of structuring one's code.\n",
    "# TODO DECIDE WHEN I'M INTROING THAT\n",
    "# TODO EXPLAIN THE PRINTS ARE TOTALLY UNNECESSRY BUT WHY WE INCLUDED THEM IN THIS CASE"
   ]
  },
  {
   "cell_type": "code",
   "execution_count": 84,
   "id": "16dd1d07-2b73-4227-88f5-2ba5bf5b9b9f",
   "metadata": {},
   "outputs": [],
   "source": [
    "def my_factorial_looped(n):\n",
    "    prod=1\n",
    "    for k in range(n): \n",
    "        print(k)\n",
    "        prod=prod*(k+1) #why is the +1 necessary? what would we get without it?\n",
    "    return prod\n",
    "\n",
    "\n",
    "def my_factorial_recursive(n):\n",
    "    if n==0:\n",
    "        print(n)\n",
    "        return 1\n",
    "    else:\n",
    "        print(n)\n",
    "        return n*my_factorial_recursive(n-1)\n",
    "    "
   ]
  },
  {
   "cell_type": "code",
   "execution_count": 85,
   "id": "e3c45b54-a4b9-41b8-ac1e-2015026ab3e4",
   "metadata": {},
   "outputs": [
    {
     "name": "stdout",
     "output_type": "stream",
     "text": [
      "0\n",
      "1\n",
      "2\n",
      "3\n",
      "4\n",
      "5\n",
      "6\n",
      "7\n",
      "8\n",
      "9\n",
      "10\n",
      "11\n",
      "12\n",
      "13\n",
      "14\n"
     ]
    },
    {
     "data": {
      "text/plain": [
       "1307674368000"
      ]
     },
     "execution_count": 85,
     "metadata": {},
     "output_type": "execute_result"
    }
   ],
   "source": [
    "my_factorial_looped(15)"
   ]
  },
  {
   "cell_type": "code",
   "execution_count": 86,
   "id": "ca2673a8-fc70-438a-b32c-905a2c80ad1f",
   "metadata": {},
   "outputs": [
    {
     "name": "stdout",
     "output_type": "stream",
     "text": [
      "15\n",
      "14\n",
      "13\n",
      "12\n",
      "11\n",
      "10\n",
      "9\n",
      "8\n",
      "7\n",
      "6\n",
      "5\n",
      "4\n",
      "3\n",
      "2\n",
      "1\n",
      "0\n"
     ]
    },
    {
     "data": {
      "text/plain": [
       "1307674368000"
      ]
     },
     "execution_count": 86,
     "metadata": {},
     "output_type": "execute_result"
    }
   ],
   "source": [
    "my_factorial_recursive(15)"
   ]
  },
  {
   "cell_type": "markdown",
   "id": "1968c910-d93e-41b6-98f0-1b378437967a",
   "metadata": {},
   "source": [
    "## Introducing NumPy\n",
    "The very first thing to do with any library we utilize is to *import* it into the current project:"
   ]
  },
  {
   "cell_type": "code",
   "execution_count": 35,
   "id": "6333531d-41e0-4628-8f35-101123e7a02f",
   "metadata": {},
   "outputs": [],
   "source": [
    "import numpy as np"
   ]
  },
  {
   "cell_type": "markdown",
   "id": "e20ff422-3a1e-4b42-ba96-b0d250e64b1d",
   "metadata": {},
   "source": [
    "This allows us to use the library's functions and objects.\n",
    "To see a list of these, type `np.` into a cell and hit the \"Tab\" key--this will bring up the sublibraries and functions available.\n",
    "The basic object offered by `numpy` is the `ndarray`. \n",
    "One can instantiate an `ndarray` with the `np.array` function, as below.\n",
    "`np.array` takes a list as input.\n",
    "For a multidimensional array (such as a matrix), we use a list of lists, with each inner list representing a row.\n",
    "\n",
    "In certain applications, `ndarray`s with `int` entries can have unexpected behavior. \n",
    "To prevent this, we'll explicitly *declare* the type as `float64` when calling `np.array`--you are encouraged to get in the habit of including the `\"float64\"` at the end, as below."
   ]
  },
  {
   "cell_type": "code",
   "execution_count": 39,
   "id": "ee739b8b-667f-4077-82fc-f4ef05d7ba10",
   "metadata": {},
   "outputs": [
    {
     "data": {
      "text/plain": [
       "numpy.ndarray"
      ]
     },
     "execution_count": 39,
     "metadata": {},
     "output_type": "execute_result"
    }
   ],
   "source": [
    "A=np.array([[1,2],[3,4]],\"float64\")\n",
    "type(A)"
   ]
  },
  {
   "cell_type": "markdown",
   "id": "658979b1-5e96-4aa2-ab21-c8d450255ade",
   "metadata": {},
   "source": [
    "Every `ndarray` has a `shape`, giving its dimensions."
   ]
  },
  {
   "cell_type": "code",
   "execution_count": 40,
   "id": "b2db0abc-00f7-4288-836e-7ac92a8b7389",
   "metadata": {},
   "outputs": [
    {
     "data": {
      "text/plain": [
       "(2, 2)"
      ]
     },
     "execution_count": 40,
     "metadata": {},
     "output_type": "execute_result"
    }
   ],
   "source": [
    "A.shape #what do you expect it to be?"
   ]
  },
  {
   "cell_type": "code",
   "execution_count": 53,
   "id": "956d39fd-b49e-42be-9733-d6ce05bde2f7",
   "metadata": {},
   "outputs": [
    {
     "data": {
      "text/plain": [
       "(2,)"
      ]
     },
     "execution_count": 53,
     "metadata": {},
     "output_type": "execute_result"
    }
   ],
   "source": [
    "v=np.array([1,-3],\"float64\")\n",
    "v.shape"
   ]
  },
  {
   "cell_type": "markdown",
   "id": "dd1b7ab1-717a-42b2-8149-5044e3a62041",
   "metadata": {},
   "source": [
    "One can also use syntax similar to that of for loops to construct `ndarray`s. \n",
    "This will be a crucial tool for us."
   ]
  },
  {
   "cell_type": "code",
   "execution_count": 52,
   "id": "ad3c0d32-231b-4b0f-b2f3-70fd6946f278",
   "metadata": {},
   "outputs": [
    {
     "data": {
      "text/plain": [
       "array([ 0.,  1.,  4.,  9., 16.])"
      ]
     },
     "execution_count": 52,
     "metadata": {},
     "output_type": "execute_result"
    }
   ],
   "source": [
    "w=np.array([k**2 for k in range(5)],\"float64\")\n",
    "w"
   ]
  },
  {
   "cell_type": "code",
   "execution_count": 51,
   "id": "ea09d58a-e12e-4581-af65-4ebcfe2a4829",
   "metadata": {},
   "outputs": [
    {
     "data": {
      "text/plain": [
       "array([[ 0. , -0.5, -1. , -1.5, -2. ],\n",
       "       [ 1. ,  0.5,  0. , -0.5, -1. ]])"
      ]
     },
     "execution_count": 51,
     "metadata": {},
     "output_type": "execute_result"
    }
   ],
   "source": [
    "B=np.array([[i-j/2 for j in range(5)] for i in range(2)],\"float64\")\n",
    "B"
   ]
  },
  {
   "cell_type": "markdown",
   "id": "58c5b38c-c1c6-4bd4-afbc-aca0c58ff951",
   "metadata": {},
   "source": [
    "Indexing is similar to before, but now we can supply multiple index arguments."
   ]
  },
  {
   "cell_type": "code",
   "execution_count": 49,
   "id": "43baa6b5-b86b-47e9-a3c7-3d8a495cd8df",
   "metadata": {},
   "outputs": [
    {
     "data": {
      "text/plain": [
       "array([ 1. ,  0.5,  0. , -0.5, -1. ])"
      ]
     },
     "execution_count": 49,
     "metadata": {},
     "output_type": "execute_result"
    }
   ],
   "source": [
    "B[1] #the 1-indexed row"
   ]
  },
  {
   "cell_type": "code",
   "execution_count": 50,
   "id": "f15dd824-7bff-4ae5-add9-097b9a4f4fe9",
   "metadata": {},
   "outputs": [
    {
     "name": "stdout",
     "output_type": "stream",
     "text": [
      "0.0\n",
      "0.0\n"
     ]
    }
   ],
   "source": [
    "print(B[1][2]) #the 2-indexed entry of the 1-indexed row\\\n",
    "print(B[1,2]) #this is exactly the same"
   ]
  },
  {
   "cell_type": "code",
   "execution_count": null,
   "id": "120c919b-8e72-4877-82b2-36b5b99b99b9",
   "metadata": {},
   "outputs": [],
   "source": []
  }
 ],
 "metadata": {
  "kernelspec": {
   "display_name": "Python 3 (ipykernel)",
   "language": "python",
   "name": "python3"
  },
  "language_info": {
   "codemirror_mode": {
    "name": "ipython",
    "version": 3
   },
   "file_extension": ".py",
   "mimetype": "text/x-python",
   "name": "python",
   "nbconvert_exporter": "python",
   "pygments_lexer": "ipython3",
   "version": "3.10.12"
  }
 },
 "nbformat": 4,
 "nbformat_minor": 5
}
